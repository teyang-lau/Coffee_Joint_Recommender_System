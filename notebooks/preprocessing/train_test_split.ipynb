{
 "cells": [
  {
   "cell_type": "code",
   "execution_count": 1,
   "metadata": {},
   "outputs": [],
   "source": [
    "import pandas as pd"
   ]
  },
  {
   "cell_type": "code",
   "execution_count": 2,
   "metadata": {},
   "outputs": [],
   "source": [
    "PATH = '../../data/'"
   ]
  },
  {
   "cell_type": "code",
   "execution_count": 42,
   "metadata": {},
   "outputs": [
    {
     "data": {
      "text/html": [
       "<div>\n",
       "<style scoped>\n",
       "    .dataframe tbody tr th:only-of-type {\n",
       "        vertical-align: middle;\n",
       "    }\n",
       "\n",
       "    .dataframe tbody tr th {\n",
       "        vertical-align: top;\n",
       "    }\n",
       "\n",
       "    .dataframe thead th {\n",
       "        text-align: right;\n",
       "    }\n",
       "</style>\n",
       "<table border=\"1\" class=\"dataframe\">\n",
       "  <thead>\n",
       "    <tr style=\"text-align: right;\">\n",
       "      <th></th>\n",
       "      <th>shop</th>\n",
       "      <th>userid</th>\n",
       "      <th>userinfo</th>\n",
       "      <th>rating</th>\n",
       "      <th>date</th>\n",
       "      <th>photos</th>\n",
       "      <th>username</th>\n",
       "      <th>language</th>\n",
       "      <th>text</th>\n",
       "    </tr>\n",
       "  </thead>\n",
       "  <tbody>\n",
       "    <tr>\n",
       "      <th>0</th>\n",
       "      <td>nylon-coffee-roasters-singapore</td>\n",
       "      <td>AbfS_oXF8H6HJb5jFqhrLw</td>\n",
       "      <td>{'link': '/user_details?userid=AbfS_oXF8H6HJb5...</td>\n",
       "      <td>5.0</td>\n",
       "      <td>2016-04-11</td>\n",
       "      <td>[]</td>\n",
       "      <td>Paco G.</td>\n",
       "      <td>en</td>\n",
       "      <td>A comfortable, no-frills coffee shop right in ...</td>\n",
       "    </tr>\n",
       "    <tr>\n",
       "      <th>1</th>\n",
       "      <td>nylon-coffee-roasters-singapore</td>\n",
       "      <td>ymiohz-DlNLHGAlXbVhw5A</td>\n",
       "      <td>{'link': '/user_details?userid=ymiohz-DlNLHGAl...</td>\n",
       "      <td>4.0</td>\n",
       "      <td>2019-11-11</td>\n",
       "      <td>[{'src': 'https://s3-media0.fl.yelpcdn.com/bph...</td>\n",
       "      <td>Sudipto G.</td>\n",
       "      <td>en</td>\n",
       "      <td>A hard to find coffee place tucked away in the...</td>\n",
       "    </tr>\n",
       "    <tr>\n",
       "      <th>2</th>\n",
       "      <td>nylon-coffee-roasters-singapore</td>\n",
       "      <td>-g3XIcCb2b-BD0QBCcq2Sw</td>\n",
       "      <td>{'link': '/user_details?userid=-g3XIcCb2b-BD0Q...</td>\n",
       "      <td>4.0</td>\n",
       "      <td>2019-12-13</td>\n",
       "      <td>[{'src': 'https://s3-media0.fl.yelpcdn.com/bph...</td>\n",
       "      <td>Lisa I.</td>\n",
       "      <td>en</td>\n",
       "      <td>Great little coffee shop that's in the middle ...</td>\n",
       "    </tr>\n",
       "    <tr>\n",
       "      <th>3</th>\n",
       "      <td>nylon-coffee-roasters-singapore</td>\n",
       "      <td>gfyW0vuJls8ARoHmogfcmw</td>\n",
       "      <td>{'link': '/user_details?userid=gfyW0vuJls8ARoH...</td>\n",
       "      <td>4.0</td>\n",
       "      <td>2020-02-06</td>\n",
       "      <td>[]</td>\n",
       "      <td>Marilyn T.</td>\n",
       "      <td>en</td>\n",
       "      <td>This place came highly recommended by a friend...</td>\n",
       "    </tr>\n",
       "    <tr>\n",
       "      <th>4</th>\n",
       "      <td>nylon-coffee-roasters-singapore</td>\n",
       "      <td>jkr3YVCEoRNKkxinUZpW6A</td>\n",
       "      <td>{'link': '/user_details?userid=jkr3YVCEoRNKkxi...</td>\n",
       "      <td>3.0</td>\n",
       "      <td>2015-02-12</td>\n",
       "      <td>[]</td>\n",
       "      <td>Joanne G.</td>\n",
       "      <td>en</td>\n",
       "      <td>My great auntie has lived at Everton Park for ...</td>\n",
       "    </tr>\n",
       "  </tbody>\n",
       "</table>\n",
       "</div>"
      ],
      "text/plain": [
       "                              shop                  userid  \\\n",
       "0  nylon-coffee-roasters-singapore  AbfS_oXF8H6HJb5jFqhrLw   \n",
       "1  nylon-coffee-roasters-singapore  ymiohz-DlNLHGAlXbVhw5A   \n",
       "2  nylon-coffee-roasters-singapore  -g3XIcCb2b-BD0QBCcq2Sw   \n",
       "3  nylon-coffee-roasters-singapore  gfyW0vuJls8ARoHmogfcmw   \n",
       "4  nylon-coffee-roasters-singapore  jkr3YVCEoRNKkxinUZpW6A   \n",
       "\n",
       "                                            userinfo  rating       date  \\\n",
       "0  {'link': '/user_details?userid=AbfS_oXF8H6HJb5...     5.0 2016-04-11   \n",
       "1  {'link': '/user_details?userid=ymiohz-DlNLHGAl...     4.0 2019-11-11   \n",
       "2  {'link': '/user_details?userid=-g3XIcCb2b-BD0Q...     4.0 2019-12-13   \n",
       "3  {'link': '/user_details?userid=gfyW0vuJls8ARoH...     4.0 2020-02-06   \n",
       "4  {'link': '/user_details?userid=jkr3YVCEoRNKkxi...     3.0 2015-02-12   \n",
       "\n",
       "                                              photos    username language  \\\n",
       "0                                                 []     Paco G.       en   \n",
       "1  [{'src': 'https://s3-media0.fl.yelpcdn.com/bph...  Sudipto G.       en   \n",
       "2  [{'src': 'https://s3-media0.fl.yelpcdn.com/bph...     Lisa I.       en   \n",
       "3                                                 []  Marilyn T.       en   \n",
       "4                                                 []   Joanne G.       en   \n",
       "\n",
       "                                                text  \n",
       "0  A comfortable, no-frills coffee shop right in ...  \n",
       "1  A hard to find coffee place tucked away in the...  \n",
       "2  Great little coffee shop that's in the middle ...  \n",
       "3  This place came highly recommended by a friend...  \n",
       "4  My great auntie has lived at Everton Park for ...  "
      ]
     },
     "execution_count": 42,
     "metadata": {},
     "output_type": "execute_result"
    }
   ],
   "source": [
    "reviews = pd.read_csv(PATH + 'processed/' + 'sg_coffee_reviews_final.csv')\n",
    "reviews['date'] = pd.to_datetime(reviews['date'])\n",
    "reviews.head()"
   ]
  },
  {
   "cell_type": "code",
   "execution_count": 43,
   "metadata": {},
   "outputs": [],
   "source": [
    "MIN_REVIEWS = 3"
   ]
  },
  {
   "cell_type": "code",
   "execution_count": 44,
   "metadata": {},
   "outputs": [
    {
     "data": {
      "text/html": [
       "<div>\n",
       "<style scoped>\n",
       "    .dataframe tbody tr th:only-of-type {\n",
       "        vertical-align: middle;\n",
       "    }\n",
       "\n",
       "    .dataframe tbody tr th {\n",
       "        vertical-align: top;\n",
       "    }\n",
       "\n",
       "    .dataframe thead th {\n",
       "        text-align: right;\n",
       "    }\n",
       "</style>\n",
       "<table border=\"1\" class=\"dataframe\">\n",
       "  <thead>\n",
       "    <tr style=\"text-align: right;\">\n",
       "      <th></th>\n",
       "      <th>shop</th>\n",
       "      <th>userid</th>\n",
       "      <th>userinfo</th>\n",
       "      <th>rating</th>\n",
       "      <th>date</th>\n",
       "      <th>photos</th>\n",
       "      <th>username</th>\n",
       "      <th>language</th>\n",
       "      <th>text</th>\n",
       "      <th>num_reviews</th>\n",
       "    </tr>\n",
       "  </thead>\n",
       "  <tbody>\n",
       "    <tr>\n",
       "      <th>0</th>\n",
       "      <td>nylon-coffee-roasters-singapore</td>\n",
       "      <td>AbfS_oXF8H6HJb5jFqhrLw</td>\n",
       "      <td>{'link': '/user_details?userid=AbfS_oXF8H6HJb5...</td>\n",
       "      <td>5.0</td>\n",
       "      <td>2016-04-11</td>\n",
       "      <td>[]</td>\n",
       "      <td>Paco G.</td>\n",
       "      <td>en</td>\n",
       "      <td>A comfortable, no-frills coffee shop right in ...</td>\n",
       "      <td>11</td>\n",
       "    </tr>\n",
       "    <tr>\n",
       "      <th>1</th>\n",
       "      <td>nylon-coffee-roasters-singapore</td>\n",
       "      <td>ymiohz-DlNLHGAlXbVhw5A</td>\n",
       "      <td>{'link': '/user_details?userid=ymiohz-DlNLHGAl...</td>\n",
       "      <td>4.0</td>\n",
       "      <td>2019-11-11</td>\n",
       "      <td>[{'src': 'https://s3-media0.fl.yelpcdn.com/bph...</td>\n",
       "      <td>Sudipto G.</td>\n",
       "      <td>en</td>\n",
       "      <td>A hard to find coffee place tucked away in the...</td>\n",
       "      <td>48</td>\n",
       "    </tr>\n",
       "    <tr>\n",
       "      <th>4</th>\n",
       "      <td>nylon-coffee-roasters-singapore</td>\n",
       "      <td>jkr3YVCEoRNKkxinUZpW6A</td>\n",
       "      <td>{'link': '/user_details?userid=jkr3YVCEoRNKkxi...</td>\n",
       "      <td>3.0</td>\n",
       "      <td>2015-02-12</td>\n",
       "      <td>[]</td>\n",
       "      <td>Joanne G.</td>\n",
       "      <td>en</td>\n",
       "      <td>My great auntie has lived at Everton Park for ...</td>\n",
       "      <td>8</td>\n",
       "    </tr>\n",
       "    <tr>\n",
       "      <th>5</th>\n",
       "      <td>nylon-coffee-roasters-singapore</td>\n",
       "      <td>K4ZeG8WAPfTS1AjD5GoJTw</td>\n",
       "      <td>{'link': '/user_details?userid=K4ZeG8WAPfTS1Aj...</td>\n",
       "      <td>4.0</td>\n",
       "      <td>2014-11-15</td>\n",
       "      <td>[{'src': 'https://s3-media0.fl.yelpcdn.com/bph...</td>\n",
       "      <td>Tzeko M.</td>\n",
       "      <td>en</td>\n",
       "      <td>This coffee shop's so hipster it hurts. But I ...</td>\n",
       "      <td>20</td>\n",
       "    </tr>\n",
       "    <tr>\n",
       "      <th>7</th>\n",
       "      <td>nylon-coffee-roasters-singapore</td>\n",
       "      <td>O2itSY4F2jnPRXaxdVGOkQ</td>\n",
       "      <td>{'link': '/user_details?userid=O2itSY4F2jnPRXa...</td>\n",
       "      <td>5.0</td>\n",
       "      <td>2015-11-30</td>\n",
       "      <td>[{'src': 'https://s3-media0.fl.yelpcdn.com/bph...</td>\n",
       "      <td>Wan Qi T.</td>\n",
       "      <td>en</td>\n",
       "      <td>My first reaction when checked in here, \"OMG S...</td>\n",
       "      <td>6</td>\n",
       "    </tr>\n",
       "  </tbody>\n",
       "</table>\n",
       "</div>"
      ],
      "text/plain": [
       "                              shop                  userid  \\\n",
       "0  nylon-coffee-roasters-singapore  AbfS_oXF8H6HJb5jFqhrLw   \n",
       "1  nylon-coffee-roasters-singapore  ymiohz-DlNLHGAlXbVhw5A   \n",
       "4  nylon-coffee-roasters-singapore  jkr3YVCEoRNKkxinUZpW6A   \n",
       "5  nylon-coffee-roasters-singapore  K4ZeG8WAPfTS1AjD5GoJTw   \n",
       "7  nylon-coffee-roasters-singapore  O2itSY4F2jnPRXaxdVGOkQ   \n",
       "\n",
       "                                            userinfo  rating       date  \\\n",
       "0  {'link': '/user_details?userid=AbfS_oXF8H6HJb5...     5.0 2016-04-11   \n",
       "1  {'link': '/user_details?userid=ymiohz-DlNLHGAl...     4.0 2019-11-11   \n",
       "4  {'link': '/user_details?userid=jkr3YVCEoRNKkxi...     3.0 2015-02-12   \n",
       "5  {'link': '/user_details?userid=K4ZeG8WAPfTS1Aj...     4.0 2014-11-15   \n",
       "7  {'link': '/user_details?userid=O2itSY4F2jnPRXa...     5.0 2015-11-30   \n",
       "\n",
       "                                              photos    username language  \\\n",
       "0                                                 []     Paco G.       en   \n",
       "1  [{'src': 'https://s3-media0.fl.yelpcdn.com/bph...  Sudipto G.       en   \n",
       "4                                                 []   Joanne G.       en   \n",
       "5  [{'src': 'https://s3-media0.fl.yelpcdn.com/bph...    Tzeko M.       en   \n",
       "7  [{'src': 'https://s3-media0.fl.yelpcdn.com/bph...   Wan Qi T.       en   \n",
       "\n",
       "                                                text  num_reviews  \n",
       "0  A comfortable, no-frills coffee shop right in ...           11  \n",
       "1  A hard to find coffee place tucked away in the...           48  \n",
       "4  My great auntie has lived at Everton Park for ...            8  \n",
       "5  This coffee shop's so hipster it hurts. But I ...           20  \n",
       "7  My first reaction when checked in here, \"OMG S...            6  "
      ]
     },
     "execution_count": 44,
     "metadata": {},
     "output_type": "execute_result"
    }
   ],
   "source": [
    "reviews['num_reviews'] = reviews.groupby(['userid'])['rating'].transform('count')\n",
    "reviews = reviews.loc[reviews['num_reviews'] >= MIN_REVIEWS]\n",
    "reviews.head()"
   ]
  },
  {
   "cell_type": "code",
   "execution_count": 45,
   "metadata": {},
   "outputs": [
    {
     "name": "stdout",
     "output_type": "stream",
     "text": [
      "Number of unique users: 531\n",
      "Number of unique shops: 856\n",
      "Number of ratings: 4050\n",
      "Sparsity of dataset: 0.991089814668145\n"
     ]
    }
   ],
   "source": [
    "print('Number of unique users: {}'.format(len(reviews.userid.unique())))\n",
    "print('Number of unique shops: {}'.format(len(reviews.shop.unique())))\n",
    "print('Number of ratings: {}'.format(len(reviews)))\n",
    "sparsity = 1 - len(reviews) / (len(reviews.shop.unique()) * len(reviews.userid.unique()))\n",
    "print('Sparsity of dataset: {}'.format(sparsity))"
   ]
  },
  {
   "cell_type": "markdown",
   "metadata": {},
   "source": [
    "### Leave One Out"
   ]
  },
  {
   "cell_type": "code",
   "execution_count": 40,
   "metadata": {},
   "outputs": [],
   "source": [
    "reviews = reviews.sort_values(['userid', 'date'], ascending=[True,True])\n",
    "val = reviews.groupby(['userid']).tail(2).groupby(['userid']).head(1).reset_index(drop=True)\n",
    "test = reviews.groupby(['userid']).tail(1).reset_index(drop=True)\n",
    "train = reviews[reviews.groupby(['userid']).cumcount(ascending=False) > 1].reset_index(drop=True)"
   ]
  },
  {
   "cell_type": "code",
   "execution_count": 49,
   "metadata": {},
   "outputs": [
    {
     "name": "stdout",
     "output_type": "stream",
     "text": [
      "Number of ratings in train set: 2988\n",
      "Number of ratings in val set: 531\n",
      "Number of ratings in test set: 531\n"
     ]
    }
   ],
   "source": [
    "print('Number of ratings in train set: {}'.format(train.shape[0]))\n",
    "print('Number of ratings in val set: {}'.format(val.shape[0]))\n",
    "print('Number of ratings in test set: {}'.format(test.shape[0]))"
   ]
  },
  {
   "cell_type": "code",
   "execution_count": null,
   "metadata": {},
   "outputs": [],
   "source": [
    "train.to_csv(PATH + 'processed/' + 'train_loo.csv', index=False)\n",
    "val.to_csv(PATH + 'processed/' + 'val_loo.csv', index=False)\n",
    "test.to_csv(PATH + 'processed/' + 'test_loo.csv', index=False)"
   ]
  }
 ],
 "metadata": {
  "interpreter": {
   "hash": "586d209818bf684a449db8f551e5b280da9ad8c053944ce342fb8dd6eec39ab8"
  },
  "kernelspec": {
   "display_name": "Python 3.9.4 64-bit",
   "language": "python",
   "name": "python3"
  },
  "language_info": {
   "codemirror_mode": {
    "name": "ipython",
    "version": 3
   },
   "file_extension": ".py",
   "mimetype": "text/x-python",
   "name": "python",
   "nbconvert_exporter": "python",
   "pygments_lexer": "ipython3",
   "version": "3.9.4"
  },
  "orig_nbformat": 4
 },
 "nbformat": 4,
 "nbformat_minor": 2
}
