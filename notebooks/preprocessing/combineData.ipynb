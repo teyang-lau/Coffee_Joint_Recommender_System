{
 "cells": [
  {
   "cell_type": "code",
   "execution_count": 1,
   "metadata": {},
   "outputs": [],
   "source": [
    "import pandas as pd\n",
    "import numpy as np\n",
    "import os"
   ]
  },
  {
   "cell_type": "code",
   "execution_count": 11,
   "metadata": {},
   "outputs": [],
   "source": [
    "PATH = '../../data/raw/'"
   ]
  },
  {
   "cell_type": "code",
   "execution_count": 12,
   "metadata": {},
   "outputs": [
    {
     "data": {
      "text/plain": [
       "['sg_coffee_shops.csv',\n",
       " 'sg_UIRRD_0-100.csv',\n",
       " 'sg_UIRRD_100-200.csv',\n",
       " 'sg_UIRRD_200-300.csv',\n",
       " 'sg_UIRRD_300-400.csv',\n",
       " 'sg_UIRRD_400-500.csv',\n",
       " 'sg_UIRRD_500-600.csv',\n",
       " 'sg_UIRRD_600-700.csv',\n",
       " 'sg_UIRRD_700-800.csv',\n",
       " 'sg_UIRRD_800-899.csv',\n",
       " 'sg_UIRRD_900-1000.csv',\n",
       " 'sg_UIRRD_rescrape2_0-100.csv',\n",
       " 'sg_UIRRD_rescrape_0-100.csv',\n",
       " 'sg_UIRRD_rescrape_100-200.csv',\n",
       " 'shops_norating.csv',\n",
       " 'shops_norating2.csv']"
      ]
     },
     "execution_count": 12,
     "metadata": {},
     "output_type": "execute_result"
    }
   ],
   "source": [
    "os.listdir(PATH)"
   ]
  },
  {
   "cell_type": "code",
   "execution_count": 41,
   "metadata": {},
   "outputs": [],
   "source": [
    "filepaths = [os.path.join(PATH, file) for file in os.listdir(PATH) if 'sg_UIRRD' in file]\n",
    "dfs = [pd.read_csv(filepath) for filepath in filepaths]\n",
    "reviews = pd.concat(dfs, axis=0)\n",
    "reviews.reset_index(drop=True, inplace=True)\n",
    "reviews.drop(['index'], axis=1, inplace=True)"
   ]
  },
  {
   "cell_type": "code",
   "execution_count": 42,
   "metadata": {},
   "outputs": [
    {
     "data": {
      "text/html": [
       "<div>\n",
       "<style scoped>\n",
       "    .dataframe tbody tr th:only-of-type {\n",
       "        vertical-align: middle;\n",
       "    }\n",
       "\n",
       "    .dataframe tbody tr th {\n",
       "        vertical-align: top;\n",
       "    }\n",
       "\n",
       "    .dataframe thead th {\n",
       "        text-align: right;\n",
       "    }\n",
       "</style>\n",
       "<table border=\"1\" class=\"dataframe\">\n",
       "  <thead>\n",
       "    <tr style=\"text-align: right;\">\n",
       "      <th></th>\n",
       "      <th>shop</th>\n",
       "      <th>userid</th>\n",
       "      <th>userinfo</th>\n",
       "      <th>rating</th>\n",
       "      <th>date</th>\n",
       "      <th>photos</th>\n",
       "      <th>username</th>\n",
       "      <th>language</th>\n",
       "      <th>text</th>\n",
       "    </tr>\n",
       "  </thead>\n",
       "  <tbody>\n",
       "    <tr>\n",
       "      <th>0</th>\n",
       "      <td>nylon-coffee-roasters-singapore</td>\n",
       "      <td>AbfS_oXF8H6HJb5jFqhrLw</td>\n",
       "      <td>{'link': '/user_details?userid=AbfS_oXF8H6HJb5...</td>\n",
       "      <td>5.0</td>\n",
       "      <td>4/11/2016</td>\n",
       "      <td>[]</td>\n",
       "      <td>Paco G.</td>\n",
       "      <td>en</td>\n",
       "      <td>A comfortable, no-frills coffee shop right in ...</td>\n",
       "    </tr>\n",
       "    <tr>\n",
       "      <th>1</th>\n",
       "      <td>nylon-coffee-roasters-singapore</td>\n",
       "      <td>ymiohz-DlNLHGAlXbVhw5A</td>\n",
       "      <td>{'link': '/user_details?userid=ymiohz-DlNLHGAl...</td>\n",
       "      <td>4.0</td>\n",
       "      <td>11/11/2019</td>\n",
       "      <td>[{'src': 'https://s3-media0.fl.yelpcdn.com/bph...</td>\n",
       "      <td>Sudipto G.</td>\n",
       "      <td>en</td>\n",
       "      <td>A hard to find coffee place tucked away in the...</td>\n",
       "    </tr>\n",
       "    <tr>\n",
       "      <th>2</th>\n",
       "      <td>nylon-coffee-roasters-singapore</td>\n",
       "      <td>-g3XIcCb2b-BD0QBCcq2Sw</td>\n",
       "      <td>{'link': '/user_details?userid=-g3XIcCb2b-BD0Q...</td>\n",
       "      <td>4.0</td>\n",
       "      <td>12/13/2019</td>\n",
       "      <td>[{'src': 'https://s3-media0.fl.yelpcdn.com/bph...</td>\n",
       "      <td>Lisa I.</td>\n",
       "      <td>en</td>\n",
       "      <td>Great little coffee shop that&amp;amp;#39;s in the...</td>\n",
       "    </tr>\n",
       "    <tr>\n",
       "      <th>3</th>\n",
       "      <td>nylon-coffee-roasters-singapore</td>\n",
       "      <td>gfyW0vuJls8ARoHmogfcmw</td>\n",
       "      <td>{'link': '/user_details?userid=gfyW0vuJls8ARoH...</td>\n",
       "      <td>4.0</td>\n",
       "      <td>2/6/2020</td>\n",
       "      <td>[]</td>\n",
       "      <td>Marilyn T.</td>\n",
       "      <td>en</td>\n",
       "      <td>This place came highly recommended by a friend...</td>\n",
       "    </tr>\n",
       "    <tr>\n",
       "      <th>4</th>\n",
       "      <td>nylon-coffee-roasters-singapore</td>\n",
       "      <td>jkr3YVCEoRNKkxinUZpW6A</td>\n",
       "      <td>{'link': '/user_details?userid=jkr3YVCEoRNKkxi...</td>\n",
       "      <td>3.0</td>\n",
       "      <td>2/12/2015</td>\n",
       "      <td>[]</td>\n",
       "      <td>Joanne G.</td>\n",
       "      <td>en</td>\n",
       "      <td>My great auntie has lived at Everton Park for ...</td>\n",
       "    </tr>\n",
       "  </tbody>\n",
       "</table>\n",
       "</div>"
      ],
      "text/plain": [
       "                              shop                  userid  \\\n",
       "0  nylon-coffee-roasters-singapore  AbfS_oXF8H6HJb5jFqhrLw   \n",
       "1  nylon-coffee-roasters-singapore  ymiohz-DlNLHGAlXbVhw5A   \n",
       "2  nylon-coffee-roasters-singapore  -g3XIcCb2b-BD0QBCcq2Sw   \n",
       "3  nylon-coffee-roasters-singapore  gfyW0vuJls8ARoHmogfcmw   \n",
       "4  nylon-coffee-roasters-singapore  jkr3YVCEoRNKkxinUZpW6A   \n",
       "\n",
       "                                            userinfo  rating        date  \\\n",
       "0  {'link': '/user_details?userid=AbfS_oXF8H6HJb5...     5.0   4/11/2016   \n",
       "1  {'link': '/user_details?userid=ymiohz-DlNLHGAl...     4.0  11/11/2019   \n",
       "2  {'link': '/user_details?userid=-g3XIcCb2b-BD0Q...     4.0  12/13/2019   \n",
       "3  {'link': '/user_details?userid=gfyW0vuJls8ARoH...     4.0    2/6/2020   \n",
       "4  {'link': '/user_details?userid=jkr3YVCEoRNKkxi...     3.0   2/12/2015   \n",
       "\n",
       "                                              photos    username language  \\\n",
       "0                                                 []     Paco G.       en   \n",
       "1  [{'src': 'https://s3-media0.fl.yelpcdn.com/bph...  Sudipto G.       en   \n",
       "2  [{'src': 'https://s3-media0.fl.yelpcdn.com/bph...     Lisa I.       en   \n",
       "3                                                 []  Marilyn T.       en   \n",
       "4                                                 []   Joanne G.       en   \n",
       "\n",
       "                                                text  \n",
       "0  A comfortable, no-frills coffee shop right in ...  \n",
       "1  A hard to find coffee place tucked away in the...  \n",
       "2  Great little coffee shop that&amp;#39;s in the...  \n",
       "3  This place came highly recommended by a friend...  \n",
       "4  My great auntie has lived at Everton Park for ...  "
      ]
     },
     "execution_count": 42,
     "metadata": {},
     "output_type": "execute_result"
    }
   ],
   "source": [
    "reviews.head()"
   ]
  },
  {
   "cell_type": "code",
   "execution_count": 43,
   "metadata": {},
   "outputs": [
    {
     "name": "stdout",
     "output_type": "stream",
     "text": [
      "Number of unique users: 2709\n",
      "Number of unique shops: 976\n",
      "Number of ratings: 6674\n",
      "Sparsity of dataset: 0.9974757789759696\n"
     ]
    }
   ],
   "source": [
    "print('Number of unique users: {}'.format(len(reviews.userid.unique())))\n",
    "print('Number of unique shops: {}'.format(len(reviews.shop.unique())))\n",
    "print('Number of ratings: {}'.format(len(reviews)))\n",
    "sparsity = 1 - len(reviews) / (len(reviews.shop.unique()) * len(reviews.userid.unique()))\n",
    "print('Sparsity of dataset: {}'.format(sparsity))"
   ]
  },
  {
   "cell_type": "code",
   "execution_count": 45,
   "metadata": {},
   "outputs": [],
   "source": [
    "reviews.to_csv('../../data/intermediate/sg_coffee_reviews_final.csv', index=False)"
   ]
  },
  {
   "cell_type": "code",
   "execution_count": 16,
   "metadata": {},
   "outputs": [],
   "source": [
    "shops = pd.read_csv(PATH + 'sg_coffee_shops.csv')\n",
    "shops = shops[['alias','review_count']]"
   ]
  },
  {
   "cell_type": "code",
   "execution_count": 17,
   "metadata": {},
   "outputs": [],
   "source": [
    "# shops with no scraped ratings\n",
    "# need to rescrape again\n",
    "shops_norating = [shop for shop in shops.alias if shop not in reviews.shop.values]\n",
    "shops_norating = pd.DataFrame(shops_norating)\n",
    "shops_norating.columns = ['shop']\n",
    "shops_norating.to_csv(PATH + 'shops_norating2.csv', index=False)"
   ]
  },
  {
   "cell_type": "code",
   "execution_count": 18,
   "metadata": {},
   "outputs": [
    {
     "data": {
      "text/html": [
       "<div>\n",
       "<style scoped>\n",
       "    .dataframe tbody tr th:only-of-type {\n",
       "        vertical-align: middle;\n",
       "    }\n",
       "\n",
       "    .dataframe tbody tr th {\n",
       "        vertical-align: top;\n",
       "    }\n",
       "\n",
       "    .dataframe thead th {\n",
       "        text-align: right;\n",
       "    }\n",
       "</style>\n",
       "<table border=\"1\" class=\"dataframe\">\n",
       "  <thead>\n",
       "    <tr style=\"text-align: right;\">\n",
       "      <th></th>\n",
       "      <th>shop</th>\n",
       "    </tr>\n",
       "  </thead>\n",
       "  <tbody>\n",
       "    <tr>\n",
       "      <th>0</th>\n",
       "      <td>tcc-the-connoisseur-concerto-singapore-13</td>\n",
       "    </tr>\n",
       "    <tr>\n",
       "      <th>1</th>\n",
       "      <td>cafe-nido-singapore</td>\n",
       "    </tr>\n",
       "    <tr>\n",
       "      <th>2</th>\n",
       "      <td>chocolate-mark-singapore</td>\n",
       "    </tr>\n",
       "    <tr>\n",
       "      <th>3</th>\n",
       "      <td>cafe-del-mar-sentosa-singapore</td>\n",
       "    </tr>\n",
       "    <tr>\n",
       "      <th>4</th>\n",
       "      <td>earlybird-singapore</td>\n",
       "    </tr>\n",
       "    <tr>\n",
       "      <th>5</th>\n",
       "      <td>old-school-delights-singapore-4</td>\n",
       "    </tr>\n",
       "    <tr>\n",
       "      <th>6</th>\n",
       "      <td>xinspa-spaworks-singapore</td>\n",
       "    </tr>\n",
       "  </tbody>\n",
       "</table>\n",
       "</div>"
      ],
      "text/plain": [
       "                                        shop\n",
       "0  tcc-the-connoisseur-concerto-singapore-13\n",
       "1                        cafe-nido-singapore\n",
       "2                   chocolate-mark-singapore\n",
       "3             cafe-del-mar-sentosa-singapore\n",
       "4                        earlybird-singapore\n",
       "5            old-school-delights-singapore-4\n",
       "6                  xinspa-spaworks-singapore"
      ]
     },
     "execution_count": 18,
     "metadata": {},
     "output_type": "execute_result"
    }
   ],
   "source": [
    "shops_norating"
   ]
  },
  {
   "cell_type": "code",
   "execution_count": 7,
   "metadata": {},
   "outputs": [
    {
     "data": {
      "text/plain": [
       "8-16ryk-5pdzUs_6cI_5aw    64\n",
       "2F38Uc4UNNbFVdyUUnBjOA    54\n",
       "Q1oMmm7tKPOzA7_gqcV4zg    48\n",
       "4WlVklOsSd409skDsWwQkQ    48\n",
       "H8mXfh5XgGCqmMLwVH7k5A    46\n",
       "                          ..\n",
       "RY5RMeuaZILNF7rjZqzL9w     3\n",
       "Rphq190m4y6GgNMocgd88g     3\n",
       "52R6YBCMU0yycOHKcnTXhA     3\n",
       "zWvA1Zc4sRv0DuDJb9g32Q     3\n",
       "NAfa2ZHrJlQgJqbHP11BrA     3\n",
       "Name: userid, Length: 469, dtype: int64"
      ]
     },
     "execution_count": 7,
     "metadata": {},
     "output_type": "execute_result"
    }
   ],
   "source": [
    "counts = reviews['userid'].value_counts(sort=True)\n",
    "counts = counts[counts >= 3]\n",
    "counts"
   ]
  },
  {
   "cell_type": "code",
   "execution_count": 8,
   "metadata": {},
   "outputs": [
    {
     "name": "stdout",
     "output_type": "stream",
     "text": [
      "Number of unique users: 469\n",
      "Number of unique shops: 686\n",
      "Number of ratings: 3375\n"
     ]
    }
   ],
   "source": [
    "reviews_filter = reviews.loc[reviews['userid'].isin(counts.index)]\n",
    "print('Number of unique users: {}'.format(len(reviews_filter.userid.unique())))\n",
    "print('Number of unique shops: {}'.format(len(reviews_filter.shop.unique())))\n",
    "print('Number of ratings: {}'.format(len(reviews_filter)))"
   ]
  },
  {
   "cell_type": "code",
   "execution_count": 9,
   "metadata": {},
   "outputs": [
    {
     "name": "stdout",
     "output_type": "stream",
     "text": [
      "Sparsity of dataset: 0.9895099678616497\n"
     ]
    }
   ],
   "source": [
    "sparsity = 1 - len(reviews_filter) / (len(reviews_filter.shop.unique()) * len(reviews_filter.userid.unique()))\n",
    "print('Sparsity of dataset: {}'.format(sparsity))"
   ]
  },
  {
   "cell_type": "code",
   "execution_count": 10,
   "metadata": {},
   "outputs": [
    {
     "data": {
      "image/png": "[encoded data removed]",
      "text/plain": [
       "<Figure size 432x288 with 1 Axes>"
      ]
     },
     "metadata": {
      "needs_background": "light"
     },
     "output_type": "display_data"
    }
   ],
   "source": [
    "import matplotlib.pyplot as plt\n",
    "import matplotlib.patches as mpatches\n",
    "\n",
    "counts = reviews['userid'].value_counts(sort=True)\n",
    "counts\n",
    "\n",
    "counts.index = counts.index.map(str)\n",
    "p = counts.plot.line(color='black')\n",
    "p.axes.get_xaxis().set_ticks([])\n",
    "p.set_xlabel('User ID')\n",
    "p.set_ylabel('Number of Reviews')\n",
    "plt.fill_between(counts.index, counts, where=counts >= 3, alpha=0.4)\n",
    "plt.fill_between(counts.index, counts, where=counts < 3, alpha=0.4)\n",
    "plt.axvline(x=sum(counts >= 3), linestyle='--', color='red')\n",
    "plt.legend(handles=[mpatches.Patch(color='#1f77b4', alpha=0.4, label='>= 3 reviews'),\n",
    "                    mpatches.Patch(color='#ff7f0e', alpha=0.4, label='< 3 reviews')],\n",
    "           loc=\"upper right\", framealpha=0.1)\n",
    "plt.title('Distribution of Reviews Per User', size=20)\n",
    "# plt.savefig('../Plots/long_tail.pdf', transparent=True)\n",
    "plt.savefig(PATH + '../../results/plots/long_tail.png', transparent=True)\n",
    "plt.show()"
   ]
  },
  {
   "cell_type": "code",
   "execution_count": 11,
   "metadata": {},
   "outputs": [
    {
     "data": {
      "image/png": "[encoded data removed]",
      "text/plain": [
       "<Figure size 432x288 with 1 Axes>"
      ]
     },
     "metadata": {
      "needs_background": "light"
     },
     "output_type": "display_data"
    }
   ],
   "source": [
    "counts = reviews_filter['userid'].value_counts(sort=True)\n",
    "counts\n",
    "\n",
    "counts.index = counts.index.map(str)\n",
    "p = counts.plot.line(color='black')\n",
    "p.axes.get_xaxis().set_ticks([])\n",
    "p.set_xlabel('User ID')\n",
    "p.set_ylabel('Number of Reviews')\n",
    "plt.fill_between(counts.index, counts, where=counts >= 5, alpha=0.4)\n",
    "plt.fill_between(counts.index, counts, where=counts < 5, alpha=0.4)\n",
    "plt.axvline(x=sum(counts >= 5), linestyle='--', color='red')\n",
    "plt.legend(handles=[mpatches.Patch(color='#1f77b4', alpha=0.4, label='>= 5 reviews'),\n",
    "                    mpatches.Patch(color='#ff7f0e', alpha=0.4, label='< 5 reviews')],\n",
    "           loc=\"upper right\", framealpha=0.1)\n",
    "plt.title('Distribution of Reviews Per User', size=20)\n",
    "# plt.savefig('../Plots/long_tail.pdf', transparent=True)\n",
    "plt.savefig('../../results/plots/long_tail.png', transparent=True)\n",
    "plt.show()"
   ]
  },
  {
   "cell_type": "code",
   "execution_count": null,
   "metadata": {},
   "outputs": [],
   "source": []
  }
 ],
 "metadata": {
  "interpreter": {
   "hash": "586d209818bf684a449db8f551e5b280da9ad8c053944ce342fb8dd6eec39ab8"
  },
  "kernelspec": {
   "display_name": "Python 3.9.4 64-bit",
   "language": "python",
   "name": "python3"
  },
  "language_info": {
   "codemirror_mode": {
    "name": "ipython",
    "version": 3
   },
   "file_extension": ".py",
   "mimetype": "text/x-python",
   "name": "python",
   "nbconvert_exporter": "python",
   "pygments_lexer": "ipython3",
   "version": "3.9.4"
  },
  "orig_nbformat": 4
 },
 "nbformat": 4,
 "nbformat_minor": 2
}
