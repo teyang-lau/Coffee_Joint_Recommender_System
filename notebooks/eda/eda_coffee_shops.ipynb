{
 "cells": [
  {
   "cell_type": "code",
   "execution_count": 1,
   "metadata": {},
   "outputs": [],
   "source": [
    "import pandas as pd\n",
    "import numpy as np"
   ]
  },
  {
   "cell_type": "code",
   "execution_count": 2,
   "metadata": {},
   "outputs": [],
   "source": [
    "PATH = '../../data/processed/'"
   ]
  },
  {
   "cell_type": "code",
   "execution_count": 4,
   "metadata": {},
   "outputs": [],
   "source": [
    "df = pd.read_csv(PATH + 'sg_coffee_reviews_final.csv')"
   ]
  },
  {
   "cell_type": "code",
   "execution_count": 7,
   "metadata": {},
   "outputs": [
    {
     "data": {
      "text/html": [
       "<div>\n",
       "<style scoped>\n",
       "    .dataframe tbody tr th:only-of-type {\n",
       "        vertical-align: middle;\n",
       "    }\n",
       "\n",
       "    .dataframe tbody tr th {\n",
       "        vertical-align: top;\n",
       "    }\n",
       "\n",
       "    .dataframe thead th {\n",
       "        text-align: right;\n",
       "    }\n",
       "</style>\n",
       "<table border=\"1\" class=\"dataframe\">\n",
       "  <thead>\n",
       "    <tr style=\"text-align: right;\">\n",
       "      <th></th>\n",
       "      <th>shop</th>\n",
       "      <th>userid</th>\n",
       "      <th>userinfo</th>\n",
       "      <th>rating</th>\n",
       "      <th>date</th>\n",
       "      <th>photos</th>\n",
       "      <th>username</th>\n",
       "      <th>language</th>\n",
       "      <th>text</th>\n",
       "    </tr>\n",
       "  </thead>\n",
       "  <tbody>\n",
       "    <tr>\n",
       "      <th>0</th>\n",
       "      <td>nylon-coffee-roasters-singapore</td>\n",
       "      <td>AbfS_oXF8H6HJb5jFqhrLw</td>\n",
       "      <td>{'link': '/user_details?userid=AbfS_oXF8H6HJb5...</td>\n",
       "      <td>5.0</td>\n",
       "      <td>4/11/2016</td>\n",
       "      <td>[]</td>\n",
       "      <td>Paco G.</td>\n",
       "      <td>en</td>\n",
       "      <td>A comfortable, no-frills coffee shop right in ...</td>\n",
       "    </tr>\n",
       "    <tr>\n",
       "      <th>1</th>\n",
       "      <td>nylon-coffee-roasters-singapore</td>\n",
       "      <td>ymiohz-DlNLHGAlXbVhw5A</td>\n",
       "      <td>{'link': '/user_details?userid=ymiohz-DlNLHGAl...</td>\n",
       "      <td>4.0</td>\n",
       "      <td>11/11/2019</td>\n",
       "      <td>[{'src': 'https://s3-media0.fl.yelpcdn.com/bph...</td>\n",
       "      <td>Sudipto G.</td>\n",
       "      <td>en</td>\n",
       "      <td>A hard to find coffee place tucked away in the...</td>\n",
       "    </tr>\n",
       "    <tr>\n",
       "      <th>2</th>\n",
       "      <td>nylon-coffee-roasters-singapore</td>\n",
       "      <td>-g3XIcCb2b-BD0QBCcq2Sw</td>\n",
       "      <td>{'link': '/user_details?userid=-g3XIcCb2b-BD0Q...</td>\n",
       "      <td>4.0</td>\n",
       "      <td>12/13/2019</td>\n",
       "      <td>[{'src': 'https://s3-media0.fl.yelpcdn.com/bph...</td>\n",
       "      <td>Lisa I.</td>\n",
       "      <td>en</td>\n",
       "      <td>Great little coffee shop that's in the middle ...</td>\n",
       "    </tr>\n",
       "    <tr>\n",
       "      <th>3</th>\n",
       "      <td>nylon-coffee-roasters-singapore</td>\n",
       "      <td>gfyW0vuJls8ARoHmogfcmw</td>\n",
       "      <td>{'link': '/user_details?userid=gfyW0vuJls8ARoH...</td>\n",
       "      <td>4.0</td>\n",
       "      <td>2/6/2020</td>\n",
       "      <td>[]</td>\n",
       "      <td>Marilyn T.</td>\n",
       "      <td>en</td>\n",
       "      <td>This place came highly recommended by a friend...</td>\n",
       "    </tr>\n",
       "    <tr>\n",
       "      <th>4</th>\n",
       "      <td>nylon-coffee-roasters-singapore</td>\n",
       "      <td>jkr3YVCEoRNKkxinUZpW6A</td>\n",
       "      <td>{'link': '/user_details?userid=jkr3YVCEoRNKkxi...</td>\n",
       "      <td>3.0</td>\n",
       "      <td>2/12/2015</td>\n",
       "      <td>[]</td>\n",
       "      <td>Joanne G.</td>\n",
       "      <td>en</td>\n",
       "      <td>My great auntie has lived at Everton Park for ...</td>\n",
       "    </tr>\n",
       "  </tbody>\n",
       "</table>\n",
       "</div>"
      ],
      "text/plain": [
       "                              shop                  userid  \\\n",
       "0  nylon-coffee-roasters-singapore  AbfS_oXF8H6HJb5jFqhrLw   \n",
       "1  nylon-coffee-roasters-singapore  ymiohz-DlNLHGAlXbVhw5A   \n",
       "2  nylon-coffee-roasters-singapore  -g3XIcCb2b-BD0QBCcq2Sw   \n",
       "3  nylon-coffee-roasters-singapore  gfyW0vuJls8ARoHmogfcmw   \n",
       "4  nylon-coffee-roasters-singapore  jkr3YVCEoRNKkxinUZpW6A   \n",
       "\n",
       "                                            userinfo  rating        date  \\\n",
       "0  {'link': '/user_details?userid=AbfS_oXF8H6HJb5...     5.0   4/11/2016   \n",
       "1  {'link': '/user_details?userid=ymiohz-DlNLHGAl...     4.0  11/11/2019   \n",
       "2  {'link': '/user_details?userid=-g3XIcCb2b-BD0Q...     4.0  12/13/2019   \n",
       "3  {'link': '/user_details?userid=gfyW0vuJls8ARoH...     4.0    2/6/2020   \n",
       "4  {'link': '/user_details?userid=jkr3YVCEoRNKkxi...     3.0   2/12/2015   \n",
       "\n",
       "                                              photos    username language  \\\n",
       "0                                                 []     Paco G.       en   \n",
       "1  [{'src': 'https://s3-media0.fl.yelpcdn.com/bph...  Sudipto G.       en   \n",
       "2  [{'src': 'https://s3-media0.fl.yelpcdn.com/bph...     Lisa I.       en   \n",
       "3                                                 []  Marilyn T.       en   \n",
       "4                                                 []   Joanne G.       en   \n",
       "\n",
       "                                                text  \n",
       "0  A comfortable, no-frills coffee shop right in ...  \n",
       "1  A hard to find coffee place tucked away in the...  \n",
       "2  Great little coffee shop that's in the middle ...  \n",
       "3  This place came highly recommended by a friend...  \n",
       "4  My great auntie has lived at Everton Park for ...  "
      ]
     },
     "execution_count": 7,
     "metadata": {},
     "output_type": "execute_result"
    }
   ],
   "source": [
    "df.head()"
   ]
  },
  {
   "cell_type": "code",
   "execution_count": 12,
   "metadata": {},
   "outputs": [
    {
     "data": {
      "text/plain": [
       "8-16ryk-5pdzUs_6cI_5aw    72\n",
       "2F38Uc4UNNbFVdyUUnBjOA    66\n",
       "H8mXfh5XgGCqmMLwVH7k5A    62\n",
       "Q1oMmm7tKPOzA7_gqcV4zg    59\n",
       "4WlVklOsSd409skDsWwQkQ    54\n",
       "                          ..\n",
       "xNoT3BYuQkhQwZpo9EDDFQ     3\n",
       "wDwwazbzYP7iUjV6DYgyKA     3\n",
       "fXKCtWY4c-1_mMY3lFQGNw     3\n",
       "Ctrp5IoEKHkixDSIyYHDpw     3\n",
       "sssHI-GtU5Zlj4icRmRQZQ     3\n",
       "Name: userid, Length: 531, dtype: int64"
      ]
     },
     "execution_count": 12,
     "metadata": {},
     "output_type": "execute_result"
    }
   ],
   "source": [
    "counts = df['userid'].value_counts(sort=True)\n",
    "counts = counts[counts >= 3]\n",
    "counts"
   ]
  },
  {
   "cell_type": "code",
   "execution_count": 13,
   "metadata": {},
   "outputs": [
    {
     "name": "stdout",
     "output_type": "stream",
     "text": [
      "Number of unique users: 531\n",
      "Number of unique shops: 856\n",
      "Number of ratings: 4050\n",
      "Sparsity of dataset: 0.991089814668145\n"
     ]
    }
   ],
   "source": [
    "df_filter = df.loc[df['userid'].isin(counts.index)]\n",
    "print('Number of unique users: {}'.format(len(df_filter.userid.unique())))\n",
    "print('Number of unique shops: {}'.format(len(df_filter.shop.unique())))\n",
    "print('Number of ratings: {}'.format(len(df_filter)))\n",
    "sparsity = 1 - len(df_filter) / (len(df_filter.shop.unique()) * len(df_filter.userid.unique()))\n",
    "print('Sparsity of dataset: {}'.format(sparsity))"
   ]
  },
  {
   "cell_type": "code",
   "execution_count": 14,
   "metadata": {},
   "outputs": [],
   "source": [
    "PATH = '../../data/'\n",
    "train = pd.read_csv(PATH + 'processed/' + 'train_lol.csv')[['userid', 'shop', 'rating']]\n",
    "val = pd.read_csv(PATH + 'processed/' + 'val_lol.csv')[['userid', 'shop', 'rating']]\n",
    "test = pd.read_csv(PATH + 'processed/' + 'test_lol.csv')[['userid', 'shop', 'rating']]"
   ]
  },
  {
   "cell_type": "code",
   "execution_count": 15,
   "metadata": {},
   "outputs": [
    {
     "data": {
      "text/html": [
       "<div>\n",
       "<style scoped>\n",
       "    .dataframe tbody tr th:only-of-type {\n",
       "        vertical-align: middle;\n",
       "    }\n",
       "\n",
       "    .dataframe tbody tr th {\n",
       "        vertical-align: top;\n",
       "    }\n",
       "\n",
       "    .dataframe thead th {\n",
       "        text-align: right;\n",
       "    }\n",
       "</style>\n",
       "<table border=\"1\" class=\"dataframe\">\n",
       "  <thead>\n",
       "    <tr style=\"text-align: right;\">\n",
       "      <th></th>\n",
       "      <th>userid</th>\n",
       "      <th>shop</th>\n",
       "      <th>rating</th>\n",
       "    </tr>\n",
       "  </thead>\n",
       "  <tbody>\n",
       "    <tr>\n",
       "      <th>0</th>\n",
       "      <td>-5YMIME_WEin_by41Bj-3Q</td>\n",
       "      <td>liho-tea-singapore-117</td>\n",
       "      <td>3.0</td>\n",
       "    </tr>\n",
       "    <tr>\n",
       "      <th>1</th>\n",
       "      <td>-5YMIME_WEin_by41Bj-3Q</td>\n",
       "      <td>old-hen-coffee-bar-singapore-2</td>\n",
       "      <td>4.0</td>\n",
       "    </tr>\n",
       "    <tr>\n",
       "      <th>2</th>\n",
       "      <td>-5YMIME_WEin_by41Bj-3Q</td>\n",
       "      <td>two-men-bagel-house-singapore</td>\n",
       "      <td>4.0</td>\n",
       "    </tr>\n",
       "    <tr>\n",
       "      <th>3</th>\n",
       "      <td>-5YMIME_WEin_by41Bj-3Q</td>\n",
       "      <td>old-airport-road-food-centre-singapore</td>\n",
       "      <td>5.0</td>\n",
       "    </tr>\n",
       "    <tr>\n",
       "      <th>4</th>\n",
       "      <td>-G1YjYxjDpxOBzFgo36ORA</td>\n",
       "      <td>the-book-cafe-singapore</td>\n",
       "      <td>3.0</td>\n",
       "    </tr>\n",
       "    <tr>\n",
       "      <th>...</th>\n",
       "      <td>...</td>\n",
       "      <td>...</td>\n",
       "      <td>...</td>\n",
       "    </tr>\n",
       "    <tr>\n",
       "      <th>492</th>\n",
       "      <td>znaofcTB6CKmdUqJSd17iA</td>\n",
       "      <td>flor-patisserie-singapore</td>\n",
       "      <td>3.0</td>\n",
       "    </tr>\n",
       "    <tr>\n",
       "      <th>493</th>\n",
       "      <td>zrT9ajIiHc_wUi-pC77aaQ</td>\n",
       "      <td>two-blur-guys-singapore</td>\n",
       "      <td>5.0</td>\n",
       "    </tr>\n",
       "    <tr>\n",
       "      <th>494</th>\n",
       "      <td>zwVYz5sXfeaxdbRr7nXb7g</td>\n",
       "      <td>ya-kun-kaya-toast-singapore-9</td>\n",
       "      <td>4.0</td>\n",
       "    </tr>\n",
       "    <tr>\n",
       "      <th>495</th>\n",
       "      <td>zwmNnNkL2bTX5AsSdVs51w</td>\n",
       "      <td>sinpopo-brand-singapore</td>\n",
       "      <td>5.0</td>\n",
       "    </tr>\n",
       "    <tr>\n",
       "      <th>496</th>\n",
       "      <td>zxV63l3B5EIeX5qZoryxqw</td>\n",
       "      <td>craftsmen-specialty-coffee-singapore-5</td>\n",
       "      <td>4.0</td>\n",
       "    </tr>\n",
       "  </tbody>\n",
       "</table>\n",
       "<p>3816 rows × 3 columns</p>\n",
       "</div>"
      ],
      "text/plain": [
       "                     userid                                    shop  rating\n",
       "0    -5YMIME_WEin_by41Bj-3Q                  liho-tea-singapore-117     3.0\n",
       "1    -5YMIME_WEin_by41Bj-3Q          old-hen-coffee-bar-singapore-2     4.0\n",
       "2    -5YMIME_WEin_by41Bj-3Q           two-men-bagel-house-singapore     4.0\n",
       "3    -5YMIME_WEin_by41Bj-3Q  old-airport-road-food-centre-singapore     5.0\n",
       "4    -G1YjYxjDpxOBzFgo36ORA                 the-book-cafe-singapore     3.0\n",
       "..                      ...                                     ...     ...\n",
       "492  znaofcTB6CKmdUqJSd17iA               flor-patisserie-singapore     3.0\n",
       "493  zrT9ajIiHc_wUi-pC77aaQ                 two-blur-guys-singapore     5.0\n",
       "494  zwVYz5sXfeaxdbRr7nXb7g           ya-kun-kaya-toast-singapore-9     4.0\n",
       "495  zwmNnNkL2bTX5AsSdVs51w                 sinpopo-brand-singapore     5.0\n",
       "496  zxV63l3B5EIeX5qZoryxqw  craftsmen-specialty-coffee-singapore-5     4.0\n",
       "\n",
       "[3816 rows x 3 columns]"
      ]
     },
     "execution_count": 15,
     "metadata": {},
     "output_type": "execute_result"
    }
   ],
   "source": [
    "df = pd.concat([train, val, test], axis=0)\n",
    "df"
   ]
  },
  {
   "cell_type": "code",
   "execution_count": 16,
   "metadata": {},
   "outputs": [
    {
     "name": "stdout",
     "output_type": "stream",
     "text": [
      "Number of unique users: 497\n",
      "Number of unique shops: 856\n",
      "Number of ratings: 3816\n",
      "Sparsity of dataset: 0.9910302939130108\n"
     ]
    }
   ],
   "source": [
    "print('Number of unique users: {}'.format(len(df.userid.unique())))\n",
    "print('Number of unique shops: {}'.format(len(df.shop.unique())))\n",
    "print('Number of ratings: {}'.format(len(df)))\n",
    "sparsity = 1 - len(df) / (len(df.shop.unique()) * len(df.userid.unique()))\n",
    "print('Sparsity of dataset: {}'.format(sparsity))"
   ]
  },
  {
   "cell_type": "code",
   "execution_count": null,
   "metadata": {},
   "outputs": [],
   "source": []
  }
 ],
 "metadata": {
  "kernelspec": {
   "display_name": "Python 3.9.4 64-bit",
   "language": "python",
   "name": "python3"
  },
  "language_info": {
   "codemirror_mode": {
    "name": "ipython",
    "version": 3
   },
   "file_extension": ".py",
   "mimetype": "text/x-python",
   "name": "python",
   "nbconvert_exporter": "python",
   "pygments_lexer": "ipython3",
   "version": "3.9.4"
  },
  "orig_nbformat": 4,
  "vscode": {
   "interpreter": {
    "hash": "586d209818bf684a449db8f551e5b280da9ad8c053944ce342fb8dd6eec39ab8"
   }
  }
 },
 "nbformat": 4,
 "nbformat_minor": 2
}
