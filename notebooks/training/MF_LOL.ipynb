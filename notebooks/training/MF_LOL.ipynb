{
  "nbformat": 4,
  "nbformat_minor": 0,
  "metadata": {
    "colab": {
      "name": "MF_LOL.ipynb",
      "provenance": [],
      "collapsed_sections": [],
      "machine_shape": "hm",
      "authorship_tag": "ABX9TyNqJ7mTXRxCNoPOmT+11X1b",
      "include_colab_link": true
    },
    "kernelspec": {
      "name": "python3",
      "display_name": "Python 3"
    },
    "language_info": {
      "name": "python"
    },
    "widgets": {
      "application/vnd.jupyter.widget-state+json": {
        "5cdf6e4d8e4a4e50889a70912c4be8d3": {
          "model_module": "@jupyter-widgets/controls",
          "model_name": "HBoxModel",
          "model_module_version": "1.5.0",
          "state": {
            "_dom_classes": [],
            "_model_module": "@jupyter-widgets/controls",
            "_model_module_version": "1.5.0",
            "_model_name": "HBoxModel",
            "_view_count": null,
            "_view_module": "@jupyter-widgets/controls",
            "_view_module_version": "1.5.0",
            "_view_name": "HBoxView",
            "box_style": "",
            "children": [
              "IPY_MODEL_511f6c8917d34df99ed5815f589fc2c3",
              "IPY_MODEL_b54d5a8c55744773b0f9fe5ad4cb54ca",
              "IPY_MODEL_0607b6977f744434b4cfeb459796d11c"
            ],
            "layout": "IPY_MODEL_bacf03c2d8c8478da8aae6e5aa87303f"
          }
        },
        "511f6c8917d34df99ed5815f589fc2c3": {
          "model_module": "@jupyter-widgets/controls",
          "model_name": "HTMLModel",
          "model_module_version": "1.5.0",
          "state": {
            "_dom_classes": [],
            "_model_module": "@jupyter-widgets/controls",
            "_model_module_version": "1.5.0",
            "_model_name": "HTMLModel",
            "_view_count": null,
            "_view_module": "@jupyter-widgets/controls",
            "_view_module_version": "1.5.0",
            "_view_name": "HTMLView",
            "description": "",
            "description_tooltip": null,
            "layout": "IPY_MODEL_d3386b05898c4f6181f4babdb8c8b22c",
            "placeholder": "​",
            "style": "IPY_MODEL_3c87ba180b60471dae0a8d60f1825156",
            "value": "100%"
          }
        },
        "b54d5a8c55744773b0f9fe5ad4cb54ca": {
          "model_module": "@jupyter-widgets/controls",
          "model_name": "FloatProgressModel",
          "model_module_version": "1.5.0",
          "state": {
            "_dom_classes": [],
            "_model_module": "@jupyter-widgets/controls",
            "_model_module_version": "1.5.0",
            "_model_name": "FloatProgressModel",
            "_view_count": null,
            "_view_module": "@jupyter-widgets/controls",
            "_view_module_version": "1.5.0",
            "_view_name": "ProgressView",
            "bar_style": "success",
            "description": "",
            "description_tooltip": null,
            "layout": "IPY_MODEL_8cb6ff62c42542d78d1412ee73e856d0",
            "max": 20,
            "min": 0,
            "orientation": "horizontal",
            "style": "IPY_MODEL_05d1cddbcf2543d6a961b4f35445abd5",
            "value": 20
          }
        },
        "0607b6977f744434b4cfeb459796d11c": {
          "model_module": "@jupyter-widgets/controls",
          "model_name": "HTMLModel",
          "model_module_version": "1.5.0",
          "state": {
            "_dom_classes": [],
            "_model_module": "@jupyter-widgets/controls",
            "_model_module_version": "1.5.0",
            "_model_name": "HTMLModel",
            "_view_count": null,
            "_view_module": "@jupyter-widgets/controls",
            "_view_module_version": "1.5.0",
            "_view_name": "HTMLView",
            "description": "",
            "description_tooltip": null,
            "layout": "IPY_MODEL_d3fa8190510e47bfb205da22bc1f6bc2",
            "placeholder": "​",
            "style": "IPY_MODEL_b24bca1d68b54a8f8a046ccd62b99f64",
            "value": " 20/20 [00:00&lt;00:00, 114.26it/s, loss=1093.40]"
          }
        },
        "bacf03c2d8c8478da8aae6e5aa87303f": {
          "model_module": "@jupyter-widgets/base",
          "model_name": "LayoutModel",
          "model_module_version": "1.2.0",
          "state": {
            "_model_module": "@jupyter-widgets/base",
            "_model_module_version": "1.2.0",
            "_model_name": "LayoutModel",
            "_view_count": null,
            "_view_module": "@jupyter-widgets/base",
            "_view_module_version": "1.2.0",
            "_view_name": "LayoutView",
            "align_content": null,
            "align_items": null,
            "align_self": null,
            "border": null,
            "bottom": null,
            "display": null,
            "flex": null,
            "flex_flow": null,
            "grid_area": null,
            "grid_auto_columns": null,
            "grid_auto_flow": null,
            "grid_auto_rows": null,
            "grid_column": null,
            "grid_gap": null,
            "grid_row": null,
            "grid_template_areas": null,
            "grid_template_columns": null,
            "grid_template_rows": null,
            "height": null,
            "justify_content": null,
            "justify_items": null,
            "left": null,
            "margin": null,
            "max_height": null,
            "max_width": null,
            "min_height": null,
            "min_width": null,
            "object_fit": null,
            "object_position": null,
            "order": null,
            "overflow": null,
            "overflow_x": null,
            "overflow_y": null,
            "padding": null,
            "right": null,
            "top": null,
            "visibility": null,
            "width": null
          }
        },
        "d3386b05898c4f6181f4babdb8c8b22c": {
          "model_module": "@jupyter-widgets/base",
          "model_name": "LayoutModel",
          "model_module_version": "1.2.0",
          "state": {
            "_model_module": "@jupyter-widgets/base",
            "_model_module_version": "1.2.0",
            "_model_name": "LayoutModel",
            "_view_count": null,
            "_view_module": "@jupyter-widgets/base",
            "_view_module_version": "1.2.0",
            "_view_name": "LayoutView",
            "align_content": null,
            "align_items": null,
            "align_self": null,
            "border": null,
            "bottom": null,
            "display": null,
            "flex": null,
            "flex_flow": null,
            "grid_area": null,
            "grid_auto_columns": null,
            "grid_auto_flow": null,
            "grid_auto_rows": null,
            "grid_column": null,
            "grid_gap": null,
            "grid_row": null,
            "grid_template_areas": null,
            "grid_template_columns": null,
            "grid_template_rows": null,
            "height": null,
            "justify_content": null,
            "justify_items": null,
            "left": null,
            "margin": null,
            "max_height": null,
            "max_width": null,
            "min_height": null,
            "min_width": null,
            "object_fit": null,
            "object_position": null,
            "order": null,
            "overflow": null,
            "overflow_x": null,
            "overflow_y": null,
            "padding": null,
            "right": null,
            "top": null,
            "visibility": null,
            "width": null
          }
        },
        "3c87ba180b60471dae0a8d60f1825156": {
          "model_module": "@jupyter-widgets/controls",
          "model_name": "DescriptionStyleModel",
          "model_module_version": "1.5.0",
          "state": {
            "_model_module": "@jupyter-widgets/controls",
            "_model_module_version": "1.5.0",
            "_model_name": "DescriptionStyleModel",
            "_view_count": null,
            "_view_module": "@jupyter-widgets/base",
            "_view_module_version": "1.2.0",
            "_view_name": "StyleView",
            "description_width": ""
          }
        },
        "8cb6ff62c42542d78d1412ee73e856d0": {
          "model_module": "@jupyter-widgets/base",
          "model_name": "LayoutModel",
          "model_module_version": "1.2.0",
          "state": {
            "_model_module": "@jupyter-widgets/base",
            "_model_module_version": "1.2.0",
            "_model_name": "LayoutModel",
            "_view_count": null,
            "_view_module": "@jupyter-widgets/base",
            "_view_module_version": "1.2.0",
            "_view_name": "LayoutView",
            "align_content": null,
            "align_items": null,
            "align_self": null,
            "border": null,
            "bottom": null,
            "display": null,
            "flex": null,
            "flex_flow": null,
            "grid_area": null,
            "grid_auto_columns": null,
            "grid_auto_flow": null,
            "grid_auto_rows": null,
            "grid_column": null,
            "grid_gap": null,
            "grid_row": null,
            "grid_template_areas": null,
            "grid_template_columns": null,
            "grid_template_rows": null,
            "height": null,
            "justify_content": null,
            "justify_items": null,
            "left": null,
            "margin": null,
            "max_height": null,
            "max_width": null,
            "min_height": null,
            "min_width": null,
            "object_fit": null,
            "object_position": null,
            "order": null,
            "overflow": null,
            "overflow_x": null,
            "overflow_y": null,
            "padding": null,
            "right": null,
            "top": null,
            "visibility": null,
            "width": null
          }
        },
        "05d1cddbcf2543d6a961b4f35445abd5": {
          "model_module": "@jupyter-widgets/controls",
          "model_name": "ProgressStyleModel",
          "model_module_version": "1.5.0",
          "state": {
            "_model_module": "@jupyter-widgets/controls",
            "_model_module_version": "1.5.0",
            "_model_name": "ProgressStyleModel",
            "_view_count": null,
            "_view_module": "@jupyter-widgets/base",
            "_view_module_version": "1.2.0",
            "_view_name": "StyleView",
            "bar_color": null,
            "description_width": ""
          }
        },
        "d3fa8190510e47bfb205da22bc1f6bc2": {
          "model_module": "@jupyter-widgets/base",
          "model_name": "LayoutModel",
          "model_module_version": "1.2.0",
          "state": {
            "_model_module": "@jupyter-widgets/base",
            "_model_module_version": "1.2.0",
            "_model_name": "LayoutModel",
            "_view_count": null,
            "_view_module": "@jupyter-widgets/base",
            "_view_module_version": "1.2.0",
            "_view_name": "LayoutView",
            "align_content": null,
            "align_items": null,
            "align_self": null,
            "border": null,
            "bottom": null,
            "display": null,
            "flex": null,
            "flex_flow": null,
            "grid_area": null,
            "grid_auto_columns": null,
            "grid_auto_flow": null,
            "grid_auto_rows": null,
            "grid_column": null,
            "grid_gap": null,
            "grid_row": null,
            "grid_template_areas": null,
            "grid_template_columns": null,
            "grid_template_rows": null,
            "height": null,
            "justify_content": null,
            "justify_items": null,
            "left": null,
            "margin": null,
            "max_height": null,
            "max_width": null,
            "min_height": null,
            "min_width": null,
            "object_fit": null,
            "object_position": null,
            "order": null,
            "overflow": null,
            "overflow_x": null,
            "overflow_y": null,
            "padding": null,
            "right": null,
            "top": null,
            "visibility": null,
            "width": null
          }
        },
        "b24bca1d68b54a8f8a046ccd62b99f64": {
          "model_module": "@jupyter-widgets/controls",
          "model_name": "DescriptionStyleModel",
          "model_module_version": "1.5.0",
          "state": {
            "_model_module": "@jupyter-widgets/controls",
            "_model_module_version": "1.5.0",
            "_model_name": "DescriptionStyleModel",
            "_view_count": null,
            "_view_module": "@jupyter-widgets/base",
            "_view_module_version": "1.2.0",
            "_view_name": "StyleView",
            "description_width": ""
          }
        },
        "ac3484b60c4245b4b435f283659d8453": {
          "model_module": "@jupyter-widgets/controls",
          "model_name": "HBoxModel",
          "model_module_version": "1.5.0",
          "state": {
            "_dom_classes": [],
            "_model_module": "@jupyter-widgets/controls",
            "_model_module_version": "1.5.0",
            "_model_name": "HBoxModel",
            "_view_count": null,
            "_view_module": "@jupyter-widgets/controls",
            "_view_module_version": "1.5.0",
            "_view_name": "HBoxView",
            "box_style": "",
            "children": [
              "IPY_MODEL_8dd5b9afe39a4063a2f410785e4878e2",
              "IPY_MODEL_8c1d6630e2c34a82a3bd3413886d50c7",
              "IPY_MODEL_69fa332b3cda4396bb7d52573901a5d5"
            ],
            "layout": "IPY_MODEL_1152cd832cb44439ae90e6109a89250f"
          }
        },
        "8dd5b9afe39a4063a2f410785e4878e2": {
          "model_module": "@jupyter-widgets/controls",
          "model_name": "HTMLModel",
          "model_module_version": "1.5.0",
          "state": {
            "_dom_classes": [],
            "_model_module": "@jupyter-widgets/controls",
            "_model_module_version": "1.5.0",
            "_model_name": "HTMLModel",
            "_view_count": null,
            "_view_module": "@jupyter-widgets/controls",
            "_view_module_version": "1.5.0",
            "_view_name": "HTMLView",
            "description": "",
            "description_tooltip": null,
            "layout": "IPY_MODEL_819184a13ad443a9b4a6d6baa53afb8b",
            "placeholder": "​",
            "style": "IPY_MODEL_27f0d85f93f7479a84ecb02b0a541f64",
            "value": "100%"
          }
        },
        "8c1d6630e2c34a82a3bd3413886d50c7": {
          "model_module": "@jupyter-widgets/controls",
          "model_name": "FloatProgressModel",
          "model_module_version": "1.5.0",
          "state": {
            "_dom_classes": [],
            "_model_module": "@jupyter-widgets/controls",
            "_model_module_version": "1.5.0",
            "_model_name": "FloatProgressModel",
            "_view_count": null,
            "_view_module": "@jupyter-widgets/controls",
            "_view_module_version": "1.5.0",
            "_view_name": "ProgressView",
            "bar_style": "success",
            "description": "",
            "description_tooltip": null,
            "layout": "IPY_MODEL_942b6a5cb79e47bcaee16551c2d0dc2a",
            "max": 20,
            "min": 0,
            "orientation": "horizontal",
            "style": "IPY_MODEL_3888e42ad1b042f89530a380a96beb9c",
            "value": 20
          }
        },
        "69fa332b3cda4396bb7d52573901a5d5": {
          "model_module": "@jupyter-widgets/controls",
          "model_name": "HTMLModel",
          "model_module_version": "1.5.0",
          "state": {
            "_dom_classes": [],
            "_model_module": "@jupyter-widgets/controls",
            "_model_module_version": "1.5.0",
            "_model_name": "HTMLModel",
            "_view_count": null,
            "_view_module": "@jupyter-widgets/controls",
            "_view_module_version": "1.5.0",
            "_view_name": "HTMLView",
            "description": "",
            "description_tooltip": null,
            "layout": "IPY_MODEL_726de224948e4c438924c3d37a6df4dd",
            "placeholder": "​",
            "style": "IPY_MODEL_898dc8b68131401f962a1e1db31b0101",
            "value": " 20/20 [00:00&lt;00:00, 188.15it/s, loss=674.22]"
          }
        },
        "1152cd832cb44439ae90e6109a89250f": {
          "model_module": "@jupyter-widgets/base",
          "model_name": "LayoutModel",
          "model_module_version": "1.2.0",
          "state": {
            "_model_module": "@jupyter-widgets/base",
            "_model_module_version": "1.2.0",
            "_model_name": "LayoutModel",
            "_view_count": null,
            "_view_module": "@jupyter-widgets/base",
            "_view_module_version": "1.2.0",
            "_view_name": "LayoutView",
            "align_content": null,
            "align_items": null,
            "align_self": null,
            "border": null,
            "bottom": null,
            "display": null,
            "flex": null,
            "flex_flow": null,
            "grid_area": null,
            "grid_auto_columns": null,
            "grid_auto_flow": null,
            "grid_auto_rows": null,
            "grid_column": null,
            "grid_gap": null,
            "grid_row": null,
            "grid_template_areas": null,
            "grid_template_columns": null,
            "grid_template_rows": null,
            "height": null,
            "justify_content": null,
            "justify_items": null,
            "left": null,
            "margin": null,
            "max_height": null,
            "max_width": null,
            "min_height": null,
            "min_width": null,
            "object_fit": null,
            "object_position": null,
            "order": null,
            "overflow": null,
            "overflow_x": null,
            "overflow_y": null,
            "padding": null,
            "right": null,
            "top": null,
            "visibility": null,
            "width": null
          }
        },
        "819184a13ad443a9b4a6d6baa53afb8b": {
          "model_module": "@jupyter-widgets/base",
          "model_name": "LayoutModel",
          "model_module_version": "1.2.0",
          "state": {
            "_model_module": "@jupyter-widgets/base",
            "_model_module_version": "1.2.0",
            "_model_name": "LayoutModel",
            "_view_count": null,
            "_view_module": "@jupyter-widgets/base",
            "_view_module_version": "1.2.0",
            "_view_name": "LayoutView",
            "align_content": null,
            "align_items": null,
            "align_self": null,
            "border": null,
            "bottom": null,
            "display": null,
            "flex": null,
            "flex_flow": null,
            "grid_area": null,
            "grid_auto_columns": null,
            "grid_auto_flow": null,
            "grid_auto_rows": null,
            "grid_column": null,
            "grid_gap": null,
            "grid_row": null,
            "grid_template_areas": null,
            "grid_template_columns": null,
            "grid_template_rows": null,
            "height": null,
            "justify_content": null,
            "justify_items": null,
            "left": null,
            "margin": null,
            "max_height": null,
            "max_width": null,
            "min_height": null,
            "min_width": null,
            "object_fit": null,
            "object_position": null,
            "order": null,
            "overflow": null,
            "overflow_x": null,
            "overflow_y": null,
            "padding": null,
            "right": null,
            "top": null,
            "visibility": null,
            "width": null
          }
        },
        "27f0d85f93f7479a84ecb02b0a541f64": {
          "model_module": "@jupyter-widgets/controls",
          "model_name": "DescriptionStyleModel",
          "model_module_version": "1.5.0",
          "state": {
            "_model_module": "@jupyter-widgets/controls",
            "_model_module_version": "1.5.0",
            "_model_name": "DescriptionStyleModel",
            "_view_count": null,
            "_view_module": "@jupyter-widgets/base",
            "_view_module_version": "1.2.0",
            "_view_name": "StyleView",
            "description_width": ""
          }
        },
        "942b6a5cb79e47bcaee16551c2d0dc2a": {
          "model_module": "@jupyter-widgets/base",
          "model_name": "LayoutModel",
          "model_module_version": "1.2.0",
          "state": {
            "_model_module": "@jupyter-widgets/base",
            "_model_module_version": "1.2.0",
            "_model_name": "LayoutModel",
            "_view_count": null,
            "_view_module": "@jupyter-widgets/base",
            "_view_module_version": "1.2.0",
            "_view_name": "LayoutView",
            "align_content": null,
            "align_items": null,
            "align_self": null,
            "border": null,
            "bottom": null,
            "display": null,
            "flex": null,
            "flex_flow": null,
            "grid_area": null,
            "grid_auto_columns": null,
            "grid_auto_flow": null,
            "grid_auto_rows": null,
            "grid_column": null,
            "grid_gap": null,
            "grid_row": null,
            "grid_template_areas": null,
            "grid_template_columns": null,
            "grid_template_rows": null,
            "height": null,
            "justify_content": null,
            "justify_items": null,
            "left": null,
            "margin": null,
            "max_height": null,
            "max_width": null,
            "min_height": null,
            "min_width": null,
            "object_fit": null,
            "object_position": null,
            "order": null,
            "overflow": null,
            "overflow_x": null,
            "overflow_y": null,
            "padding": null,
            "right": null,
            "top": null,
            "visibility": null,
            "width": null
          }
        },
        "3888e42ad1b042f89530a380a96beb9c": {
          "model_module": "@jupyter-widgets/controls",
          "model_name": "ProgressStyleModel",
          "model_module_version": "1.5.0",
          "state": {
            "_model_module": "@jupyter-widgets/controls",
            "_model_module_version": "1.5.0",
            "_model_name": "ProgressStyleModel",
            "_view_count": null,
            "_view_module": "@jupyter-widgets/base",
            "_view_module_version": "1.2.0",
            "_view_name": "StyleView",
            "bar_color": null,
            "description_width": ""
          }
        },
        "726de224948e4c438924c3d37a6df4dd": {
          "model_module": "@jupyter-widgets/base",
          "model_name": "LayoutModel",
          "model_module_version": "1.2.0",
          "state": {
            "_model_module": "@jupyter-widgets/base",
            "_model_module_version": "1.2.0",
            "_model_name": "LayoutModel",
            "_view_count": null,
            "_view_module": "@jupyter-widgets/base",
            "_view_module_version": "1.2.0",
            "_view_name": "LayoutView",
            "align_content": null,
            "align_items": null,
            "align_self": null,
            "border": null,
            "bottom": null,
            "display": null,
            "flex": null,
            "flex_flow": null,
            "grid_area": null,
            "grid_auto_columns": null,
            "grid_auto_flow": null,
            "grid_auto_rows": null,
            "grid_column": null,
            "grid_gap": null,
            "grid_row": null,
            "grid_template_areas": null,
            "grid_template_columns": null,
            "grid_template_rows": null,
            "height": null,
            "justify_content": null,
            "justify_items": null,
            "left": null,
            "margin": null,
            "max_height": null,
            "max_width": null,
            "min_height": null,
            "min_width": null,
            "object_fit": null,
            "object_position": null,
            "order": null,
            "overflow": null,
            "overflow_x": null,
            "overflow_y": null,
            "padding": null,
            "right": null,
            "top": null,
            "visibility": null,
            "width": null
          }
        },
        "898dc8b68131401f962a1e1db31b0101": {
          "model_module": "@jupyter-widgets/controls",
          "model_name": "DescriptionStyleModel",
          "model_module_version": "1.5.0",
          "state": {
            "_model_module": "@jupyter-widgets/controls",
            "_model_module_version": "1.5.0",
            "_model_name": "DescriptionStyleModel",
            "_view_count": null,
            "_view_module": "@jupyter-widgets/base",
            "_view_module_version": "1.2.0",
            "_view_name": "StyleView",
            "description_width": ""
          }
        },
        "0da58909f1954095bf6cc6d89e836adf": {
          "model_module": "@jupyter-widgets/controls",
          "model_name": "HBoxModel",
          "model_module_version": "1.5.0",
          "state": {
            "_dom_classes": [],
            "_model_module": "@jupyter-widgets/controls",
            "_model_module_version": "1.5.0",
            "_model_name": "HBoxModel",
            "_view_count": null,
            "_view_module": "@jupyter-widgets/controls",
            "_view_module_version": "1.5.0",
            "_view_name": "HBoxView",
            "box_style": "",
            "children": [
              "IPY_MODEL_c047714319ea4e6da6442b959da8ac75",
              "IPY_MODEL_e3a5213e26604484b36db8a8e121a750",
              "IPY_MODEL_3e4c3f3f9f74401bab7bb0d9dbefd47b"
            ],
            "layout": "IPY_MODEL_4a02f08e95eb4ec48dbb76d100e25d76"
          }
        },
        "c047714319ea4e6da6442b959da8ac75": {
          "model_module": "@jupyter-widgets/controls",
          "model_name": "HTMLModel",
          "model_module_version": "1.5.0",
          "state": {
            "_dom_classes": [],
            "_model_module": "@jupyter-widgets/controls",
            "_model_module_version": "1.5.0",
            "_model_name": "HTMLModel",
            "_view_count": null,
            "_view_module": "@jupyter-widgets/controls",
            "_view_module_version": "1.5.0",
            "_view_name": "HTMLView",
            "description": "",
            "description_tooltip": null,
            "layout": "IPY_MODEL_1a7a832e6454493ea1126d319f993932",
            "placeholder": "​",
            "style": "IPY_MODEL_385af9d78bba40278c3d22bf7767741d",
            "value": "100%"
          }
        },
        "e3a5213e26604484b36db8a8e121a750": {
          "model_module": "@jupyter-widgets/controls",
          "model_name": "FloatProgressModel",
          "model_module_version": "1.5.0",
          "state": {
            "_dom_classes": [],
            "_model_module": "@jupyter-widgets/controls",
            "_model_module_version": "1.5.0",
            "_model_name": "FloatProgressModel",
            "_view_count": null,
            "_view_module": "@jupyter-widgets/controls",
            "_view_module_version": "1.5.0",
            "_view_name": "ProgressView",
            "bar_style": "success",
            "description": "",
            "description_tooltip": null,
            "layout": "IPY_MODEL_e5cd371e0504498ab53fbef6fbabd97e",
            "max": 20,
            "min": 0,
            "orientation": "horizontal",
            "style": "IPY_MODEL_c0fc579054d94c5ba786870b1a9c9231",
            "value": 20
          }
        },
        "3e4c3f3f9f74401bab7bb0d9dbefd47b": {
          "model_module": "@jupyter-widgets/controls",
          "model_name": "HTMLModel",
          "model_module_version": "1.5.0",
          "state": {
            "_dom_classes": [],
            "_model_module": "@jupyter-widgets/controls",
            "_model_module_version": "1.5.0",
            "_model_name": "HTMLModel",
            "_view_count": null,
            "_view_module": "@jupyter-widgets/controls",
            "_view_module_version": "1.5.0",
            "_view_name": "HTMLView",
            "description": "",
            "description_tooltip": null,
            "layout": "IPY_MODEL_246af77199ae44c19262a365e92ec662",
            "placeholder": "​",
            "style": "IPY_MODEL_f8cdf4956f65496fa4f16a317415e89e",
            "value": " 20/20 [00:00&lt;00:00, 216.00it/s, loss=964.94]"
          }
        },
        "4a02f08e95eb4ec48dbb76d100e25d76": {
          "model_module": "@jupyter-widgets/base",
          "model_name": "LayoutModel",
          "model_module_version": "1.2.0",
          "state": {
            "_model_module": "@jupyter-widgets/base",
            "_model_module_version": "1.2.0",
            "_model_name": "LayoutModel",
            "_view_count": null,
            "_view_module": "@jupyter-widgets/base",
            "_view_module_version": "1.2.0",
            "_view_name": "LayoutView",
            "align_content": null,
            "align_items": null,
            "align_self": null,
            "border": null,
            "bottom": null,
            "display": null,
            "flex": null,
            "flex_flow": null,
            "grid_area": null,
            "grid_auto_columns": null,
            "grid_auto_flow": null,
            "grid_auto_rows": null,
            "grid_column": null,
            "grid_gap": null,
            "grid_row": null,
            "grid_template_areas": null,
            "grid_template_columns": null,
            "grid_template_rows": null,
            "height": null,
            "justify_content": null,
            "justify_items": null,
            "left": null,
            "margin": null,
            "max_height": null,
            "max_width": null,
            "min_height": null,
            "min_width": null,
            "object_fit": null,
            "object_position": null,
            "order": null,
            "overflow": null,
            "overflow_x": null,
            "overflow_y": null,
            "padding": null,
            "right": null,
            "top": null,
            "visibility": null,
            "width": null
          }
        },
        "1a7a832e6454493ea1126d319f993932": {
          "model_module": "@jupyter-widgets/base",
          "model_name": "LayoutModel",
          "model_module_version": "1.2.0",
          "state": {
            "_model_module": "@jupyter-widgets/base",
            "_model_module_version": "1.2.0",
            "_model_name": "LayoutModel",
            "_view_count": null,
            "_view_module": "@jupyter-widgets/base",
            "_view_module_version": "1.2.0",
            "_view_name": "LayoutView",
            "align_content": null,
            "align_items": null,
            "align_self": null,
            "border": null,
            "bottom": null,
            "display": null,
            "flex": null,
            "flex_flow": null,
            "grid_area": null,
            "grid_auto_columns": null,
            "grid_auto_flow": null,
            "grid_auto_rows": null,
            "grid_column": null,
            "grid_gap": null,
            "grid_row": null,
            "grid_template_areas": null,
            "grid_template_columns": null,
            "grid_template_rows": null,
            "height": null,
            "justify_content": null,
            "justify_items": null,
            "left": null,
            "margin": null,
            "max_height": null,
            "max_width": null,
            "min_height": null,
            "min_width": null,
            "object_fit": null,
            "object_position": null,
            "order": null,
            "overflow": null,
            "overflow_x": null,
            "overflow_y": null,
            "padding": null,
            "right": null,
            "top": null,
            "visibility": null,
            "width": null
          }
        },
        "385af9d78bba40278c3d22bf7767741d": {
          "model_module": "@jupyter-widgets/controls",
          "model_name": "DescriptionStyleModel",
          "model_module_version": "1.5.0",
          "state": {
            "_model_module": "@jupyter-widgets/controls",
            "_model_module_version": "1.5.0",
            "_model_name": "DescriptionStyleModel",
            "_view_count": null,
            "_view_module": "@jupyter-widgets/base",
            "_view_module_version": "1.2.0",
            "_view_name": "StyleView",
            "description_width": ""
          }
        },
        "e5cd371e0504498ab53fbef6fbabd97e": {
          "model_module": "@jupyter-widgets/base",
          "model_name": "LayoutModel",
          "model_module_version": "1.2.0",
          "state": {
            "_model_module": "@jupyter-widgets/base",
            "_model_module_version": "1.2.0",
            "_model_name": "LayoutModel",
            "_view_count": null,
            "_view_module": "@jupyter-widgets/base",
            "_view_module_version": "1.2.0",
            "_view_name": "LayoutView",
            "align_content": null,
            "align_items": null,
            "align_self": null,
            "border": null,
            "bottom": null,
            "display": null,
            "flex": null,
            "flex_flow": null,
            "grid_area": null,
            "grid_auto_columns": null,
            "grid_auto_flow": null,
            "grid_auto_rows": null,
            "grid_column": null,
            "grid_gap": null,
            "grid_row": null,
            "grid_template_areas": null,
            "grid_template_columns": null,
            "grid_template_rows": null,
            "height": null,
            "justify_content": null,
            "justify_items": null,
            "left": null,
            "margin": null,
            "max_height": null,
            "max_width": null,
            "min_height": null,
            "min_width": null,
            "object_fit": null,
            "object_position": null,
            "order": null,
            "overflow": null,
            "overflow_x": null,
            "overflow_y": null,
            "padding": null,
            "right": null,
            "top": null,
            "visibility": null,
            "width": null
          }
        },
        "c0fc579054d94c5ba786870b1a9c9231": {
          "model_module": "@jupyter-widgets/controls",
          "model_name": "ProgressStyleModel",
          "model_module_version": "1.5.0",
          "state": {
            "_model_module": "@jupyter-widgets/controls",
            "_model_module_version": "1.5.0",
            "_model_name": "ProgressStyleModel",
            "_view_count": null,
            "_view_module": "@jupyter-widgets/base",
            "_view_module_version": "1.2.0",
            "_view_name": "StyleView",
            "bar_color": null,
            "description_width": ""
          }
        },
        "246af77199ae44c19262a365e92ec662": {
          "model_module": "@jupyter-widgets/base",
          "model_name": "LayoutModel",
          "model_module_version": "1.2.0",
          "state": {
            "_model_module": "@jupyter-widgets/base",
            "_model_module_version": "1.2.0",
            "_model_name": "LayoutModel",
            "_view_count": null,
            "_view_module": "@jupyter-widgets/base",
            "_view_module_version": "1.2.0",
            "_view_name": "LayoutView",
            "align_content": null,
            "align_items": null,
            "align_self": null,
            "border": null,
            "bottom": null,
            "display": null,
            "flex": null,
            "flex_flow": null,
            "grid_area": null,
            "grid_auto_columns": null,
            "grid_auto_flow": null,
            "grid_auto_rows": null,
            "grid_column": null,
            "grid_gap": null,
            "grid_row": null,
            "grid_template_areas": null,
            "grid_template_columns": null,
            "grid_template_rows": null,
            "height": null,
            "justify_content": null,
            "justify_items": null,
            "left": null,
            "margin": null,
            "max_height": null,
            "max_width": null,
            "min_height": null,
            "min_width": null,
            "object_fit": null,
            "object_position": null,
            "order": null,
            "overflow": null,
            "overflow_x": null,
            "overflow_y": null,
            "padding": null,
            "right": null,
            "top": null,
            "visibility": null,
            "width": null
          }
        },
        "f8cdf4956f65496fa4f16a317415e89e": {
          "model_module": "@jupyter-widgets/controls",
          "model_name": "DescriptionStyleModel",
          "model_module_version": "1.5.0",
          "state": {
            "_model_module": "@jupyter-widgets/controls",
            "_model_module_version": "1.5.0",
            "_model_name": "DescriptionStyleModel",
            "_view_count": null,
            "_view_module": "@jupyter-widgets/base",
            "_view_module_version": "1.2.0",
            "_view_name": "StyleView",
            "description_width": ""
          }
        },
        "d2379ca119404e5385b7c713e6afc27a": {
          "model_module": "@jupyter-widgets/controls",
          "model_name": "HBoxModel",
          "model_module_version": "1.5.0",
          "state": {
            "_dom_classes": [],
            "_model_module": "@jupyter-widgets/controls",
            "_model_module_version": "1.5.0",
            "_model_name": "HBoxModel",
            "_view_count": null,
            "_view_module": "@jupyter-widgets/controls",
            "_view_module_version": "1.5.0",
            "_view_name": "HBoxView",
            "box_style": "",
            "children": [
              "IPY_MODEL_22a8047afaed423fba9465c3c9c9c276",
              "IPY_MODEL_3565ea30df3f49d88040809410b46a70",
              "IPY_MODEL_982008b8fc4141719e16997a94e288fd"
            ],
            "layout": "IPY_MODEL_943c3b94219949d8a3d844546eb9436b"
          }
        },
        "22a8047afaed423fba9465c3c9c9c276": {
          "model_module": "@jupyter-widgets/controls",
          "model_name": "HTMLModel",
          "model_module_version": "1.5.0",
          "state": {
            "_dom_classes": [],
            "_model_module": "@jupyter-widgets/controls",
            "_model_module_version": "1.5.0",
            "_model_name": "HTMLModel",
            "_view_count": null,
            "_view_module": "@jupyter-widgets/controls",
            "_view_module_version": "1.5.0",
            "_view_name": "HTMLView",
            "description": "",
            "description_tooltip": null,
            "layout": "IPY_MODEL_cfcadb0866784343bf2d038ac7b8e0f3",
            "placeholder": "​",
            "style": "IPY_MODEL_3bfe7cd17726415abc95387e91104b7e",
            "value": "100%"
          }
        },
        "3565ea30df3f49d88040809410b46a70": {
          "model_module": "@jupyter-widgets/controls",
          "model_name": "FloatProgressModel",
          "model_module_version": "1.5.0",
          "state": {
            "_dom_classes": [],
            "_model_module": "@jupyter-widgets/controls",
            "_model_module_version": "1.5.0",
            "_model_name": "FloatProgressModel",
            "_view_count": null,
            "_view_module": "@jupyter-widgets/controls",
            "_view_module_version": "1.5.0",
            "_view_name": "ProgressView",
            "bar_style": "success",
            "description": "",
            "description_tooltip": null,
            "layout": "IPY_MODEL_871c98f2b91b4f829521020da00879e0",
            "max": 1000,
            "min": 0,
            "orientation": "horizontal",
            "style": "IPY_MODEL_53e59dd7d83e43bca595497398319124",
            "value": 1000
          }
        },
        "982008b8fc4141719e16997a94e288fd": {
          "model_module": "@jupyter-widgets/controls",
          "model_name": "HTMLModel",
          "model_module_version": "1.5.0",
          "state": {
            "_dom_classes": [],
            "_model_module": "@jupyter-widgets/controls",
            "_model_module_version": "1.5.0",
            "_model_name": "HTMLModel",
            "_view_count": null,
            "_view_module": "@jupyter-widgets/controls",
            "_view_module_version": "1.5.0",
            "_view_name": "HTMLView",
            "description": "",
            "description_tooltip": null,
            "layout": "IPY_MODEL_c866150dc7ef4cda940733ff8d88eb53",
            "placeholder": "​",
            "style": "IPY_MODEL_dc0de760e6704658ae5ccf3b0cf93909",
            "value": " 1000/1000 [00:02&lt;00:00, 668.23it/s, loss=2.64]"
          }
        },
        "943c3b94219949d8a3d844546eb9436b": {
          "model_module": "@jupyter-widgets/base",
          "model_name": "LayoutModel",
          "model_module_version": "1.2.0",
          "state": {
            "_model_module": "@jupyter-widgets/base",
            "_model_module_version": "1.2.0",
            "_model_name": "LayoutModel",
            "_view_count": null,
            "_view_module": "@jupyter-widgets/base",
            "_view_module_version": "1.2.0",
            "_view_name": "LayoutView",
            "align_content": null,
            "align_items": null,
            "align_self": null,
            "border": null,
            "bottom": null,
            "display": null,
            "flex": null,
            "flex_flow": null,
            "grid_area": null,
            "grid_auto_columns": null,
            "grid_auto_flow": null,
            "grid_auto_rows": null,
            "grid_column": null,
            "grid_gap": null,
            "grid_row": null,
            "grid_template_areas": null,
            "grid_template_columns": null,
            "grid_template_rows": null,
            "height": null,
            "justify_content": null,
            "justify_items": null,
            "left": null,
            "margin": null,
            "max_height": null,
            "max_width": null,
            "min_height": null,
            "min_width": null,
            "object_fit": null,
            "object_position": null,
            "order": null,
            "overflow": null,
            "overflow_x": null,
            "overflow_y": null,
            "padding": null,
            "right": null,
            "top": null,
            "visibility": null,
            "width": null
          }
        },
        "cfcadb0866784343bf2d038ac7b8e0f3": {
          "model_module": "@jupyter-widgets/base",
          "model_name": "LayoutModel",
          "model_module_version": "1.2.0",
          "state": {
            "_model_module": "@jupyter-widgets/base",
            "_model_module_version": "1.2.0",
            "_model_name": "LayoutModel",
            "_view_count": null,
            "_view_module": "@jupyter-widgets/base",
            "_view_module_version": "1.2.0",
            "_view_name": "LayoutView",
            "align_content": null,
            "align_items": null,
            "align_self": null,
            "border": null,
            "bottom": null,
            "display": null,
            "flex": null,
            "flex_flow": null,
            "grid_area": null,
            "grid_auto_columns": null,
            "grid_auto_flow": null,
            "grid_auto_rows": null,
            "grid_column": null,
            "grid_gap": null,
            "grid_row": null,
            "grid_template_areas": null,
            "grid_template_columns": null,
            "grid_template_rows": null,
            "height": null,
            "justify_content": null,
            "justify_items": null,
            "left": null,
            "margin": null,
            "max_height": null,
            "max_width": null,
            "min_height": null,
            "min_width": null,
            "object_fit": null,
            "object_position": null,
            "order": null,
            "overflow": null,
            "overflow_x": null,
            "overflow_y": null,
            "padding": null,
            "right": null,
            "top": null,
            "visibility": null,
            "width": null
          }
        },
        "3bfe7cd17726415abc95387e91104b7e": {
          "model_module": "@jupyter-widgets/controls",
          "model_name": "DescriptionStyleModel",
          "model_module_version": "1.5.0",
          "state": {
            "_model_module": "@jupyter-widgets/controls",
            "_model_module_version": "1.5.0",
            "_model_name": "DescriptionStyleModel",
            "_view_count": null,
            "_view_module": "@jupyter-widgets/base",
            "_view_module_version": "1.2.0",
            "_view_name": "StyleView",
            "description_width": ""
          }
        },
        "871c98f2b91b4f829521020da00879e0": {
          "model_module": "@jupyter-widgets/base",
          "model_name": "LayoutModel",
          "model_module_version": "1.2.0",
          "state": {
            "_model_module": "@jupyter-widgets/base",
            "_model_module_version": "1.2.0",
            "_model_name": "LayoutModel",
            "_view_count": null,
            "_view_module": "@jupyter-widgets/base",
            "_view_module_version": "1.2.0",
            "_view_name": "LayoutView",
            "align_content": null,
            "align_items": null,
            "align_self": null,
            "border": null,
            "bottom": null,
            "display": null,
            "flex": null,
            "flex_flow": null,
            "grid_area": null,
            "grid_auto_columns": null,
            "grid_auto_flow": null,
            "grid_auto_rows": null,
            "grid_column": null,
            "grid_gap": null,
            "grid_row": null,
            "grid_template_areas": null,
            "grid_template_columns": null,
            "grid_template_rows": null,
            "height": null,
            "justify_content": null,
            "justify_items": null,
            "left": null,
            "margin": null,
            "max_height": null,
            "max_width": null,
            "min_height": null,
            "min_width": null,
            "object_fit": null,
            "object_position": null,
            "order": null,
            "overflow": null,
            "overflow_x": null,
            "overflow_y": null,
            "padding": null,
            "right": null,
            "top": null,
            "visibility": null,
            "width": null
          }
        },
        "53e59dd7d83e43bca595497398319124": {
          "model_module": "@jupyter-widgets/controls",
          "model_name": "ProgressStyleModel",
          "model_module_version": "1.5.0",
          "state": {
            "_model_module": "@jupyter-widgets/controls",
            "_model_module_version": "1.5.0",
            "_model_name": "ProgressStyleModel",
            "_view_count": null,
            "_view_module": "@jupyter-widgets/base",
            "_view_module_version": "1.2.0",
            "_view_name": "StyleView",
            "bar_color": null,
            "description_width": ""
          }
        },
        "c866150dc7ef4cda940733ff8d88eb53": {
          "model_module": "@jupyter-widgets/base",
          "model_name": "LayoutModel",
          "model_module_version": "1.2.0",
          "state": {
            "_model_module": "@jupyter-widgets/base",
            "_model_module_version": "1.2.0",
            "_model_name": "LayoutModel",
            "_view_count": null,
            "_view_module": "@jupyter-widgets/base",
            "_view_module_version": "1.2.0",
            "_view_name": "LayoutView",
            "align_content": null,
            "align_items": null,
            "align_self": null,
            "border": null,
            "bottom": null,
            "display": null,
            "flex": null,
            "flex_flow": null,
            "grid_area": null,
            "grid_auto_columns": null,
            "grid_auto_flow": null,
            "grid_auto_rows": null,
            "grid_column": null,
            "grid_gap": null,
            "grid_row": null,
            "grid_template_areas": null,
            "grid_template_columns": null,
            "grid_template_rows": null,
            "height": null,
            "justify_content": null,
            "justify_items": null,
            "left": null,
            "margin": null,
            "max_height": null,
            "max_width": null,
            "min_height": null,
            "min_width": null,
            "object_fit": null,
            "object_position": null,
            "order": null,
            "overflow": null,
            "overflow_x": null,
            "overflow_y": null,
            "padding": null,
            "right": null,
            "top": null,
            "visibility": null,
            "width": null
          }
        },
        "dc0de760e6704658ae5ccf3b0cf93909": {
          "model_module": "@jupyter-widgets/controls",
          "model_name": "DescriptionStyleModel",
          "model_module_version": "1.5.0",
          "state": {
            "_model_module": "@jupyter-widgets/controls",
            "_model_module_version": "1.5.0",
            "_model_name": "DescriptionStyleModel",
            "_view_count": null,
            "_view_module": "@jupyter-widgets/base",
            "_view_module_version": "1.2.0",
            "_view_name": "StyleView",
            "description_width": ""
          }
        },
        "81be12a67a5f44f6858d489b789c2c9c": {
          "model_module": "@jupyter-widgets/controls",
          "model_name": "HBoxModel",
          "model_module_version": "1.5.0",
          "state": {
            "_dom_classes": [],
            "_model_module": "@jupyter-widgets/controls",
            "_model_module_version": "1.5.0",
            "_model_name": "HBoxModel",
            "_view_count": null,
            "_view_module": "@jupyter-widgets/controls",
            "_view_module_version": "1.5.0",
            "_view_name": "HBoxView",
            "box_style": "",
            "children": [
              "IPY_MODEL_02a8d3b882364f52b2ce5a1687385818",
              "IPY_MODEL_4bd1ba3f392e49dcbbf070134423ee3e",
              "IPY_MODEL_dadf37bb28a34a9085c05c897af77967"
            ],
            "layout": "IPY_MODEL_5b8d280b1ed3483dac907f5860b33d9c"
          }
        },
        "02a8d3b882364f52b2ce5a1687385818": {
          "model_module": "@jupyter-widgets/controls",
          "model_name": "HTMLModel",
          "model_module_version": "1.5.0",
          "state": {
            "_dom_classes": [],
            "_model_module": "@jupyter-widgets/controls",
            "_model_module_version": "1.5.0",
            "_model_name": "HTMLModel",
            "_view_count": null,
            "_view_module": "@jupyter-widgets/controls",
            "_view_module_version": "1.5.0",
            "_view_name": "HTMLView",
            "description": "",
            "description_tooltip": null,
            "layout": "IPY_MODEL_f5dd6ae65c8744019fb57462dce5c809",
            "placeholder": "​",
            "style": "IPY_MODEL_0a0346f9f56d4a76a327ba3691710ddc",
            "value": "100%"
          }
        },
        "4bd1ba3f392e49dcbbf070134423ee3e": {
          "model_module": "@jupyter-widgets/controls",
          "model_name": "FloatProgressModel",
          "model_module_version": "1.5.0",
          "state": {
            "_dom_classes": [],
            "_model_module": "@jupyter-widgets/controls",
            "_model_module_version": "1.5.0",
            "_model_name": "FloatProgressModel",
            "_view_count": null,
            "_view_module": "@jupyter-widgets/controls",
            "_view_module_version": "1.5.0",
            "_view_name": "ProgressView",
            "bar_style": "success",
            "description": "",
            "description_tooltip": null,
            "layout": "IPY_MODEL_165ca49870dc42a394810ea31bfec534",
            "max": 1000,
            "min": 0,
            "orientation": "horizontal",
            "style": "IPY_MODEL_3f98c748cebf46f5a5514c5bc6aeb6b1",
            "value": 1000
          }
        },
        "dadf37bb28a34a9085c05c897af77967": {
          "model_module": "@jupyter-widgets/controls",
          "model_name": "HTMLModel",
          "model_module_version": "1.5.0",
          "state": {
            "_dom_classes": [],
            "_model_module": "@jupyter-widgets/controls",
            "_model_module_version": "1.5.0",
            "_model_name": "HTMLModel",
            "_view_count": null,
            "_view_module": "@jupyter-widgets/controls",
            "_view_module_version": "1.5.0",
            "_view_name": "HTMLView",
            "description": "",
            "description_tooltip": null,
            "layout": "IPY_MODEL_8ba76aebba74456a9b84bb7fd96f483f",
            "placeholder": "​",
            "style": "IPY_MODEL_ba0528f3d9964054ad2759bbac5db57e",
            "value": " 1000/1000 [00:03&lt;00:00, 342.57it/s, loss=187.31]"
          }
        },
        "5b8d280b1ed3483dac907f5860b33d9c": {
          "model_module": "@jupyter-widgets/base",
          "model_name": "LayoutModel",
          "model_module_version": "1.2.0",
          "state": {
            "_model_module": "@jupyter-widgets/base",
            "_model_module_version": "1.2.0",
            "_model_name": "LayoutModel",
            "_view_count": null,
            "_view_module": "@jupyter-widgets/base",
            "_view_module_version": "1.2.0",
            "_view_name": "LayoutView",
            "align_content": null,
            "align_items": null,
            "align_self": null,
            "border": null,
            "bottom": null,
            "display": null,
            "flex": null,
            "flex_flow": null,
            "grid_area": null,
            "grid_auto_columns": null,
            "grid_auto_flow": null,
            "grid_auto_rows": null,
            "grid_column": null,
            "grid_gap": null,
            "grid_row": null,
            "grid_template_areas": null,
            "grid_template_columns": null,
            "grid_template_rows": null,
            "height": null,
            "justify_content": null,
            "justify_items": null,
            "left": null,
            "margin": null,
            "max_height": null,
            "max_width": null,
            "min_height": null,
            "min_width": null,
            "object_fit": null,
            "object_position": null,
            "order": null,
            "overflow": null,
            "overflow_x": null,
            "overflow_y": null,
            "padding": null,
            "right": null,
            "top": null,
            "visibility": null,
            "width": null
          }
        },
        "f5dd6ae65c8744019fb57462dce5c809": {
          "model_module": "@jupyter-widgets/base",
          "model_name": "LayoutModel",
          "model_module_version": "1.2.0",
          "state": {
            "_model_module": "@jupyter-widgets/base",
            "_model_module_version": "1.2.0",
            "_model_name": "LayoutModel",
            "_view_count": null,
            "_view_module": "@jupyter-widgets/base",
            "_view_module_version": "1.2.0",
            "_view_name": "LayoutView",
            "align_content": null,
            "align_items": null,
            "align_self": null,
            "border": null,
            "bottom": null,
            "display": null,
            "flex": null,
            "flex_flow": null,
            "grid_area": null,
            "grid_auto_columns": null,
            "grid_auto_flow": null,
            "grid_auto_rows": null,
            "grid_column": null,
            "grid_gap": null,
            "grid_row": null,
            "grid_template_areas": null,
            "grid_template_columns": null,
            "grid_template_rows": null,
            "height": null,
            "justify_content": null,
            "justify_items": null,
            "left": null,
            "margin": null,
            "max_height": null,
            "max_width": null,
            "min_height": null,
            "min_width": null,
            "object_fit": null,
            "object_position": null,
            "order": null,
            "overflow": null,
            "overflow_x": null,
            "overflow_y": null,
            "padding": null,
            "right": null,
            "top": null,
            "visibility": null,
            "width": null
          }
        },
        "0a0346f9f56d4a76a327ba3691710ddc": {
          "model_module": "@jupyter-widgets/controls",
          "model_name": "DescriptionStyleModel",
          "model_module_version": "1.5.0",
          "state": {
            "_model_module": "@jupyter-widgets/controls",
            "_model_module_version": "1.5.0",
            "_model_name": "DescriptionStyleModel",
            "_view_count": null,
            "_view_module": "@jupyter-widgets/base",
            "_view_module_version": "1.2.0",
            "_view_name": "StyleView",
            "description_width": ""
          }
        },
        "165ca49870dc42a394810ea31bfec534": {
          "model_module": "@jupyter-widgets/base",
          "model_name": "LayoutModel",
          "model_module_version": "1.2.0",
          "state": {
            "_model_module": "@jupyter-widgets/base",
            "_model_module_version": "1.2.0",
            "_model_name": "LayoutModel",
            "_view_count": null,
            "_view_module": "@jupyter-widgets/base",
            "_view_module_version": "1.2.0",
            "_view_name": "LayoutView",
            "align_content": null,
            "align_items": null,
            "align_self": null,
            "border": null,
            "bottom": null,
            "display": null,
            "flex": null,
            "flex_flow": null,
            "grid_area": null,
            "grid_auto_columns": null,
            "grid_auto_flow": null,
            "grid_auto_rows": null,
            "grid_column": null,
            "grid_gap": null,
            "grid_row": null,
            "grid_template_areas": null,
            "grid_template_columns": null,
            "grid_template_rows": null,
            "height": null,
            "justify_content": null,
            "justify_items": null,
            "left": null,
            "margin": null,
            "max_height": null,
            "max_width": null,
            "min_height": null,
            "min_width": null,
            "object_fit": null,
            "object_position": null,
            "order": null,
            "overflow": null,
            "overflow_x": null,
            "overflow_y": null,
            "padding": null,
            "right": null,
            "top": null,
            "visibility": null,
            "width": null
          }
        },
        "3f98c748cebf46f5a5514c5bc6aeb6b1": {
          "model_module": "@jupyter-widgets/controls",
          "model_name": "ProgressStyleModel",
          "model_module_version": "1.5.0",
          "state": {
            "_model_module": "@jupyter-widgets/controls",
            "_model_module_version": "1.5.0",
            "_model_name": "ProgressStyleModel",
            "_view_count": null,
            "_view_module": "@jupyter-widgets/base",
            "_view_module_version": "1.2.0",
            "_view_name": "StyleView",
            "bar_color": null,
            "description_width": ""
          }
        },
        "8ba76aebba74456a9b84bb7fd96f483f": {
          "model_module": "@jupyter-widgets/base",
          "model_name": "LayoutModel",
          "model_module_version": "1.2.0",
          "state": {
            "_model_module": "@jupyter-widgets/base",
            "_model_module_version": "1.2.0",
            "_model_name": "LayoutModel",
            "_view_count": null,
            "_view_module": "@jupyter-widgets/base",
            "_view_module_version": "1.2.0",
            "_view_name": "LayoutView",
            "align_content": null,
            "align_items": null,
            "align_self": null,
            "border": null,
            "bottom": null,
            "display": null,
            "flex": null,
            "flex_flow": null,
            "grid_area": null,
            "grid_auto_columns": null,
            "grid_auto_flow": null,
            "grid_auto_rows": null,
            "grid_column": null,
            "grid_gap": null,
            "grid_row": null,
            "grid_template_areas": null,
            "grid_template_columns": null,
            "grid_template_rows": null,
            "height": null,
            "justify_content": null,
            "justify_items": null,
            "left": null,
            "margin": null,
            "max_height": null,
            "max_width": null,
            "min_height": null,
            "min_width": null,
            "object_fit": null,
            "object_position": null,
            "order": null,
            "overflow": null,
            "overflow_x": null,
            "overflow_y": null,
            "padding": null,
            "right": null,
            "top": null,
            "visibility": null,
            "width": null
          }
        },
        "ba0528f3d9964054ad2759bbac5db57e": {
          "model_module": "@jupyter-widgets/controls",
          "model_name": "DescriptionStyleModel",
          "model_module_version": "1.5.0",
          "state": {
            "_model_module": "@jupyter-widgets/controls",
            "_model_module_version": "1.5.0",
            "_model_name": "DescriptionStyleModel",
            "_view_count": null,
            "_view_module": "@jupyter-widgets/base",
            "_view_module_version": "1.2.0",
            "_view_name": "StyleView",
            "description_width": ""
          }
        },
        "40bae6c6b813403e9366e9a7c53b1a60": {
          "model_module": "@jupyter-widgets/controls",
          "model_name": "HBoxModel",
          "model_module_version": "1.5.0",
          "state": {
            "_dom_classes": [],
            "_model_module": "@jupyter-widgets/controls",
            "_model_module_version": "1.5.0",
            "_model_name": "HBoxModel",
            "_view_count": null,
            "_view_module": "@jupyter-widgets/controls",
            "_view_module_version": "1.5.0",
            "_view_name": "HBoxView",
            "box_style": "",
            "children": [
              "IPY_MODEL_7f910681fdae49c59899053e7a8b1307",
              "IPY_MODEL_55bc26e3e04143be910933de450a8584",
              "IPY_MODEL_6b44ae4e5a084ab29281b3bae78e8315"
            ],
            "layout": "IPY_MODEL_2868ac226cb14389b3a64f2071f2a7c4"
          }
        },
        "7f910681fdae49c59899053e7a8b1307": {
          "model_module": "@jupyter-widgets/controls",
          "model_name": "HTMLModel",
          "model_module_version": "1.5.0",
          "state": {
            "_dom_classes": [],
            "_model_module": "@jupyter-widgets/controls",
            "_model_module_version": "1.5.0",
            "_model_name": "HTMLModel",
            "_view_count": null,
            "_view_module": "@jupyter-widgets/controls",
            "_view_module_version": "1.5.0",
            "_view_name": "HTMLView",
            "description": "",
            "description_tooltip": null,
            "layout": "IPY_MODEL_5528702e6c1e465b8e520985ef99b8e7",
            "placeholder": "​",
            "style": "IPY_MODEL_bfe219d904e74218901706b914bf315e",
            "value": "100%"
          }
        },
        "55bc26e3e04143be910933de450a8584": {
          "model_module": "@jupyter-widgets/controls",
          "model_name": "FloatProgressModel",
          "model_module_version": "1.5.0",
          "state": {
            "_dom_classes": [],
            "_model_module": "@jupyter-widgets/controls",
            "_model_module_version": "1.5.0",
            "_model_name": "FloatProgressModel",
            "_view_count": null,
            "_view_module": "@jupyter-widgets/controls",
            "_view_module_version": "1.5.0",
            "_view_name": "ProgressView",
            "bar_style": "success",
            "description": "",
            "description_tooltip": null,
            "layout": "IPY_MODEL_a19fcab5c38d4e03ac2c35401475d465",
            "max": 20,
            "min": 0,
            "orientation": "horizontal",
            "style": "IPY_MODEL_939ab1cf78a948e6ae2cab7a32898500",
            "value": 20
          }
        },
        "6b44ae4e5a084ab29281b3bae78e8315": {
          "model_module": "@jupyter-widgets/controls",
          "model_name": "HTMLModel",
          "model_module_version": "1.5.0",
          "state": {
            "_dom_classes": [],
            "_model_module": "@jupyter-widgets/controls",
            "_model_module_version": "1.5.0",
            "_model_name": "HTMLModel",
            "_view_count": null,
            "_view_module": "@jupyter-widgets/controls",
            "_view_module_version": "1.5.0",
            "_view_name": "HTMLView",
            "description": "",
            "description_tooltip": null,
            "layout": "IPY_MODEL_256a9466caa74addad2096b302d6e043",
            "placeholder": "​",
            "style": "IPY_MODEL_72ced6e732954c22917fb6e3cf3bbbed",
            "value": " 20/20 [00:00&lt;00:00, 227.39it/s, loss=1093.40]"
          }
        },
        "2868ac226cb14389b3a64f2071f2a7c4": {
          "model_module": "@jupyter-widgets/base",
          "model_name": "LayoutModel",
          "model_module_version": "1.2.0",
          "state": {
            "_model_module": "@jupyter-widgets/base",
            "_model_module_version": "1.2.0",
            "_model_name": "LayoutModel",
            "_view_count": null,
            "_view_module": "@jupyter-widgets/base",
            "_view_module_version": "1.2.0",
            "_view_name": "LayoutView",
            "align_content": null,
            "align_items": null,
            "align_self": null,
            "border": null,
            "bottom": null,
            "display": null,
            "flex": null,
            "flex_flow": null,
            "grid_area": null,
            "grid_auto_columns": null,
            "grid_auto_flow": null,
            "grid_auto_rows": null,
            "grid_column": null,
            "grid_gap": null,
            "grid_row": null,
            "grid_template_areas": null,
            "grid_template_columns": null,
            "grid_template_rows": null,
            "height": null,
            "justify_content": null,
            "justify_items": null,
            "left": null,
            "margin": null,
            "max_height": null,
            "max_width": null,
            "min_height": null,
            "min_width": null,
            "object_fit": null,
            "object_position": null,
            "order": null,
            "overflow": null,
            "overflow_x": null,
            "overflow_y": null,
            "padding": null,
            "right": null,
            "top": null,
            "visibility": null,
            "width": null
          }
        },
        "5528702e6c1e465b8e520985ef99b8e7": {
          "model_module": "@jupyter-widgets/base",
          "model_name": "LayoutModel",
          "model_module_version": "1.2.0",
          "state": {
            "_model_module": "@jupyter-widgets/base",
            "_model_module_version": "1.2.0",
            "_model_name": "LayoutModel",
            "_view_count": null,
            "_view_module": "@jupyter-widgets/base",
            "_view_module_version": "1.2.0",
            "_view_name": "LayoutView",
            "align_content": null,
            "align_items": null,
            "align_self": null,
            "border": null,
            "bottom": null,
            "display": null,
            "flex": null,
            "flex_flow": null,
            "grid_area": null,
            "grid_auto_columns": null,
            "grid_auto_flow": null,
            "grid_auto_rows": null,
            "grid_column": null,
            "grid_gap": null,
            "grid_row": null,
            "grid_template_areas": null,
            "grid_template_columns": null,
            "grid_template_rows": null,
            "height": null,
            "justify_content": null,
            "justify_items": null,
            "left": null,
            "margin": null,
            "max_height": null,
            "max_width": null,
            "min_height": null,
            "min_width": null,
            "object_fit": null,
            "object_position": null,
            "order": null,
            "overflow": null,
            "overflow_x": null,
            "overflow_y": null,
            "padding": null,
            "right": null,
            "top": null,
            "visibility": null,
            "width": null
          }
        },
        "bfe219d904e74218901706b914bf315e": {
          "model_module": "@jupyter-widgets/controls",
          "model_name": "DescriptionStyleModel",
          "model_module_version": "1.5.0",
          "state": {
            "_model_module": "@jupyter-widgets/controls",
            "_model_module_version": "1.5.0",
            "_model_name": "DescriptionStyleModel",
            "_view_count": null,
            "_view_module": "@jupyter-widgets/base",
            "_view_module_version": "1.2.0",
            "_view_name": "StyleView",
            "description_width": ""
          }
        },
        "a19fcab5c38d4e03ac2c35401475d465": {
          "model_module": "@jupyter-widgets/base",
          "model_name": "LayoutModel",
          "model_module_version": "1.2.0",
          "state": {
            "_model_module": "@jupyter-widgets/base",
            "_model_module_version": "1.2.0",
            "_model_name": "LayoutModel",
            "_view_count": null,
            "_view_module": "@jupyter-widgets/base",
            "_view_module_version": "1.2.0",
            "_view_name": "LayoutView",
            "align_content": null,
            "align_items": null,
            "align_self": null,
            "border": null,
            "bottom": null,
            "display": null,
            "flex": null,
            "flex_flow": null,
            "grid_area": null,
            "grid_auto_columns": null,
            "grid_auto_flow": null,
            "grid_auto_rows": null,
            "grid_column": null,
            "grid_gap": null,
            "grid_row": null,
            "grid_template_areas": null,
            "grid_template_columns": null,
            "grid_template_rows": null,
            "height": null,
            "justify_content": null,
            "justify_items": null,
            "left": null,
            "margin": null,
            "max_height": null,
            "max_width": null,
            "min_height": null,
            "min_width": null,
            "object_fit": null,
            "object_position": null,
            "order": null,
            "overflow": null,
            "overflow_x": null,
            "overflow_y": null,
            "padding": null,
            "right": null,
            "top": null,
            "visibility": null,
            "width": null
          }
        },
        "939ab1cf78a948e6ae2cab7a32898500": {
          "model_module": "@jupyter-widgets/controls",
          "model_name": "ProgressStyleModel",
          "model_module_version": "1.5.0",
          "state": {
            "_model_module": "@jupyter-widgets/controls",
            "_model_module_version": "1.5.0",
            "_model_name": "ProgressStyleModel",
            "_view_count": null,
            "_view_module": "@jupyter-widgets/base",
            "_view_module_version": "1.2.0",
            "_view_name": "StyleView",
            "bar_color": null,
            "description_width": ""
          }
        },
        "256a9466caa74addad2096b302d6e043": {
          "model_module": "@jupyter-widgets/base",
          "model_name": "LayoutModel",
          "model_module_version": "1.2.0",
          "state": {
            "_model_module": "@jupyter-widgets/base",
            "_model_module_version": "1.2.0",
            "_model_name": "LayoutModel",
            "_view_count": null,
            "_view_module": "@jupyter-widgets/base",
            "_view_module_version": "1.2.0",
            "_view_name": "LayoutView",
            "align_content": null,
            "align_items": null,
            "align_self": null,
            "border": null,
            "bottom": null,
            "display": null,
            "flex": null,
            "flex_flow": null,
            "grid_area": null,
            "grid_auto_columns": null,
            "grid_auto_flow": null,
            "grid_auto_rows": null,
            "grid_column": null,
            "grid_gap": null,
            "grid_row": null,
            "grid_template_areas": null,
            "grid_template_columns": null,
            "grid_template_rows": null,
            "height": null,
            "justify_content": null,
            "justify_items": null,
            "left": null,
            "margin": null,
            "max_height": null,
            "max_width": null,
            "min_height": null,
            "min_width": null,
            "object_fit": null,
            "object_position": null,
            "order": null,
            "overflow": null,
            "overflow_x": null,
            "overflow_y": null,
            "padding": null,
            "right": null,
            "top": null,
            "visibility": null,
            "width": null
          }
        },
        "72ced6e732954c22917fb6e3cf3bbbed": {
          "model_module": "@jupyter-widgets/controls",
          "model_name": "DescriptionStyleModel",
          "model_module_version": "1.5.0",
          "state": {
            "_model_module": "@jupyter-widgets/controls",
            "_model_module_version": "1.5.0",
            "_model_name": "DescriptionStyleModel",
            "_view_count": null,
            "_view_module": "@jupyter-widgets/base",
            "_view_module_version": "1.2.0",
            "_view_name": "StyleView",
            "description_width": ""
          }
        }
      }
    }
  },
  "cells": [
    {
      "cell_type": "markdown",
      "metadata": {
        "id": "view-in-github",
        "colab_type": "text"
      },
      "source": [
        "<a href=\"https://colab.research.google.com/github/teyang-lau/coffee-joint-rec-sys/blob/main/MF_LOL.ipynb\" target=\"_parent\"><img src=\"https://colab.research.google.com/assets/colab-badge.svg\" alt=\"Open In Colab\"/></a>"
      ]
    },
    {
      "cell_type": "code",
      "source": [
        "import requests\n",
        "import pandas as pd\n",
        "import io\n",
        "username = 'tituslhy'\n",
        "token = 'xxx'\n",
        "github_session = requests.Session()\n",
        "github_session.auth = (username,token)\n",
        "train_url = 'https://raw.githubusercontent.com/teyang-lau/coffee-joint-rec-sys/main/data/processed/train_lol.csv'\n",
        "val_url = 'https://raw.githubusercontent.com/teyang-lau/coffee-joint-rec-sys/main/data/processed/val_lol.csv'\n",
        "test_url = 'https://raw.githubusercontent.com/teyang-lau/coffee-joint-rec-sys/main/data/processed/test_lol.csv'"
      ],
      "metadata": {
        "id": "L_utylA6uhpq"
      },
      "execution_count": 1,
      "outputs": []
    },
    {
      "cell_type": "markdown",
      "source": [
        "## Get data"
      ],
      "metadata": {
        "id": "YUTB6vXKJuML"
      }
    },
    {
      "cell_type": "code",
      "source": [
        "def get_data(url,username=username,token=token):\n",
        "  download = github_session.get(url).content\n",
        "  df = pd.read_csv(io.StringIO(download.decode('utf-8')))\n",
        "  df = df[['userid','shop','rating']]\n",
        "  data = list(df.itertuples(index=False,name=None))\n",
        "  return data"
      ],
      "metadata": {
        "id": "uIBW7y1mzZLM"
      },
      "execution_count": 2,
      "outputs": []
    },
    {
      "cell_type": "code",
      "source": [
        "train = get_data(train_url)\n",
        "train[0:5]"
      ],
      "metadata": {
        "colab": {
          "base_uri": "https://localhost:8080/"
        },
        "id": "dUrGQFN8zmL6",
        "outputId": "98acba1b-853d-4f40-c181-c4ddc1dad785"
      },
      "execution_count": 3,
      "outputs": [
        {
          "output_type": "execute_result",
          "data": {
            "text/plain": [
              "[('-5YMIME_WEin_by41Bj-3Q', 'liho-tea-singapore-117', 3.0),\n",
              " ('-5YMIME_WEin_by41Bj-3Q', 'old-hen-coffee-bar-singapore-2', 4.0),\n",
              " ('-5YMIME_WEin_by41Bj-3Q', 'two-men-bagel-house-singapore', 4.0),\n",
              " ('-5YMIME_WEin_by41Bj-3Q', 'old-airport-road-food-centre-singapore', 5.0),\n",
              " ('-G1YjYxjDpxOBzFgo36ORA', 'the-book-cafe-singapore', 3.0)]"
            ]
          },
          "metadata": {},
          "execution_count": 3
        }
      ]
    },
    {
      "cell_type": "code",
      "source": [
        "val = get_data(val_url)\n",
        "val[0:5]"
      ],
      "metadata": {
        "colab": {
          "base_uri": "https://localhost:8080/"
        },
        "id": "Ba-DykT7o-Tp",
        "outputId": "51baee2f-e89b-4035-f991-33d2ea911674"
      },
      "execution_count": 4,
      "outputs": [
        {
          "output_type": "execute_result",
          "data": {
            "text/plain": [
              "[('-5YMIME_WEin_by41Bj-3Q', 'dutch-colony-coffee-singapore', 4.0),\n",
              " ('-G1YjYxjDpxOBzFgo36ORA', 'the-providore-singapore', 1.0),\n",
              " ('-WShM_YFbtG4OcE0vrFVyw', 'nylon-coffee-roasters-singapore', 4.0),\n",
              " ('-XaIf12ricWc5z5BRt9nnQ', 'tiong-bahru-bakery-singapore-4', 4.0),\n",
              " ('-fUWq6sOIEe1uTUhNKS9sQ', 'drips-singapore', 4.0)]"
            ]
          },
          "metadata": {},
          "execution_count": 4
        }
      ]
    },
    {
      "cell_type": "code",
      "source": [
        "test = get_data(test_url)\n",
        "test[0:5]"
      ],
      "metadata": {
        "colab": {
          "base_uri": "https://localhost:8080/"
        },
        "id": "3dAzSDu9vfZq",
        "outputId": "ab25cf4c-1051-49b6-fe7d-d8dba1b073d5"
      },
      "execution_count": 5,
      "outputs": [
        {
          "output_type": "execute_result",
          "data": {
            "text/plain": [
              "[('-5YMIME_WEin_by41Bj-3Q', 'luna-singapore', 3.0),\n",
              " ('-G1YjYxjDpxOBzFgo36ORA', 'common-man-coffee-roasters-singapore', 2.0),\n",
              " ('-WShM_YFbtG4OcE0vrFVyw', 'chye-seng-huat-hardware-singapore', 3.0),\n",
              " ('-XaIf12ricWc5z5BRt9nnQ', 'chye-seng-huat-hardware-singapore', 3.0),\n",
              " ('-fUWq6sOIEe1uTUhNKS9sQ', 'meng-kitchen-singapore', 5.0)]"
            ]
          },
          "metadata": {},
          "execution_count": 5
        }
      ]
    },
    {
      "cell_type": "markdown",
      "source": [
        "## Get packages"
      ],
      "metadata": {
        "id": "kxCbXP8uJwGB"
      }
    },
    {
      "cell_type": "code",
      "source": [
        "!pip install --quiet cornac==1.14.2 adjustText"
      ],
      "metadata": {
        "id": "Uoj9BQw1tKck",
        "colab": {
          "base_uri": "https://localhost:8080/"
        },
        "outputId": "674432e1-2cbe-4a55-b41b-31586721ccc7"
      },
      "execution_count": 6,
      "outputs": [
        {
          "output_type": "stream",
          "name": "stdout",
          "text": [
            "\u001b[K     |████████████████████████████████| 12.4 MB 753 kB/s \n",
            "\u001b[?25h  Building wheel for adjustText (setup.py) ... \u001b[?25l\u001b[?25hdone\n"
          ]
        }
      ]
    },
    {
      "cell_type": "code",
      "source": [
        "import os\n",
        "import sys\n",
        "import itertools\n",
        "import json\n",
        "\n",
        "import scipy.sparse as sp\n",
        "import numpy as np\n",
        "import seaborn as sns\n",
        "import matplotlib.pyplot as plt\n",
        "from adjustText import adjust_text\n",
        "%matplotlib inline\n",
        "\n",
        "import cornac\n",
        "from cornac.eval_methods import BaseMethod, CrossValidation, RatioSplit\n",
        "from cornac.models import MF\n",
        "from cornac.hyperopt import Discrete\n",
        "from cornac.hyperopt import GridSearch\n",
        "\n",
        "print(f\"System version: {sys.version}\")\n",
        "print(f\"Cornac version: {cornac.__version__}\")\n",
        "\n",
        "SEED = 42\n",
        "VERBOSE = True"
      ],
      "metadata": {
        "id": "EPElbdU4s117",
        "colab": {
          "base_uri": "https://localhost:8080/"
        },
        "outputId": "2e773298-851f-414c-cfb8-994b4dc8fc24"
      },
      "execution_count": 7,
      "outputs": [
        {
          "output_type": "stream",
          "name": "stdout",
          "text": [
            "System version: 3.7.13 (default, Apr 24 2022, 01:04:09) \n",
            "[GCC 7.5.0]\n",
            "Cornac version: 1.14.2\n"
          ]
        }
      ]
    },
    {
      "cell_type": "code",
      "source": [
        "from scipy.stats import hmean\n",
        "\n",
        "base = BaseMethod.from_splits(train_data = train, \n",
        "                              test_data = val,\n",
        "                              rating_threshold=3.5,\n",
        "                              seed = SEED,\n",
        "                              fmt='UIR')\n",
        "\n",
        "eval_metrics = [\n",
        "  cornac.metrics.NDCG(k=5),\n",
        "  cornac.metrics.NCRR(k=5),\n",
        "  cornac.metrics.Recall(k=5)\n",
        "]"
      ],
      "metadata": {
        "id": "ps5ZUUhL0dhc"
      },
      "execution_count": 8,
      "outputs": []
    },
    {
      "cell_type": "markdown",
      "source": [
        "## Vanilla runs"
      ],
      "metadata": {
        "id": "tk-Lwe9n2xdb"
      }
    },
    {
      "cell_type": "code",
      "source": [
        "K=50\n",
        "lr = 0.001\n",
        "iter = 1000\n",
        "\n",
        "mf = MF(k=K, use_bias=True,\n",
        "        verbose=VERBOSE, seed=SEED, name=f\"Vanilla MF(K={K})\")\n",
        "mf2 = MF(k=K, learning_rate = lr, use_bias=True,\n",
        "        verbose=VERBOSE, seed=SEED, name=f\"MF(K={K}, lr = {lr})\")\n",
        "mf3 = MF(k=K, max_iter = iter, use_bias=True,\n",
        "        verbose=VERBOSE, seed=SEED, name=f\"MF(K={K}, num_iter = {iter})\")\n",
        "mf4 = MF(k=K, max_iter=iter, learning_rate = lr, use_bias=True,\n",
        "        verbose=VERBOSE, seed=SEED, name=f\"MF(K={K}, num_iter = {iter},lr = {lr})\")\n",
        "\n",
        "exp = cornac.Experiment(eval_method=base, models=[mf,mf2,mf3,mf4], metrics=eval_metrics)\n",
        "\n",
        "exp.run()"
      ],
      "metadata": {
        "colab": {
          "base_uri": "https://localhost:8080/",
          "height": 388,
          "referenced_widgets": [
            "ac3484b60c4245b4b435f283659d8453",
            "8dd5b9afe39a4063a2f410785e4878e2",
            "8c1d6630e2c34a82a3bd3413886d50c7",
            "69fa332b3cda4396bb7d52573901a5d5",
            "1152cd832cb44439ae90e6109a89250f",
            "819184a13ad443a9b4a6d6baa53afb8b",
            "27f0d85f93f7479a84ecb02b0a541f64",
            "942b6a5cb79e47bcaee16551c2d0dc2a",
            "3888e42ad1b042f89530a380a96beb9c",
            "726de224948e4c438924c3d37a6df4dd",
            "898dc8b68131401f962a1e1db31b0101",
            "0da58909f1954095bf6cc6d89e836adf",
            "c047714319ea4e6da6442b959da8ac75",
            "e3a5213e26604484b36db8a8e121a750",
            "3e4c3f3f9f74401bab7bb0d9dbefd47b",
            "4a02f08e95eb4ec48dbb76d100e25d76",
            "1a7a832e6454493ea1126d319f993932",
            "385af9d78bba40278c3d22bf7767741d",
            "e5cd371e0504498ab53fbef6fbabd97e",
            "c0fc579054d94c5ba786870b1a9c9231",
            "246af77199ae44c19262a365e92ec662",
            "f8cdf4956f65496fa4f16a317415e89e",
            "d2379ca119404e5385b7c713e6afc27a",
            "22a8047afaed423fba9465c3c9c9c276",
            "3565ea30df3f49d88040809410b46a70",
            "982008b8fc4141719e16997a94e288fd",
            "943c3b94219949d8a3d844546eb9436b",
            "cfcadb0866784343bf2d038ac7b8e0f3",
            "3bfe7cd17726415abc95387e91104b7e",
            "871c98f2b91b4f829521020da00879e0",
            "53e59dd7d83e43bca595497398319124",
            "c866150dc7ef4cda940733ff8d88eb53",
            "dc0de760e6704658ae5ccf3b0cf93909",
            "81be12a67a5f44f6858d489b789c2c9c",
            "02a8d3b882364f52b2ce5a1687385818",
            "4bd1ba3f392e49dcbbf070134423ee3e",
            "dadf37bb28a34a9085c05c897af77967",
            "5b8d280b1ed3483dac907f5860b33d9c",
            "f5dd6ae65c8744019fb57462dce5c809",
            "0a0346f9f56d4a76a327ba3691710ddc",
            "165ca49870dc42a394810ea31bfec534",
            "3f98c748cebf46f5a5514c5bc6aeb6b1",
            "8ba76aebba74456a9b84bb7fd96f483f",
            "ba0528f3d9964054ad2759bbac5db57e"
          ]
        },
        "id": "DyrU_6vP0n9s",
        "outputId": "91cd4f33-712b-4e79-80ee-6f1b78dbd5d1"
      },
      "execution_count": 9,
      "outputs": [
        {
          "output_type": "display_data",
          "data": {
            "text/plain": [
              "  0%|          | 0/20 [00:00<?, ?it/s]"
            ],
            "application/vnd.jupyter.widget-view+json": {
              "version_major": 2,
              "version_minor": 0,
              "model_id": "ac3484b60c4245b4b435f283659d8453"
            }
          },
          "metadata": {}
        },
        {
          "output_type": "stream",
          "name": "stdout",
          "text": [
            "Optimization finished!\n"
          ]
        },
        {
          "output_type": "display_data",
          "data": {
            "text/plain": [
              "  0%|          | 0/20 [00:00<?, ?it/s]"
            ],
            "application/vnd.jupyter.widget-view+json": {
              "version_major": 2,
              "version_minor": 0,
              "model_id": "0da58909f1954095bf6cc6d89e836adf"
            }
          },
          "metadata": {}
        },
        {
          "output_type": "stream",
          "name": "stdout",
          "text": [
            "Optimization finished!\n"
          ]
        },
        {
          "output_type": "display_data",
          "data": {
            "text/plain": [
              "  0%|          | 0/1000 [00:00<?, ?it/s]"
            ],
            "application/vnd.jupyter.widget-view+json": {
              "version_major": 2,
              "version_minor": 0,
              "model_id": "d2379ca119404e5385b7c713e6afc27a"
            }
          },
          "metadata": {}
        },
        {
          "output_type": "stream",
          "name": "stdout",
          "text": [
            "Optimization finished!\n"
          ]
        },
        {
          "output_type": "display_data",
          "data": {
            "text/plain": [
              "  0%|          | 0/1000 [00:00<?, ?it/s]"
            ],
            "application/vnd.jupyter.widget-view+json": {
              "version_major": 2,
              "version_minor": 0,
              "model_id": "81be12a67a5f44f6858d489b789c2c9c"
            }
          },
          "metadata": {}
        },
        {
          "output_type": "stream",
          "name": "stdout",
          "text": [
            "Optimization finished!\n",
            "\n",
            "TEST:\n",
            "...\n",
            "                                     | NCRR@5 | NDCG@5 | Recall@5 | Train (s) | Test (s)\n",
            "------------------------------------ + ------ + ------ + -------- + --------- + --------\n",
            "Vanilla MF(K=50)                     | 0.0169 | 0.0205 |   0.0310 |    0.1180 |   0.5132\n",
            "MF(K=50, lr = 0.001)                 | 0.0285 | 0.0395 |   0.0732 |    0.0984 |   0.3288\n",
            "MF(K=50, num_iter = 1000)            | 0.0000 | 0.0000 |   0.0000 |    2.2980 |   2.0913\n",
            "MF(K=50, num_iter = 1000,lr = 0.001) | 0.0009 | 0.0014 |   0.0028 |    3.3956 |   1.7207\n",
            "\n"
          ]
        }
      ]
    },
    {
      "cell_type": "markdown",
      "source": [
        "MF(K=50,lr=0.001) is the best vanilla run setting. To optimize this model better."
      ],
      "metadata": {
        "id": "4a6alO9WAgEj"
      }
    },
    {
      "cell_type": "code",
      "source": [
        "from scipy.stats import hmean\n",
        "\n",
        "hmeans = []\n",
        "\n",
        "for i in range(len(exp.result)):\n",
        "  hmeans.append(float(hmean([exp.result[i].metric_avg_results['NCRR@5'],\n",
        "                       exp.result[i].metric_avg_results['NDCG@5'],\n",
        "                       exp.result[i].metric_avg_results['Recall@5']])))\n",
        "  \n",
        "print('Vanilla harmonic mean score: {:.4f}'.format(max(hmeans)))"
      ],
      "metadata": {
        "colab": {
          "base_uri": "https://localhost:8080/"
        },
        "id": "xPI8J3z-JDDF",
        "outputId": "a5006779-8893-47b6-9edf-078515e738b3"
      },
      "execution_count": 10,
      "outputs": [
        {
          "output_type": "stream",
          "name": "stdout",
          "text": [
            "Vanilla harmonic mean score: 0.0405\n"
          ]
        }
      ]
    },
    {
      "cell_type": "markdown",
      "source": [
        "## Hyperparameter tuning"
      ],
      "metadata": {
        "id": "5OLZ7vci3AIe"
      }
    },
    {
      "cell_type": "code",
      "source": [
        "!pip install --quiet hyperopt"
      ],
      "metadata": {
        "id": "Q7idaWMG7lyk"
      },
      "execution_count": 11,
      "outputs": []
    },
    {
      "cell_type": "code",
      "source": [
        "from hyperopt import tpe,hp,fmin,Trials, STATUS_OK"
      ],
      "metadata": {
        "id": "brHIdskQ2XIg"
      },
      "execution_count": 12,
      "outputs": []
    },
    {
      "cell_type": "code",
      "source": [
        "bestparams=[]\n",
        "bestharmonic=0\n",
        "\n",
        "NDCG=cornac.metrics.NDCG(5)\n",
        "NCRR=cornac.metrics.NCRR(5)\n",
        "Recall=cornac.metrics.Recall(5)"
      ],
      "metadata": {
        "id": "4hzuxzee3baH"
      },
      "execution_count": null,
      "outputs": []
    },
    {
      "cell_type": "code",
      "source": [
        "def ObjectiveF(params):\n",
        "  global NDCG\n",
        "  global NCRR\n",
        "  global Recall\n",
        "  global bestparams\n",
        "  global bestharmonic\n",
        "\n",
        "  latentk=params['latentk']\n",
        "  learningrate = params['learningrate']\n",
        "  lambdareg=params['lambdareg']\n",
        "\n",
        "  mf=MF(k=latentk, \n",
        "        max_iter=100, \n",
        "        learning_rate=learningrate,\n",
        "        use_bias = True, \n",
        "        lambda_reg=lambdareg,\n",
        "        seed=SEED)\n",
        "\n",
        "  test_result, val_result = base.evaluate(model=mf, \n",
        "                                          metrics=[NDCG,NCRR,Recall], \n",
        "                                          user_based=False, \n",
        "                                          show_validation=False)\n",
        "  \n",
        "  Sample_NCRR=test_result.metric_avg_results['NCRR@5']\n",
        "  Sample_NDCG=test_result.metric_avg_results['NDCG@5']\n",
        "  Sample_Recall=test_result.metric_avg_results['Recall@5']\n",
        "  Sample_HM=hmean([Sample_NCRR,Sample_NDCG,Sample_Recall])\n",
        "  loss=-Sample_HM\n",
        "  reportstring=f\"The Harmonic Mean for K={latentk}, reg={lambdareg}, learningrate={learningrate} is {loss}\"\n",
        "  print(reportstring)\n",
        "\n",
        "  if Sample_HM>bestharmonic:\n",
        "    bestparams=(latentk, lambdareg,learningrate)\n",
        "    bestharmonic=Sample_HM\n",
        "  return loss"
      ],
      "metadata": {
        "id": "tkGPiTah7Rfh"
      },
      "execution_count": null,
      "outputs": []
    },
    {
      "cell_type": "code",
      "source": [
        "%%timeit\n",
        "trials = Trials()\n",
        "\n",
        "space = {\n",
        "    'latentk': hp.choice('latentk', np.arange(50, 100, dtype=int)),\n",
        "    'learningrate':hp.loguniform('learning_rate',-20,-10),\n",
        "    'lambdareg': hp.loguniform('lambdareg', -25, -10)\n",
        "}\n",
        "\n",
        "best=fmin(\n",
        "    fn=ObjectiveF,\n",
        "    space=space,\n",
        "    algo=tpe.suggest,\n",
        "    trials=trials,\n",
        "    max_evals = 1\n",
        ")"
      ],
      "metadata": {
        "colab": {
          "base_uri": "https://localhost:8080/"
        },
        "id": "GdksWNiMBoFA",
        "outputId": "bfc10cf6-2a52-42b6-94ce-c58fcef21c6d"
      },
      "execution_count": null,
      "outputs": [
        {
          "output_type": "stream",
          "name": "stdout",
          "text": [
            "The Harmonic Mean for K=59, reg=4.2588886702944083e-07, learningrate=2.3397950055212107e-06 is -0.039866976998979585\n",
            "100%|██████████| 1/1 [00:00<00:00,  2.98it/s, best loss: -0.039866976998979585]\n",
            "The Harmonic Mean for K=83, reg=1.0556754545881819e-05, learningrate=1.71109214464399e-05 is -0.04477442588009661\n",
            "100%|██████████| 1/1 [00:00<00:00,  2.93it/s, best loss: -0.04477442588009661]\n",
            "The Harmonic Mean for K=51, reg=5.836248423593029e-09, learningrate=1.620322669566987e-07 is -0.0046854040061089005\n",
            "100%|██████████| 1/1 [00:00<00:00,  3.41it/s, best loss: -0.0046854040061089005]\n",
            "The Harmonic Mean for K=78, reg=3.236094012830954e-10, learningrate=9.880405073921438e-07 is -0.018879140763139502\n",
            "100%|██████████| 1/1 [00:00<00:00,  3.53it/s, best loss: -0.018879140763139502]\n",
            "The Harmonic Mean for K=90, reg=2.2032120017200963e-06, learningrate=6.632438253532254e-06 is -0.04406472449521756\n",
            "100%|██████████| 1/1 [00:00<00:00,  3.10it/s, best loss: -0.04406472449521756]\n",
            "The Harmonic Mean for K=90, reg=9.98446066860133e-09, learningrate=1.4474741634932422e-05 is -0.04477442588009661\n",
            "100%|██████████| 1/1 [00:00<00:00,  3.30it/s, best loss: -0.04477442588009661]\n",
            "1 loop, best of 5: 296 ms per loop\n"
          ]
        }
      ]
    },
    {
      "cell_type": "code",
      "source": [
        "print(f'The best hyperparameters are: K={bestparams[0]},lr = {bestparams[1]},lambda = {bestparams[2]}')\n",
        "print(f'The harmonic mean from the best parameters is: {bestharmonic}')"
      ],
      "metadata": {
        "colab": {
          "base_uri": "https://localhost:8080/"
        },
        "id": "M7MCZfrmC0RY",
        "outputId": "949ef48f-10df-40bb-caf4-938a1c40ecba"
      },
      "execution_count": null,
      "outputs": [
        {
          "output_type": "stream",
          "name": "stdout",
          "text": [
            "The best hyperparameters are: K=83,lr = 1.0556754545881819e-05,lambda = 1.71109214464399e-05\n",
            "The harmonic mean from the best parameters is: 0.04477442588009661\n"
          ]
        }
      ]
    },
    {
      "cell_type": "markdown",
      "source": [
        "Testing model against test set to ensure that the model is generalizable."
      ],
      "metadata": {
        "id": "zM2ElE0VK7CS"
      }
    },
    {
      "cell_type": "code",
      "source": [
        "base2 = BaseMethod.from_splits(train_data = train, \n",
        "                              test_data = test,\n",
        "                              rating_threshold=3.5,\n",
        "                              seed = SEED,\n",
        "                              fmt='UIR')\n",
        "\n",
        "mf5 = MF(k=83, learning_rate = 1.0556754545881819e-05, \n",
        "         lambda_reg = 1.71109214464399e-05, use_bias=True,\n",
        "         verbose=VERBOSE, seed=SEED)\n",
        "        #  name=\"MF(K={}, lr = {:.04g}, lambdareg = {:.04g})\".format(bestparams[0],bestparams[1],bestparams[2]))\n",
        "\n",
        "exp = cornac.Experiment(eval_method=base, models=[mf5], metrics=eval_metrics)\n",
        "exp.run()"
      ],
      "metadata": {
        "colab": {
          "base_uri": "https://localhost:8080/",
          "height": 188,
          "referenced_widgets": [
            "40bae6c6b813403e9366e9a7c53b1a60",
            "7f910681fdae49c59899053e7a8b1307",
            "55bc26e3e04143be910933de450a8584",
            "6b44ae4e5a084ab29281b3bae78e8315",
            "2868ac226cb14389b3a64f2071f2a7c4",
            "5528702e6c1e465b8e520985ef99b8e7",
            "bfe219d904e74218901706b914bf315e",
            "a19fcab5c38d4e03ac2c35401475d465",
            "939ab1cf78a948e6ae2cab7a32898500",
            "256a9466caa74addad2096b302d6e043",
            "72ced6e732954c22917fb6e3cf3bbbed"
          ]
        },
        "id": "vszQTHYfdj5Q",
        "outputId": "ddd9f593-2613-436a-b502-6e7c3517a755"
      },
      "execution_count": 14,
      "outputs": [
        {
          "output_type": "display_data",
          "data": {
            "text/plain": [
              "  0%|          | 0/20 [00:00<?, ?it/s]"
            ],
            "application/vnd.jupyter.widget-view+json": {
              "version_major": 2,
              "version_minor": 0,
              "model_id": "40bae6c6b813403e9366e9a7c53b1a60"
            }
          },
          "metadata": {}
        },
        {
          "output_type": "stream",
          "name": "stdout",
          "text": [
            "Optimization finished!\n",
            "\n",
            "TEST:\n",
            "...\n",
            "   | NCRR@5 | NDCG@5 | Recall@5 | Train (s) | Test (s)\n",
            "-- + ------ + ------ + -------- + --------- + --------\n",
            "MF | 0.0345 | 0.0428 |   0.0676 |    0.1397 |   0.5457\n",
            "\n"
          ]
        }
      ]
    },
    {
      "cell_type": "code",
      "source": [
        "base2 = BaseMethod.from_splits(train_data = train, \n",
        "                              test_data = test,\n",
        "                              rating_threshold=3.5,\n",
        "                              seed = SEED,\n",
        "                              fmt='UIR')\n",
        "\n",
        "mf5 = MF(k=bestparams[0], learning_rate = bestparams[1], \n",
        "         lambda_reg = bestparams[2], use_bias=True,\n",
        "         verbose=VERBOSE, seed=SEED, \n",
        "         name=\"MF(K={}, lr = {:.04g}, lambdareg = {:.04g})\".format(bestparams[0],bestparams[1],bestparams[2]))\n",
        "\n",
        "exp = cornac.Experiment(eval_method=base, models=[mf5], metrics=eval_metrics)\n",
        "exp.run()"
      ],
      "metadata": {
        "colab": {
          "base_uri": "https://localhost:8080/",
          "height": 188,
          "referenced_widgets": [
            "5cdf6e4d8e4a4e50889a70912c4be8d3",
            "511f6c8917d34df99ed5815f589fc2c3",
            "b54d5a8c55744773b0f9fe5ad4cb54ca",
            "0607b6977f744434b4cfeb459796d11c",
            "bacf03c2d8c8478da8aae6e5aa87303f",
            "d3386b05898c4f6181f4babdb8c8b22c",
            "3c87ba180b60471dae0a8d60f1825156",
            "8cb6ff62c42542d78d1412ee73e856d0",
            "05d1cddbcf2543d6a961b4f35445abd5",
            "d3fa8190510e47bfb205da22bc1f6bc2",
            "b24bca1d68b54a8f8a046ccd62b99f64"
          ]
        },
        "id": "h_pEjRNyL3ya",
        "outputId": "6c69897f-f67f-4f29-eb83-23921ea63217"
      },
      "execution_count": null,
      "outputs": [
        {
          "output_type": "display_data",
          "data": {
            "text/plain": [
              "  0%|          | 0/20 [00:00<?, ?it/s]"
            ],
            "application/vnd.jupyter.widget-view+json": {
              "version_major": 2,
              "version_minor": 0,
              "model_id": "5cdf6e4d8e4a4e50889a70912c4be8d3"
            }
          },
          "metadata": {}
        },
        {
          "output_type": "stream",
          "name": "stdout",
          "text": [
            "Optimization finished!\n",
            "\n",
            "TEST:\n",
            "...\n",
            "                                                | NCRR@5 | NDCG@5 | Recall@5 | Train (s) | Test (s)\n",
            "----------------------------------------------- + ------ + ------ + -------- + --------- + --------\n",
            "MF(K=83, lr = 1.056e-05, lambdareg = 1.711e-05) | 0.0345 | 0.0428 |   0.0676 |    0.2751 |   1.5019\n",
            "\n"
          ]
        }
      ]
    },
    {
      "cell_type": "code",
      "source": [
        "print('Harmonic mean score of tuned model against test data: {:.4f}'.format(float(hmean([exp.result[0].metric_avg_results['NCRR@5'],\n",
        "                                                                exp.result[0].metric_avg_results['NDCG@5'],\n",
        "                                                                exp.result[0].metric_avg_results['Recall@5']]))))"
      ],
      "metadata": {
        "colab": {
          "base_uri": "https://localhost:8080/"
        },
        "id": "hM_Ok_OaLl-H",
        "outputId": "958c03b3-f9d3-444f-adab-2dbf3485609a"
      },
      "execution_count": 15,
      "outputs": [
        {
          "output_type": "stream",
          "name": "stdout",
          "text": [
            "Harmonic mean score of tuned model against test data: 0.0447\n"
          ]
        }
      ]
    },
    {
      "cell_type": "markdown",
      "source": [
        "The harmonic mean score is sufficiently close to the training score. Model is sufficiently generalizable."
      ],
      "metadata": {
        "id": "FuGxwLPkMDz7"
      }
    },
    {
      "cell_type": "markdown",
      "source": [
        "Generate recommendations"
      ],
      "metadata": {
        "id": "HaQxPb0YNIsA"
      }
    },
    {
      "cell_type": "code",
      "source": [
        "userids = mf5.train_set.uid_map\n",
        "itemids = mf5.train_set.iid_map\n",
        "item_map = dict()\n",
        "for key,value in enumerate(itemids):\n",
        "  item_map[key]=value"
      ],
      "metadata": {
        "id": "VUvLJOkhNZ9A"
      },
      "execution_count": 16,
      "outputs": []
    },
    {
      "cell_type": "code",
      "source": [
        "from collections import defaultdict\n",
        "\n",
        "TOP = 5\n",
        "recs = defaultdict(list)\n",
        "\n",
        "for UIDX in list(userids.keys()):\n",
        "  userid=userids[UIDX]\n",
        "  recommendations,scores = mf5.rank(userid)\n",
        "  rec = recommendations[:TOP]\n",
        "  for item in rec:\n",
        "    recs[UIDX].append(item_map[item])  "
      ],
      "metadata": {
        "id": "T7CrlFa0NAIQ"
      },
      "execution_count": 17,
      "outputs": []
    },
    {
      "cell_type": "code",
      "source": [
        "df =pd.DataFrame(recs).T.reset_index()\n",
        "columns = ['userid']\n",
        "for i in range(5):\n",
        "  columns.append('recommendation_'+str(i+1))\n",
        "df.columns = columns\n",
        "df.head()"
      ],
      "metadata": {
        "colab": {
          "base_uri": "https://localhost:8080/",
          "height": 206
        },
        "id": "gk6IOCjeOmYg",
        "outputId": "941e082c-0deb-4af6-f1ad-42c55e5e113e"
      },
      "execution_count": 18,
      "outputs": [
        {
          "output_type": "execute_result",
          "data": {
            "text/plain": [
              "                   userid                 recommendation_1  \\\n",
              "0  -5YMIME_WEin_by41Bj-3Q  nylon-coffee-roasters-singapore   \n",
              "1  -G1YjYxjDpxOBzFgo36ORA    two-men-bagel-house-singapore   \n",
              "2  -WShM_YFbtG4OcE0vrFVyw  maxwell-food-centre-singapore-3   \n",
              "3  -XaIf12ricWc5z5BRt9nnQ  nylon-coffee-roasters-singapore   \n",
              "4  -fUWq6sOIEe1uTUhNKS9sQ           toms-palette-singapore   \n",
              "\n",
              "                  recommendation_2                 recommendation_3  \\\n",
              "0  maxwell-food-centre-singapore-3           toms-palette-singapore   \n",
              "1           toms-palette-singapore  nylon-coffee-roasters-singapore   \n",
              "2  nylon-coffee-roasters-singapore            tong-heng-singapore-3   \n",
              "3           toms-palette-singapore  maxwell-food-centre-singapore-3   \n",
              "4  maxwell-food-centre-singapore-3  nylon-coffee-roasters-singapore   \n",
              "\n",
              "                    recommendation_4                        recommendation_5  \n",
              "0      two-men-bagel-house-singapore      hainanese-village-centre-singapore  \n",
              "1  amoy-street-food-centre-singapore         maxwell-food-centre-singapore-3  \n",
              "2             toms-palette-singapore  old-airport-road-food-centre-singapore  \n",
              "3      two-men-bagel-house-singapore       geisha-specialty-coffee-singapore  \n",
              "4      two-men-bagel-house-singapore          ya-kun-kaya-toast-singapore-22  "
            ],
            "text/html": [
              "\n",
              "  <div id=\"df-5a40a372-380d-477c-9e0d-9f69ab9876b1\">\n",
              "    <div class=\"colab-df-container\">\n",
              "      <div>\n",
              "<style scoped>\n",
              "    .dataframe tbody tr th:only-of-type {\n",
              "        vertical-align: middle;\n",
              "    }\n",
              "\n",
              "    .dataframe tbody tr th {\n",
              "        vertical-align: top;\n",
              "    }\n",
              "\n",
              "    .dataframe thead th {\n",
              "        text-align: right;\n",
              "    }\n",
              "</style>\n",
              "<table border=\"1\" class=\"dataframe\">\n",
              "  <thead>\n",
              "    <tr style=\"text-align: right;\">\n",
              "      <th></th>\n",
              "      <th>userid</th>\n",
              "      <th>recommendation_1</th>\n",
              "      <th>recommendation_2</th>\n",
              "      <th>recommendation_3</th>\n",
              "      <th>recommendation_4</th>\n",
              "      <th>recommendation_5</th>\n",
              "    </tr>\n",
              "  </thead>\n",
              "  <tbody>\n",
              "    <tr>\n",
              "      <th>0</th>\n",
              "      <td>-5YMIME_WEin_by41Bj-3Q</td>\n",
              "      <td>nylon-coffee-roasters-singapore</td>\n",
              "      <td>maxwell-food-centre-singapore-3</td>\n",
              "      <td>toms-palette-singapore</td>\n",
              "      <td>two-men-bagel-house-singapore</td>\n",
              "      <td>hainanese-village-centre-singapore</td>\n",
              "    </tr>\n",
              "    <tr>\n",
              "      <th>1</th>\n",
              "      <td>-G1YjYxjDpxOBzFgo36ORA</td>\n",
              "      <td>two-men-bagel-house-singapore</td>\n",
              "      <td>toms-palette-singapore</td>\n",
              "      <td>nylon-coffee-roasters-singapore</td>\n",
              "      <td>amoy-street-food-centre-singapore</td>\n",
              "      <td>maxwell-food-centre-singapore-3</td>\n",
              "    </tr>\n",
              "    <tr>\n",
              "      <th>2</th>\n",
              "      <td>-WShM_YFbtG4OcE0vrFVyw</td>\n",
              "      <td>maxwell-food-centre-singapore-3</td>\n",
              "      <td>nylon-coffee-roasters-singapore</td>\n",
              "      <td>tong-heng-singapore-3</td>\n",
              "      <td>toms-palette-singapore</td>\n",
              "      <td>old-airport-road-food-centre-singapore</td>\n",
              "    </tr>\n",
              "    <tr>\n",
              "      <th>3</th>\n",
              "      <td>-XaIf12ricWc5z5BRt9nnQ</td>\n",
              "      <td>nylon-coffee-roasters-singapore</td>\n",
              "      <td>toms-palette-singapore</td>\n",
              "      <td>maxwell-food-centre-singapore-3</td>\n",
              "      <td>two-men-bagel-house-singapore</td>\n",
              "      <td>geisha-specialty-coffee-singapore</td>\n",
              "    </tr>\n",
              "    <tr>\n",
              "      <th>4</th>\n",
              "      <td>-fUWq6sOIEe1uTUhNKS9sQ</td>\n",
              "      <td>toms-palette-singapore</td>\n",
              "      <td>maxwell-food-centre-singapore-3</td>\n",
              "      <td>nylon-coffee-roasters-singapore</td>\n",
              "      <td>two-men-bagel-house-singapore</td>\n",
              "      <td>ya-kun-kaya-toast-singapore-22</td>\n",
              "    </tr>\n",
              "  </tbody>\n",
              "</table>\n",
              "</div>\n",
              "      <button class=\"colab-df-convert\" onclick=\"convertToInteractive('df-5a40a372-380d-477c-9e0d-9f69ab9876b1')\"\n",
              "              title=\"Convert this dataframe to an interactive table.\"\n",
              "              style=\"display:none;\">\n",
              "        \n",
              "  <svg xmlns=\"http://www.w3.org/2000/svg\" height=\"24px\"viewBox=\"0 0 24 24\"\n",
              "       width=\"24px\">\n",
              "    <path d=\"M0 0h24v24H0V0z\" fill=\"none\"/>\n",
              "    <path d=\"M18.56 5.44l.94 2.06.94-2.06 2.06-.94-2.06-.94-.94-2.06-.94 2.06-2.06.94zm-11 1L8.5 8.5l.94-2.06 2.06-.94-2.06-.94L8.5 2.5l-.94 2.06-2.06.94zm10 10l.94 2.06.94-2.06 2.06-.94-2.06-.94-.94-2.06-.94 2.06-2.06.94z\"/><path d=\"M17.41 7.96l-1.37-1.37c-.4-.4-.92-.59-1.43-.59-.52 0-1.04.2-1.43.59L10.3 9.45l-7.72 7.72c-.78.78-.78 2.05 0 2.83L4 21.41c.39.39.9.59 1.41.59.51 0 1.02-.2 1.41-.59l7.78-7.78 2.81-2.81c.8-.78.8-2.07 0-2.86zM5.41 20L4 18.59l7.72-7.72 1.47 1.35L5.41 20z\"/>\n",
              "  </svg>\n",
              "      </button>\n",
              "      \n",
              "  <style>\n",
              "    .colab-df-container {\n",
              "      display:flex;\n",
              "      flex-wrap:wrap;\n",
              "      gap: 12px;\n",
              "    }\n",
              "\n",
              "    .colab-df-convert {\n",
              "      background-color: #E8F0FE;\n",
              "      border: none;\n",
              "      border-radius: 50%;\n",
              "      cursor: pointer;\n",
              "      display: none;\n",
              "      fill: #1967D2;\n",
              "      height: 32px;\n",
              "      padding: 0 0 0 0;\n",
              "      width: 32px;\n",
              "    }\n",
              "\n",
              "    .colab-df-convert:hover {\n",
              "      background-color: #E2EBFA;\n",
              "      box-shadow: 0px 1px 2px rgba(60, 64, 67, 0.3), 0px 1px 3px 1px rgba(60, 64, 67, 0.15);\n",
              "      fill: #174EA6;\n",
              "    }\n",
              "\n",
              "    [theme=dark] .colab-df-convert {\n",
              "      background-color: #3B4455;\n",
              "      fill: #D2E3FC;\n",
              "    }\n",
              "\n",
              "    [theme=dark] .colab-df-convert:hover {\n",
              "      background-color: #434B5C;\n",
              "      box-shadow: 0px 1px 3px 1px rgba(0, 0, 0, 0.15);\n",
              "      filter: drop-shadow(0px 1px 2px rgba(0, 0, 0, 0.3));\n",
              "      fill: #FFFFFF;\n",
              "    }\n",
              "  </style>\n",
              "\n",
              "      <script>\n",
              "        const buttonEl =\n",
              "          document.querySelector('#df-5a40a372-380d-477c-9e0d-9f69ab9876b1 button.colab-df-convert');\n",
              "        buttonEl.style.display =\n",
              "          google.colab.kernel.accessAllowed ? 'block' : 'none';\n",
              "\n",
              "        async function convertToInteractive(key) {\n",
              "          const element = document.querySelector('#df-5a40a372-380d-477c-9e0d-9f69ab9876b1');\n",
              "          const dataTable =\n",
              "            await google.colab.kernel.invokeFunction('convertToInteractive',\n",
              "                                                     [key], {});\n",
              "          if (!dataTable) return;\n",
              "\n",
              "          const docLinkHtml = 'Like what you see? Visit the ' +\n",
              "            '<a target=\"_blank\" href=https://colab.research.google.com/notebooks/data_table.ipynb>data table notebook</a>'\n",
              "            + ' to learn more about interactive tables.';\n",
              "          element.innerHTML = '';\n",
              "          dataTable['output_type'] = 'display_data';\n",
              "          await google.colab.output.renderOutput(dataTable, element);\n",
              "          const docLink = document.createElement('div');\n",
              "          docLink.innerHTML = docLinkHtml;\n",
              "          element.appendChild(docLink);\n",
              "        }\n",
              "      </script>\n",
              "    </div>\n",
              "  </div>\n",
              "  "
            ]
          },
          "metadata": {},
          "execution_count": 18
        }
      ]
    },
    {
      "cell_type": "code",
      "source": [
        "from google.colab import drive\n",
        "drive.mount('/content/drive')\n",
        "%cd /content/drive/MyDrive/Colab Notebooks\n",
        "\n",
        "mf_TGS_recs = df.to_csv('mf_lol_recs.csv')"
      ],
      "metadata": {
        "id": "myCYxJumMXNI",
        "colab": {
          "base_uri": "https://localhost:8080/"
        },
        "outputId": "c14ec35e-7be2-4d58-a995-818d71440e5c"
      },
      "execution_count": 19,
      "outputs": [
        {
          "output_type": "stream",
          "name": "stdout",
          "text": [
            "Mounted at /content/drive\n",
            "/content/drive/MyDrive/Colab Notebooks\n"
          ]
        }
      ]
    },
    {
      "cell_type": "code",
      "source": [
        ""
      ],
      "metadata": {
        "id": "lhwDp1a8eAfk"
      },
      "execution_count": null,
      "outputs": []
    }
  ]
}
