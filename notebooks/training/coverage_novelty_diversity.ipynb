{
 "cells": [
  {
   "cell_type": "code",
   "execution_count": 233,
   "metadata": {},
   "outputs": [],
   "source": [
    "import pandas as pd\n",
    "import numpy as np\n",
    "import math\n",
    "from scipy.spatial.distance import pdist\n",
    "from scipy.spatial.distance import squareform\n",
    "from scipy.stats import hmean\n",
    "from itertools import combinations, product"
   ]
  },
  {
   "cell_type": "code",
   "execution_count": 188,
   "metadata": {},
   "outputs": [],
   "source": [
    "PATH = '../../data/processed/'"
   ]
  },
  {
   "cell_type": "code",
   "execution_count": 189,
   "metadata": {},
   "outputs": [],
   "source": [
    "train = pd.read_csv(PATH + 'train_lol.csv')[['userid', 'shop', 'rating']]\n",
    "shop_metadata = pd.read_csv(PATH + 'coffee_shops_context.csv')\n",
    "num_user = len(train.userid.unique())\n",
    "num_shop = len(train.shop.unique())"
   ]
  },
  {
   "cell_type": "code",
   "execution_count": 190,
   "metadata": {},
   "outputs": [],
   "source": [
    "PATH = '../../results/outputs/'"
   ]
  },
  {
   "cell_type": "code",
   "execution_count": 191,
   "metadata": {},
   "outputs": [],
   "source": [
    "with open(PATH + 'MostPop_lol.txt_recommendations.txt', encoding = 'utf8') as f:\n",
    "    most_pop = f.read()\n",
    "most_pop = most_pop.split(' ')\n",
    "\n",
    "mf_rec = pd.read_csv(PATH + 'mf_lol_recs.csv').drop('Unnamed: 0', axis=1).iloc[:,:6]\n",
    "fm_rec = pd.read_csv(PATH + 'lightFM_LOL_recommendations_improved_features.csv').iloc[:,:6]\n",
    "most_pop_rec = most_pop.copy()[:mf_rec.shape[1]-1]\n",
    "shop_metadata = shop_metadata[shop_metadata['alias'].isin(train['shop'])].set_index('alias')\n",
    "\n",
    "d = {k:most_pop_rec for k in fm_rec.iloc[:,0].values}\n",
    "most_pop_all_users = pd.DataFrame.from_dict(d, orient='index').reset_index()\n"
   ]
  },
  {
   "cell_type": "code",
   "execution_count": 212,
   "metadata": {},
   "outputs": [],
   "source": [
    "def coverage_item(topn_rec, num_item):\n",
    "    num_rec = len(set(topn_rec.stack().tolist()))\n",
    "    return num_rec / num_item\n",
    "\n",
    "def novelty(topn_rec, pop_rank, num_item):\n",
    "    # http://www.cs.ucl.ac.uk/fileadmin/UCL-CS/research/Research_Notes/RN_11_21.pdf\n",
    "    pop_rank = {k: v for v, k in enumerate(pop_rank, start=1)}\n",
    "    # prob_item = {k:(num_item-v)/(num_item-1) for k,v in pop_rank.items()}\n",
    "\n",
    "    novelties = []\n",
    "    for u in range(len(topn_rec)):\n",
    "        novelty = 0\n",
    "        for item in topn_rec.iloc[u].values:\n",
    "            novelty += (math.log2(pop_rank[item]) / num_item)\n",
    "        novelties.append(novelty)\n",
    "\n",
    "    return np.mean(novelties)\n",
    "\n",
    "def item_sim(item_content):\n",
    "    df = pd.DataFrame(\n",
    "        squareform(1 - pdist(item_content, 'cosine')),\n",
    "        columns=item_content.index,\n",
    "        index=item_content.index,\n",
    "    )\n",
    "    return df\n",
    "\n",
    "def diversity(topn_rec, item_sim):\n",
    "    # http://files.grouplens.org/papers/ziegler-www05.pdf\n",
    "    all_sims = []\n",
    "    for u in range(len(topn_rec)):\n",
    "        sim_user = 0\n",
    "        items = topn_rec.iloc[u].values\n",
    "        combi = list(combinations(items,2))\n",
    "        for c in combi:\n",
    "            sim_user += item_sim.loc[c[0], c[1]]\n",
    "        sim_user /= len(combi)\n",
    "        all_sims.append(sim_user)\n",
    "    \n",
    "    return 1-np.mean(all_sims)\n",
    "\n",
    "def serendipity(topn_rec, user_history, item_sim):\n",
    "    # http://www.cs.ucl.ac.uk/fileadmin/UCL-CS/research/Research_Notes/RN_11_21.pdf\n",
    "    all_serendipity = []\n",
    "    for u in range(len(topn_rec)):\n",
    "        serendipity_user = 0\n",
    "        user = topn_rec.iloc[u,0]\n",
    "        rec_items = topn_rec.iloc[u,1:].values\n",
    "        his_items = user_history[user_history['userid']==user]['shop'].values\n",
    "        combi = list(product(rec_items, his_items))\n",
    "        for c in combi:\n",
    "            serendipity_user += item_sim.loc[c[0], c[1]]\n",
    "        serendipity_user /= len(combi)\n",
    "        all_serendipity.append(serendipity_user)\n",
    "    \n",
    "    return 1-np.mean(all_serendipity)\n",
    "\n",
    "\n",
    "        "
   ]
  },
  {
   "cell_type": "code",
   "execution_count": 234,
   "metadata": {},
   "outputs": [
    {
     "data": {
      "text/plain": [
       "0.006675567423230975"
      ]
     },
     "execution_count": 234,
     "metadata": {},
     "output_type": "execute_result"
    }
   ],
   "source": [
    "pop_c = coverage_item(most_pop_all_users.iloc[:,1:], num_shop)\n",
    "pop_c"
   ]
  },
  {
   "cell_type": "code",
   "execution_count": 235,
   "metadata": {},
   "outputs": [
    {
     "data": {
      "text/plain": [
       "0.32710280373831774"
      ]
     },
     "execution_count": 235,
     "metadata": {},
     "output_type": "execute_result"
    }
   ],
   "source": [
    "mf_c = coverage_item(mf_rec.iloc[:,1:], num_shop)\n",
    "mf_c"
   ]
  },
  {
   "cell_type": "code",
   "execution_count": 236,
   "metadata": {},
   "outputs": [
    {
     "data": {
      "text/plain": [
       "0.14419225634178906"
      ]
     },
     "execution_count": 236,
     "metadata": {},
     "output_type": "execute_result"
    }
   ],
   "source": [
    "fm_c = coverage_item(fm_rec.iloc[:,1:], num_shop)\n",
    "fm_c"
   ]
  },
  {
   "cell_type": "code",
   "execution_count": 237,
   "metadata": {},
   "outputs": [
    {
     "data": {
      "text/plain": [
       "0.009221482771172922"
      ]
     },
     "execution_count": 237,
     "metadata": {},
     "output_type": "execute_result"
    }
   ],
   "source": [
    "pop_n = novelty(most_pop_all_users.iloc[:,1:], most_pop, num_shop)\n",
    "pop_n"
   ]
  },
  {
   "cell_type": "code",
   "execution_count": 238,
   "metadata": {},
   "outputs": [
    {
     "data": {
      "text/plain": [
       "0.021954235939160207"
      ]
     },
     "execution_count": 238,
     "metadata": {},
     "output_type": "execute_result"
    }
   ],
   "source": [
    "mf_n = novelty(mf_rec.iloc[:,1:], most_pop, num_shop)\n",
    "mf_n"
   ]
  },
  {
   "cell_type": "code",
   "execution_count": 239,
   "metadata": {},
   "outputs": [
    {
     "data": {
      "text/plain": [
       "0.025514817159287148"
      ]
     },
     "execution_count": 239,
     "metadata": {},
     "output_type": "execute_result"
    }
   ],
   "source": [
    "fm_n = novelty(fm_rec.iloc[:,1:], most_pop, num_shop)\n",
    "fm_n"
   ]
  },
  {
   "cell_type": "code",
   "execution_count": 240,
   "metadata": {},
   "outputs": [
    {
     "data": {
      "text/plain": [
       "0.479049134831923"
      ]
     },
     "execution_count": 240,
     "metadata": {},
     "output_type": "execute_result"
    }
   ],
   "source": [
    "item_cossim = item_sim(shop_metadata)\n",
    "pop_d = diversity(most_pop_all_users.iloc[:,1:], item_cossim)\n",
    "pop_d"
   ]
  },
  {
   "cell_type": "code",
   "execution_count": 241,
   "metadata": {},
   "outputs": [
    {
     "data": {
      "text/plain": [
       "0.4459147296066155"
      ]
     },
     "execution_count": 241,
     "metadata": {},
     "output_type": "execute_result"
    }
   ],
   "source": [
    "mf_d = diversity(mf_rec.iloc[:,1:], item_cossim)\n",
    "mf_d\n"
   ]
  },
  {
   "cell_type": "code",
   "execution_count": 242,
   "metadata": {},
   "outputs": [
    {
     "data": {
      "text/plain": [
       "0.46875653806688555"
      ]
     },
     "execution_count": 242,
     "metadata": {},
     "output_type": "execute_result"
    }
   ],
   "source": [
    "fm_d = diversity(fm_rec.iloc[:,1:], item_cossim)\n",
    "fm_d"
   ]
  },
  {
   "cell_type": "code",
   "execution_count": 243,
   "metadata": {},
   "outputs": [
    {
     "data": {
      "text/plain": [
       "0.5010841989845591"
      ]
     },
     "execution_count": 243,
     "metadata": {},
     "output_type": "execute_result"
    }
   ],
   "source": [
    "pop_s = serendipity(most_pop_all_users, train, item_cossim)\n",
    "pop_s"
   ]
  },
  {
   "cell_type": "code",
   "execution_count": 244,
   "metadata": {},
   "outputs": [
    {
     "data": {
      "text/plain": [
       "0.5849567304857871"
      ]
     },
     "execution_count": 244,
     "metadata": {},
     "output_type": "execute_result"
    }
   ],
   "source": [
    "mf_s = serendipity(mf_rec, train, item_cossim)\n",
    "mf_s"
   ]
  },
  {
   "cell_type": "code",
   "execution_count": 246,
   "metadata": {},
   "outputs": [
    {
     "data": {
      "text/plain": [
       "0.5076022122155002"
      ]
     },
     "execution_count": 246,
     "metadata": {},
     "output_type": "execute_result"
    }
   ],
   "source": [
    "fm_s = serendipity(fm_rec, train, item_cossim)\n",
    "fm_s"
   ]
  },
  {
   "cell_type": "code",
   "execution_count": 248,
   "metadata": {},
   "outputs": [
    {
     "data": {
      "text/plain": [
       "0.015248227546382056"
      ]
     },
     "execution_count": 248,
     "metadata": {},
     "output_type": "execute_result"
    }
   ],
   "source": [
    "hmean([pop_c, pop_n, pop_d, pop_s])"
   ]
  },
  {
   "cell_type": "code",
   "execution_count": 249,
   "metadata": {},
   "outputs": [
    {
     "data": {
      "text/plain": [
       "0.0761056023034301"
      ]
     },
     "execution_count": 249,
     "metadata": {},
     "output_type": "execute_result"
    }
   ],
   "source": [
    "hmean([mf_c, mf_n, mf_d, mf_s])"
   ]
  },
  {
   "cell_type": "code",
   "execution_count": 252,
   "metadata": {},
   "outputs": [
    {
     "data": {
      "text/plain": [
       "0.07963138951320822"
      ]
     },
     "execution_count": 252,
     "metadata": {},
     "output_type": "execute_result"
    }
   ],
   "source": [
    "hmean([fm_c, fm_n, fm_d, fm_s])"
   ]
  }
 ],
 "metadata": {
  "kernelspec": {
   "display_name": "Python 3.9.4 64-bit",
   "language": "python",
   "name": "python3"
  },
  "language_info": {
   "codemirror_mode": {
    "name": "ipython",
    "version": 3
   },
   "file_extension": ".py",
   "mimetype": "text/x-python",
   "name": "python",
   "nbconvert_exporter": "python",
   "pygments_lexer": "ipython3",
   "version": "3.9.4"
  },
  "orig_nbformat": 4,
  "vscode": {
   "interpreter": {
    "hash": "586d209818bf684a449db8f551e5b280da9ad8c053944ce342fb8dd6eec39ab8"
   }
  }
 },
 "nbformat": 4,
 "nbformat_minor": 2
}
