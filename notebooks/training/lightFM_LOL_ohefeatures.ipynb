{
 "cells": [
  {
   "cell_type": "code",
   "execution_count": 1,
   "metadata": {},
   "outputs": [
    {
     "name": "stderr",
     "output_type": "stream",
     "text": [
      "c:\\Users\\TeYang\\AppData\\Local\\Programs\\Python\\Python39\\lib\\site-packages\\lightfm\\_lightfm_fast.py:9: UserWarning: LightFM was compiled without OpenMP support. Only a single thread will be used.\n",
      "  warnings.warn(\n"
     ]
    }
   ],
   "source": [
    "import lightfm\n",
    "from lightfm import LightFM\n",
    "from lightfm.data import Dataset\n",
    "from lightfm.evaluation import auc_score, recall_at_k\n",
    "import pandas as pd\n",
    "import numpy as np"
   ]
  },
  {
   "cell_type": "code",
   "execution_count": 2,
   "metadata": {},
   "outputs": [],
   "source": [
    "PATH = '../../data/'\n",
    "SEED = 2022"
   ]
  },
  {
   "cell_type": "markdown",
   "metadata": {},
   "source": [
    "## Create LightFM Dataset -- Leave One Last\n",
    "https://towardsdatascience.com/how-i-would-explain-building-lightfm-hybrid-recommenders-to-a-5-year-old-b6ee18571309"
   ]
  },
  {
   "cell_type": "code",
   "execution_count": 3,
   "metadata": {},
   "outputs": [],
   "source": [
    "train = pd.read_csv(PATH + 'processed/' + 'train_lol.csv')[['userid', 'shop', 'rating']]\n",
    "val = pd.read_csv(PATH + 'processed/' + 'val_lol.csv')[['userid', 'shop', 'rating']]\n",
    "test = pd.read_csv(PATH + 'processed/' + 'test_lol.csv')[['userid', 'shop', 'rating']]\n",
    "\n",
    "shop_features = pd.read_csv(PATH + 'processed/' + 'coffee_shops_context_ohe.csv')"
   ]
  },
  {
   "cell_type": "code",
   "execution_count": 4,
   "metadata": {},
   "outputs": [
    {
     "data": {
      "text/plain": [
       "['Central:0',\n",
       " 'Central:1',\n",
       " 'Northeast:0',\n",
       " 'Northeast:1',\n",
       " 'Northwest:0',\n",
       " 'Northwest:1',\n",
       " 'Southeast:0',\n",
       " 'Southeast:1',\n",
       " 'Southwest:0',\n",
       " 'Southwest:1']"
      ]
     },
     "execution_count": 4,
     "metadata": {},
     "output_type": "execute_result"
    }
   ],
   "source": [
    "# get list of shop features\n",
    "sf = []\n",
    "features = list(shop_features.columns.drop('alias'))\n",
    "for v in range(2):\n",
    "    for f in features:\n",
    "        sf.append(f + ':' + str(v))\n",
    "\n",
    "sorted(sf)[:10]"
   ]
  },
  {
   "cell_type": "code",
   "execution_count": 229,
   "metadata": {},
   "outputs": [],
   "source": [
    "train_dataset = Dataset()\n",
    "train_dataset.fit(\n",
    "    list(train['userid'].unique()),           # train has all users\n",
    "    list(shop_features['alias'].unique()),    # train does not have all shops\n",
    "    item_features= sf\n",
    ")"
   ]
  },
  {
   "cell_type": "code",
   "execution_count": 230,
   "metadata": {},
   "outputs": [],
   "source": [
    "# user-item interaction matrix\n",
    "(interactions, weights) = train_dataset.build_interactions([(x[0], x[1], x[2]) for x in train.values])\n",
    "(interactions_val, weights_val) = train_dataset.build_interactions([(x[0], x[1], x[2]) for x in val.values])\n",
    "(interactions_test, weights_test) = train_dataset.build_interactions([(x[0], x[1], x[2]) for x in test.values])"
   ]
  },
  {
   "cell_type": "code",
   "execution_count": 231,
   "metadata": {},
   "outputs": [
    {
     "name": "stdout",
     "output_type": "stream",
     "text": [
      "('nylon-coffee-roasters-singapore', ['price_1:1', 'price_2:0', 'price_3:0', 'price_4:0', 'bakeries:0', 'bars:0', 'breakfast_brunch:0', 'cafes:0', 'coffeeroasteries:1', 'desserts:0', 'icecream:0', 'juicebars:0', 'sandwiches:0', 'themedcafes:0', 'Central:1', 'Northeast:0', 'Northwest:0', 'Southeast:0', 'Southwest:0'])\n"
     ]
    }
   ],
   "source": [
    "# shop feature matrix\n",
    "sf_tuple = []\n",
    "for shop_idx,row in enumerate(shop_features.drop('alias',axis=1).values):\n",
    "    sf_tuple.append((shop_features['alias'][shop_idx], [features[i] + ':' + str(col) for i,col in enumerate(row)]))\n",
    "print(sf_tuple[0])\n",
    "\n",
    "sf_mat = train_dataset.build_item_features(sf_tuple, normalize= False)"
   ]
  },
  {
   "cell_type": "code",
   "execution_count": 232,
   "metadata": {},
   "outputs": [],
   "source": [
    "user_id_map, user_feature_map, item_id_map, item_feature_map = train_dataset.mapping()"
   ]
  },
  {
   "cell_type": "code",
   "execution_count": 233,
   "metadata": {},
   "outputs": [],
   "source": [
    "results = {}\n",
    "\n",
    "for epoch in range(0,55,5):\n",
    "      model = LightFM(loss='warp', random_state=SEED,)\n",
    "      model.fit(\n",
    "            interactions,\n",
    "            item_features= sf_mat,\n",
    "            sample_weight= weights,\n",
    "            epochs=epoch,\n",
    "            num_threads=4,\n",
    "      )\n",
    "      train_score = recall_at_k(\n",
    "            model,\n",
    "            interactions,\n",
    "            item_features= sf_mat,\n",
    "            k=5\n",
    "      ).mean()\n",
    "\n",
    "      val_score = recall_at_k(\n",
    "            model,\n",
    "            interactions_val,\n",
    "            item_features= sf_mat,\n",
    "            k=5\n",
    "      ).mean()\n",
    "\n",
    "      results[epoch] = (train_score, val_score)"
   ]
  },
  {
   "cell_type": "code",
   "execution_count": 234,
   "metadata": {},
   "outputs": [
    {
     "data": {
      "image/png": "[encoded data removed]",
      "text/plain": [
       "<Figure size 432x288 with 1 Axes>"
      ]
     },
     "metadata": {
      "needs_background": "light"
     },
     "output_type": "display_data"
    }
   ],
   "source": [
    "import matplotlib.pyplot as plt\n",
    "plt.plot(*zip(*results.items()))\n",
    "plt.legend(['train','val'])\n",
    "plt.show()"
   ]
  },
  {
   "cell_type": "code",
   "execution_count": 242,
   "metadata": {},
   "outputs": [
    {
     "data": {
      "text/plain": [
       "0.03621730382293763"
      ]
     },
     "execution_count": 242,
     "metadata": {},
     "output_type": "execute_result"
    }
   ],
   "source": [
    "model = LightFM(loss='warp', random_state=SEED)\n",
    "model.fit(\n",
    "    interactions,\n",
    "    item_features= sf_mat,\n",
    "    sample_weight= weights,\n",
    "    epochs=5,\n",
    "    num_threads=4\n",
    ")\n",
    "\n",
    "recall_at_k(\n",
    "    model,\n",
    "    interactions_test,\n",
    "    item_features= sf_mat,\n",
    "    k=5\n",
    ").mean()"
   ]
  },
  {
   "cell_type": "code",
   "execution_count": 245,
   "metadata": {},
   "outputs": [
    {
     "data": {
      "text/plain": [
       "497"
      ]
     },
     "execution_count": 245,
     "metadata": {},
     "output_type": "execute_result"
    }
   ],
   "source": [
    "len(train['userid'].unique())"
   ]
  },
  {
   "cell_type": "code",
   "execution_count": 278,
   "metadata": {},
   "outputs": [],
   "source": [
    "preds = []\n",
    "for user in train['userid'].unique():\n",
    "    user_idx = user_id_map[user]\n",
    "    n_users, n_items = interactions.shape \n",
    "    preds.append(model.predict(user_idx, np.arange(n_items)))"
   ]
  },
  {
   "cell_type": "code",
   "execution_count": 309,
   "metadata": {},
   "outputs": [
    {
     "data": {
      "text/plain": [
       "array([[517,   0, 211, ..., 249, 255,  19],\n",
       "       [ 64,   6, 517, ..., 866, 310, 628],\n",
       "       [ 15, 517,   0, ...,  85, 489,  36],\n",
       "       ...,\n",
       "       [ 15,   0, 713, ..., 361,  85,  64],\n",
       "       [256, 631,  85, ..., 258, 393, 905],\n",
       "       [767, 275, 256, ..., 399, 905, 671]], dtype=int64)"
      ]
     },
     "execution_count": 309,
     "metadata": {},
     "output_type": "execute_result"
    }
   ],
   "source": [
    "preds = np.array(preds)\n",
    "preds_sort_idx = np.argsort(preds)\n",
    "preds_sort_idx_20 = np.flip(preds_sort_idx[:,-20:], axis=1)\n",
    "preds_sort_idx_20"
   ]
  },
  {
   "cell_type": "code",
   "execution_count": 336,
   "metadata": {},
   "outputs": [],
   "source": [
    "idx_item_map = {v:k for k,v in item_feature_map.items()}\n",
    "feature_embeddings = model.item_embeddings[interactions.shape[1]:]"
   ]
  },
  {
   "cell_type": "code",
   "execution_count": 419,
   "metadata": {},
   "outputs": [],
   "source": [
    "top_cared_aspects=10\n",
    "\n",
    "explanations = []\n",
    "for i,user in enumerate(train['userid'].unique()):\n",
    "    user_explanations = []\n",
    "    for shop_idx in preds_sort_idx_20[i]:\n",
    "        U = user\n",
    "        S = shop_idx\n",
    "\n",
    "        user2aspect_affinity = np.dot(feature_embeddings, model.user_embeddings[user_id_map[U]])\n",
    "        user2aspect_affinity = np.argsort(user2aspect_affinity)[::-1][:top_cared_aspects]\n",
    "        aspect_affinity_sorted = np.vectorize(idx_item_map.get)(user2aspect_affinity + interactions.shape[1])\n",
    "\n",
    "        item2aspect_quality = np.dot(feature_embeddings, model.item_embeddings[S])\n",
    "        item2aspect_quality = np.argsort(item2aspect_quality)[::-1]\n",
    "        aspect_quality_sorted = np.vectorize(idx_item_map.get)(item2aspect_quality + interactions.shape[1])\n",
    "\n",
    "        interested_aspect = aspect_quality_sorted[np.isin(aspect_quality_sorted, aspect_affinity_sorted)][0]\n",
    "        user_explanations.append(interested_aspect)\n",
    "    explanations.append(user_explanations)"
   ]
  },
  {
   "cell_type": "code",
   "execution_count": 422,
   "metadata": {},
   "outputs": [
    {
     "data": {
      "text/plain": [
       "['Southeast:1',\n",
       " 'coffeeroasteries:1',\n",
       " 'coffeeroasteries:1',\n",
       " 'Southeast:1',\n",
       " 'coffeeroasteries:1',\n",
       " 'coffeeroasteries:1',\n",
       " 'coffeeroasteries:1',\n",
       " 'bars:1',\n",
       " 'coffeeroasteries:1',\n",
       " 'Central:0',\n",
       " 'bars:1',\n",
       " 'bars:1',\n",
       " 'coffeeroasteries:1',\n",
       " 'coffeeroasteries:1',\n",
       " 'bars:1',\n",
       " 'Southeast:1',\n",
       " 'coffeeroasteries:1',\n",
       " 'coffeeroasteries:1',\n",
       " 'coffeeroasteries:1',\n",
       " 'coffeeroasteries:1']"
      ]
     },
     "execution_count": 422,
     "metadata": {},
     "output_type": "execute_result"
    }
   ],
   "source": [
    "explanations[300]"
   ]
  },
  {
   "cell_type": "code",
   "execution_count": 339,
   "metadata": {},
   "outputs": [
    {
     "data": {
      "text/plain": [
       "array([['maxwell-food-centre-singapore-3',\n",
       "        'nylon-coffee-roasters-singapore',\n",
       "        'laurent-bernard-chocolatier-singapore', ...,\n",
       "        'the-muffinry-bakery-and-cafe-singapore',\n",
       "        'the-bravery-cafe-singapore', 'sweetspot-singapore-2'],\n",
       "       ['the-book-cafe-singapore',\n",
       "        'common-man-coffee-roasters-singapore',\n",
       "        'maxwell-food-centre-singapore-3', ..., 'sunday-folks-singapore',\n",
       "        'jimmy-monkey-cafe-and-bar-singapore',\n",
       "        'chinatown-complex-market-and-food-centre-singapore'],\n",
       "       ['tiong-bahru-bakery-singapore-4',\n",
       "        'maxwell-food-centre-singapore-3',\n",
       "        'nylon-coffee-roasters-singapore', ..., 'd-good-cafe-singapore',\n",
       "        'penny-university-singapore',\n",
       "        'pacamara-boutique-coffee-roasters-singapore'],\n",
       "       ...,\n",
       "       ['tiong-bahru-bakery-singapore-4',\n",
       "        'nylon-coffee-roasters-singapore', 'level33-singapore-4', ...,\n",
       "        'food-for-thought-singapore', 'd-good-cafe-singapore',\n",
       "        'the-book-cafe-singapore'],\n",
       "       ['strangers-reunion-singapore', 'hoshino-coffee-singapore',\n",
       "        'd-good-cafe-singapore', ..., 'violet-oons-kitchen-singapore',\n",
       "        'paddy-hills-singapore', 'w39-singapore'],\n",
       "       ['twg-tea-singapore-3', 'jones-the-grocer-singapore-3',\n",
       "        'strangers-reunion-singapore', ..., 'ps-cafe-singapore-8',\n",
       "        'w39-singapore', 'bar-bar-black-sheep-no-title']], dtype='<U51')"
      ]
     },
     "execution_count": 339,
     "metadata": {},
     "output_type": "execute_result"
    }
   ],
   "source": [
    "shop_rec = np.vectorize(idx_item_map.get)(preds_sort_idx_20)\n",
    "shop_rec"
   ]
  },
  {
   "cell_type": "code",
   "execution_count": 437,
   "metadata": {},
   "outputs": [],
   "source": [
    "user_recs = pd.DataFrame.from_dict(dict(zip(train['userid'].unique(), shop_rec)), orient='index')\n",
    "user_rec_exps = pd.DataFrame.from_dict(dict(zip(train['userid'].unique(), explanations)), orient='index')\n",
    "user_recs.to_csv('../../results/outputs/lightFM_LOL_recommendations.csv')\n",
    "user_rec_exps.to_csv('../../results/outputs/lightFM_LOL_explanations.csv')"
   ]
  },
  {
   "cell_type": "code",
   "execution_count": 434,
   "metadata": {},
   "outputs": [
    {
     "data": {
      "text/html": [
       "<div>\n",
       "<style scoped>\n",
       "    .dataframe tbody tr th:only-of-type {\n",
       "        vertical-align: middle;\n",
       "    }\n",
       "\n",
       "    .dataframe tbody tr th {\n",
       "        vertical-align: top;\n",
       "    }\n",
       "\n",
       "    .dataframe thead th {\n",
       "        text-align: right;\n",
       "    }\n",
       "</style>\n",
       "<table border=\"1\" class=\"dataframe\">\n",
       "  <thead>\n",
       "    <tr style=\"text-align: right;\">\n",
       "      <th></th>\n",
       "      <th>0</th>\n",
       "      <th>1</th>\n",
       "      <th>2</th>\n",
       "      <th>3</th>\n",
       "      <th>4</th>\n",
       "      <th>5</th>\n",
       "      <th>6</th>\n",
       "      <th>7</th>\n",
       "      <th>8</th>\n",
       "      <th>9</th>\n",
       "      <th>10</th>\n",
       "      <th>11</th>\n",
       "      <th>12</th>\n",
       "      <th>13</th>\n",
       "      <th>14</th>\n",
       "      <th>15</th>\n",
       "      <th>16</th>\n",
       "      <th>17</th>\n",
       "      <th>18</th>\n",
       "      <th>19</th>\n",
       "    </tr>\n",
       "  </thead>\n",
       "  <tbody>\n",
       "    <tr>\n",
       "      <th>-5YMIME_WEin_by41Bj-3Q</th>\n",
       "      <td>maxwell-food-centre-singapore-3</td>\n",
       "      <td>nylon-coffee-roasters-singapore</td>\n",
       "      <td>laurent-bernard-chocolatier-singapore</td>\n",
       "      <td>ps-cafe-singapore-8</td>\n",
       "      <td>the-book-cafe-singapore</td>\n",
       "      <td>the-lokal-singapore</td>\n",
       "      <td>tiong-bahru-bakery-singapore-4</td>\n",
       "      <td>common-man-coffee-roasters-singapore</td>\n",
       "      <td>strangers-reunion-singapore</td>\n",
       "      <td>curious-palette-singapore</td>\n",
       "      <td>paddy-hills-singapore</td>\n",
       "      <td>twg-tea-singapore-3</td>\n",
       "      <td>da-paolo-gastronomia-bukit-timah-bukit-timah</td>\n",
       "      <td>jones-the-grocer-singapore-3</td>\n",
       "      <td>percolate-singapore</td>\n",
       "      <td>ps-cafe-petit-singapore</td>\n",
       "      <td>the-fabulous-baker-boy-singapore</td>\n",
       "      <td>the-muffinry-bakery-and-cafe-singapore</td>\n",
       "      <td>the-bravery-cafe-singapore</td>\n",
       "      <td>sweetspot-singapore-2</td>\n",
       "    </tr>\n",
       "    <tr>\n",
       "      <th>-G1YjYxjDpxOBzFgo36ORA</th>\n",
       "      <td>the-book-cafe-singapore</td>\n",
       "      <td>common-man-coffee-roasters-singapore</td>\n",
       "      <td>maxwell-food-centre-singapore-3</td>\n",
       "      <td>tiong-bahru-bakery-singapore-4</td>\n",
       "      <td>level33-singapore-4</td>\n",
       "      <td>my-awesome-cafe-singapore</td>\n",
       "      <td>the-assembly-ground-singapore</td>\n",
       "      <td>boufe-boutique-cafe-singapore</td>\n",
       "      <td>curious-palette-singapore</td>\n",
       "      <td>laurent-bernard-chocolatier-singapore</td>\n",
       "      <td>ps-cafe-petit-singapore</td>\n",
       "      <td>privé-café-singapore</td>\n",
       "      <td>plain-vanilla-bakery-singapore-2</td>\n",
       "      <td>spize-singapore-2</td>\n",
       "      <td>ps-cafe-singapore-8</td>\n",
       "      <td>wellsmoocht-singapore-2</td>\n",
       "      <td>twg-tea-on-the-bay-singapore</td>\n",
       "      <td>sunday-folks-singapore</td>\n",
       "      <td>jimmy-monkey-cafe-and-bar-singapore</td>\n",
       "      <td>chinatown-complex-market-and-food-centre-singa...</td>\n",
       "    </tr>\n",
       "    <tr>\n",
       "      <th>-WShM_YFbtG4OcE0vrFVyw</th>\n",
       "      <td>tiong-bahru-bakery-singapore-4</td>\n",
       "      <td>maxwell-food-centre-singapore-3</td>\n",
       "      <td>nylon-coffee-roasters-singapore</td>\n",
       "      <td>level33-singapore-4</td>\n",
       "      <td>common-man-coffee-roasters-singapore</td>\n",
       "      <td>group-therapy-coffee-singapore</td>\n",
       "      <td>sarnies-singapore</td>\n",
       "      <td>strangers-reunion-singapore</td>\n",
       "      <td>the-book-cafe-singapore</td>\n",
       "      <td>carpenter-and-cook-singapore</td>\n",
       "      <td>ps-cafe-singapore-8</td>\n",
       "      <td>paul-singapore-3</td>\n",
       "      <td>fika-singapore</td>\n",
       "      <td>ps-cafe-petit-singapore</td>\n",
       "      <td>patisserie-g-singapore</td>\n",
       "      <td>tiong-bahru-bakery-singapore</td>\n",
       "      <td>two-blur-guys-singapore</td>\n",
       "      <td>d-good-cafe-singapore</td>\n",
       "      <td>penny-university-singapore</td>\n",
       "      <td>pacamara-boutique-coffee-roasters-singapore</td>\n",
       "    </tr>\n",
       "    <tr>\n",
       "      <th>-XaIf12ricWc5z5BRt9nnQ</th>\n",
       "      <td>the-book-cafe-singapore</td>\n",
       "      <td>level33-singapore-4</td>\n",
       "      <td>tiong-bahru-bakery-singapore-4</td>\n",
       "      <td>jimmy-monkey-cafe-and-bar-singapore</td>\n",
       "      <td>drury-lane-singapore</td>\n",
       "      <td>strangers-reunion-singapore</td>\n",
       "      <td>nylon-coffee-roasters-singapore</td>\n",
       "      <td>common-man-coffee-roasters-singapore</td>\n",
       "      <td>food-for-thought-singapore</td>\n",
       "      <td>sarnies-singapore</td>\n",
       "      <td>ps-cafe-singapore-8</td>\n",
       "      <td>maxwell-food-centre-singapore-3</td>\n",
       "      <td>penny-university-singapore</td>\n",
       "      <td>symmetry-singapore</td>\n",
       "      <td>two-blur-guys-singapore</td>\n",
       "      <td>group-therapy-coffee-singapore</td>\n",
       "      <td>paul-singapore-3</td>\n",
       "      <td>carpenter-and-cook-singapore</td>\n",
       "      <td>violet-oons-kitchen-singapore</td>\n",
       "      <td>d-good-cafe-singapore</td>\n",
       "    </tr>\n",
       "    <tr>\n",
       "      <th>-fUWq6sOIEe1uTUhNKS9sQ</th>\n",
       "      <td>tiong-bahru-bakery-singapore-4</td>\n",
       "      <td>the-assembly-ground-singapore</td>\n",
       "      <td>level33-singapore-4</td>\n",
       "      <td>common-man-coffee-roasters-singapore</td>\n",
       "      <td>my-awesome-cafe-singapore</td>\n",
       "      <td>spize-singapore-2</td>\n",
       "      <td>maxwell-food-centre-singapore-3</td>\n",
       "      <td>tiong-bahru-food-market-and-hawker-centre-sing...</td>\n",
       "      <td>carpenter-and-cook-singapore</td>\n",
       "      <td>ps-cafe-petit-singapore</td>\n",
       "      <td>nylon-coffee-roasters-singapore</td>\n",
       "      <td>group-therapy-coffee-singapore</td>\n",
       "      <td>brawn-and-brains-coffee-singapore</td>\n",
       "      <td>plain-vanilla-bakery-singapore-2</td>\n",
       "      <td>wellsmoocht-singapore-2</td>\n",
       "      <td>flor-patisserie-singapore</td>\n",
       "      <td>sweetspot-singapore-2</td>\n",
       "      <td>la-ristrettos-singapore</td>\n",
       "      <td>wheelers-yard-singapore</td>\n",
       "      <td>fika-singapore</td>\n",
       "    </tr>\n",
       "  </tbody>\n",
       "</table>\n",
       "</div>"
      ],
      "text/plain": [
       "                                                     0   \\\n",
       "-5YMIME_WEin_by41Bj-3Q  maxwell-food-centre-singapore-3   \n",
       "-G1YjYxjDpxOBzFgo36ORA          the-book-cafe-singapore   \n",
       "-WShM_YFbtG4OcE0vrFVyw   tiong-bahru-bakery-singapore-4   \n",
       "-XaIf12ricWc5z5BRt9nnQ          the-book-cafe-singapore   \n",
       "-fUWq6sOIEe1uTUhNKS9sQ   tiong-bahru-bakery-singapore-4   \n",
       "\n",
       "                                                          1   \\\n",
       "-5YMIME_WEin_by41Bj-3Q       nylon-coffee-roasters-singapore   \n",
       "-G1YjYxjDpxOBzFgo36ORA  common-man-coffee-roasters-singapore   \n",
       "-WShM_YFbtG4OcE0vrFVyw       maxwell-food-centre-singapore-3   \n",
       "-XaIf12ricWc5z5BRt9nnQ                   level33-singapore-4   \n",
       "-fUWq6sOIEe1uTUhNKS9sQ         the-assembly-ground-singapore   \n",
       "\n",
       "                                                           2   \\\n",
       "-5YMIME_WEin_by41Bj-3Q  laurent-bernard-chocolatier-singapore   \n",
       "-G1YjYxjDpxOBzFgo36ORA        maxwell-food-centre-singapore-3   \n",
       "-WShM_YFbtG4OcE0vrFVyw        nylon-coffee-roasters-singapore   \n",
       "-XaIf12ricWc5z5BRt9nnQ         tiong-bahru-bakery-singapore-4   \n",
       "-fUWq6sOIEe1uTUhNKS9sQ                    level33-singapore-4   \n",
       "\n",
       "                                                          3   \\\n",
       "-5YMIME_WEin_by41Bj-3Q                   ps-cafe-singapore-8   \n",
       "-G1YjYxjDpxOBzFgo36ORA        tiong-bahru-bakery-singapore-4   \n",
       "-WShM_YFbtG4OcE0vrFVyw                   level33-singapore-4   \n",
       "-XaIf12ricWc5z5BRt9nnQ   jimmy-monkey-cafe-and-bar-singapore   \n",
       "-fUWq6sOIEe1uTUhNKS9sQ  common-man-coffee-roasters-singapore   \n",
       "\n",
       "                                                          4   \\\n",
       "-5YMIME_WEin_by41Bj-3Q               the-book-cafe-singapore   \n",
       "-G1YjYxjDpxOBzFgo36ORA                   level33-singapore-4   \n",
       "-WShM_YFbtG4OcE0vrFVyw  common-man-coffee-roasters-singapore   \n",
       "-XaIf12ricWc5z5BRt9nnQ                  drury-lane-singapore   \n",
       "-fUWq6sOIEe1uTUhNKS9sQ             my-awesome-cafe-singapore   \n",
       "\n",
       "                                                    5   \\\n",
       "-5YMIME_WEin_by41Bj-3Q             the-lokal-singapore   \n",
       "-G1YjYxjDpxOBzFgo36ORA       my-awesome-cafe-singapore   \n",
       "-WShM_YFbtG4OcE0vrFVyw  group-therapy-coffee-singapore   \n",
       "-XaIf12ricWc5z5BRt9nnQ     strangers-reunion-singapore   \n",
       "-fUWq6sOIEe1uTUhNKS9sQ               spize-singapore-2   \n",
       "\n",
       "                                                     6   \\\n",
       "-5YMIME_WEin_by41Bj-3Q   tiong-bahru-bakery-singapore-4   \n",
       "-G1YjYxjDpxOBzFgo36ORA    the-assembly-ground-singapore   \n",
       "-WShM_YFbtG4OcE0vrFVyw                sarnies-singapore   \n",
       "-XaIf12ricWc5z5BRt9nnQ  nylon-coffee-roasters-singapore   \n",
       "-fUWq6sOIEe1uTUhNKS9sQ  maxwell-food-centre-singapore-3   \n",
       "\n",
       "                                                                       7   \\\n",
       "-5YMIME_WEin_by41Bj-3Q               common-man-coffee-roasters-singapore   \n",
       "-G1YjYxjDpxOBzFgo36ORA                      boufe-boutique-cafe-singapore   \n",
       "-WShM_YFbtG4OcE0vrFVyw                        strangers-reunion-singapore   \n",
       "-XaIf12ricWc5z5BRt9nnQ               common-man-coffee-roasters-singapore   \n",
       "-fUWq6sOIEe1uTUhNKS9sQ  tiong-bahru-food-market-and-hawker-centre-sing...   \n",
       "\n",
       "                                                  8   \\\n",
       "-5YMIME_WEin_by41Bj-3Q   strangers-reunion-singapore   \n",
       "-G1YjYxjDpxOBzFgo36ORA     curious-palette-singapore   \n",
       "-WShM_YFbtG4OcE0vrFVyw       the-book-cafe-singapore   \n",
       "-XaIf12ricWc5z5BRt9nnQ    food-for-thought-singapore   \n",
       "-fUWq6sOIEe1uTUhNKS9sQ  carpenter-and-cook-singapore   \n",
       "\n",
       "                                                           9   \\\n",
       "-5YMIME_WEin_by41Bj-3Q              curious-palette-singapore   \n",
       "-G1YjYxjDpxOBzFgo36ORA  laurent-bernard-chocolatier-singapore   \n",
       "-WShM_YFbtG4OcE0vrFVyw           carpenter-and-cook-singapore   \n",
       "-XaIf12ricWc5z5BRt9nnQ                      sarnies-singapore   \n",
       "-fUWq6sOIEe1uTUhNKS9sQ                ps-cafe-petit-singapore   \n",
       "\n",
       "                                                     10  \\\n",
       "-5YMIME_WEin_by41Bj-3Q            paddy-hills-singapore   \n",
       "-G1YjYxjDpxOBzFgo36ORA          ps-cafe-petit-singapore   \n",
       "-WShM_YFbtG4OcE0vrFVyw              ps-cafe-singapore-8   \n",
       "-XaIf12ricWc5z5BRt9nnQ              ps-cafe-singapore-8   \n",
       "-fUWq6sOIEe1uTUhNKS9sQ  nylon-coffee-roasters-singapore   \n",
       "\n",
       "                                                     11  \\\n",
       "-5YMIME_WEin_by41Bj-3Q              twg-tea-singapore-3   \n",
       "-G1YjYxjDpxOBzFgo36ORA             privé-café-singapore   \n",
       "-WShM_YFbtG4OcE0vrFVyw                 paul-singapore-3   \n",
       "-XaIf12ricWc5z5BRt9nnQ  maxwell-food-centre-singapore-3   \n",
       "-fUWq6sOIEe1uTUhNKS9sQ   group-therapy-coffee-singapore   \n",
       "\n",
       "                                                                  12  \\\n",
       "-5YMIME_WEin_by41Bj-3Q  da-paolo-gastronomia-bukit-timah-bukit-timah   \n",
       "-G1YjYxjDpxOBzFgo36ORA              plain-vanilla-bakery-singapore-2   \n",
       "-WShM_YFbtG4OcE0vrFVyw                                fika-singapore   \n",
       "-XaIf12ricWc5z5BRt9nnQ                    penny-university-singapore   \n",
       "-fUWq6sOIEe1uTUhNKS9sQ             brawn-and-brains-coffee-singapore   \n",
       "\n",
       "                                                      13  \\\n",
       "-5YMIME_WEin_by41Bj-3Q      jones-the-grocer-singapore-3   \n",
       "-G1YjYxjDpxOBzFgo36ORA                 spize-singapore-2   \n",
       "-WShM_YFbtG4OcE0vrFVyw           ps-cafe-petit-singapore   \n",
       "-XaIf12ricWc5z5BRt9nnQ                symmetry-singapore   \n",
       "-fUWq6sOIEe1uTUhNKS9sQ  plain-vanilla-bakery-singapore-2   \n",
       "\n",
       "                                             14  \\\n",
       "-5YMIME_WEin_by41Bj-3Q      percolate-singapore   \n",
       "-G1YjYxjDpxOBzFgo36ORA      ps-cafe-singapore-8   \n",
       "-WShM_YFbtG4OcE0vrFVyw   patisserie-g-singapore   \n",
       "-XaIf12ricWc5z5BRt9nnQ  two-blur-guys-singapore   \n",
       "-fUWq6sOIEe1uTUhNKS9sQ  wellsmoocht-singapore-2   \n",
       "\n",
       "                                                    15  \\\n",
       "-5YMIME_WEin_by41Bj-3Q         ps-cafe-petit-singapore   \n",
       "-G1YjYxjDpxOBzFgo36ORA         wellsmoocht-singapore-2   \n",
       "-WShM_YFbtG4OcE0vrFVyw    tiong-bahru-bakery-singapore   \n",
       "-XaIf12ricWc5z5BRt9nnQ  group-therapy-coffee-singapore   \n",
       "-fUWq6sOIEe1uTUhNKS9sQ       flor-patisserie-singapore   \n",
       "\n",
       "                                                      16  \\\n",
       "-5YMIME_WEin_by41Bj-3Q  the-fabulous-baker-boy-singapore   \n",
       "-G1YjYxjDpxOBzFgo36ORA      twg-tea-on-the-bay-singapore   \n",
       "-WShM_YFbtG4OcE0vrFVyw           two-blur-guys-singapore   \n",
       "-XaIf12ricWc5z5BRt9nnQ                  paul-singapore-3   \n",
       "-fUWq6sOIEe1uTUhNKS9sQ             sweetspot-singapore-2   \n",
       "\n",
       "                                                            17  \\\n",
       "-5YMIME_WEin_by41Bj-3Q  the-muffinry-bakery-and-cafe-singapore   \n",
       "-G1YjYxjDpxOBzFgo36ORA                  sunday-folks-singapore   \n",
       "-WShM_YFbtG4OcE0vrFVyw                   d-good-cafe-singapore   \n",
       "-XaIf12ricWc5z5BRt9nnQ            carpenter-and-cook-singapore   \n",
       "-fUWq6sOIEe1uTUhNKS9sQ                 la-ristrettos-singapore   \n",
       "\n",
       "                                                         18  \\\n",
       "-5YMIME_WEin_by41Bj-3Q           the-bravery-cafe-singapore   \n",
       "-G1YjYxjDpxOBzFgo36ORA  jimmy-monkey-cafe-and-bar-singapore   \n",
       "-WShM_YFbtG4OcE0vrFVyw           penny-university-singapore   \n",
       "-XaIf12ricWc5z5BRt9nnQ        violet-oons-kitchen-singapore   \n",
       "-fUWq6sOIEe1uTUhNKS9sQ              wheelers-yard-singapore   \n",
       "\n",
       "                                                                       19  \n",
       "-5YMIME_WEin_by41Bj-3Q                              sweetspot-singapore-2  \n",
       "-G1YjYxjDpxOBzFgo36ORA  chinatown-complex-market-and-food-centre-singa...  \n",
       "-WShM_YFbtG4OcE0vrFVyw        pacamara-boutique-coffee-roasters-singapore  \n",
       "-XaIf12ricWc5z5BRt9nnQ                              d-good-cafe-singapore  \n",
       "-fUWq6sOIEe1uTUhNKS9sQ                                     fika-singapore  "
      ]
     },
     "execution_count": 434,
     "metadata": {},
     "output_type": "execute_result"
    }
   ],
   "source": [
    "user_recs.head()"
   ]
  },
  {
   "cell_type": "code",
   "execution_count": 435,
   "metadata": {},
   "outputs": [
    {
     "data": {
      "text/html": [
       "<div>\n",
       "<style scoped>\n",
       "    .dataframe tbody tr th:only-of-type {\n",
       "        vertical-align: middle;\n",
       "    }\n",
       "\n",
       "    .dataframe tbody tr th {\n",
       "        vertical-align: top;\n",
       "    }\n",
       "\n",
       "    .dataframe thead th {\n",
       "        text-align: right;\n",
       "    }\n",
       "</style>\n",
       "<table border=\"1\" class=\"dataframe\">\n",
       "  <thead>\n",
       "    <tr style=\"text-align: right;\">\n",
       "      <th></th>\n",
       "      <th>0</th>\n",
       "      <th>1</th>\n",
       "      <th>2</th>\n",
       "      <th>3</th>\n",
       "      <th>4</th>\n",
       "      <th>5</th>\n",
       "      <th>6</th>\n",
       "      <th>7</th>\n",
       "      <th>8</th>\n",
       "      <th>9</th>\n",
       "      <th>10</th>\n",
       "      <th>11</th>\n",
       "      <th>12</th>\n",
       "      <th>13</th>\n",
       "      <th>14</th>\n",
       "      <th>15</th>\n",
       "      <th>16</th>\n",
       "      <th>17</th>\n",
       "      <th>18</th>\n",
       "      <th>19</th>\n",
       "    </tr>\n",
       "  </thead>\n",
       "  <tbody>\n",
       "    <tr>\n",
       "      <th>-5YMIME_WEin_by41Bj-3Q</th>\n",
       "      <td>sandwiches:1</td>\n",
       "      <td>juicebars:1</td>\n",
       "      <td>price_2:0</td>\n",
       "      <td>sandwiches:1</td>\n",
       "      <td>sandwiches:1</td>\n",
       "      <td>price_4:1</td>\n",
       "      <td>juicebars:1</td>\n",
       "      <td>juicebars:1</td>\n",
       "      <td>Southwest:1</td>\n",
       "      <td>price_4:1</td>\n",
       "      <td>price_4:1</td>\n",
       "      <td>price_4:1</td>\n",
       "      <td>price_4:1</td>\n",
       "      <td>price_4:1</td>\n",
       "      <td>price_1:1</td>\n",
       "      <td>Northeast:0</td>\n",
       "      <td>juicebars:1</td>\n",
       "      <td>price_1:1</td>\n",
       "      <td>sandwiches:1</td>\n",
       "      <td>price_2:0</td>\n",
       "    </tr>\n",
       "    <tr>\n",
       "      <th>-G1YjYxjDpxOBzFgo36ORA</th>\n",
       "      <td>price_3:1</td>\n",
       "      <td>bars:1</td>\n",
       "      <td>bars:1</td>\n",
       "      <td>bars:1</td>\n",
       "      <td>bars:1</td>\n",
       "      <td>price_3:1</td>\n",
       "      <td>price_3:1</td>\n",
       "      <td>desserts:1</td>\n",
       "      <td>desserts:1</td>\n",
       "      <td>desserts:1</td>\n",
       "      <td>price_3:1</td>\n",
       "      <td>price_3:1</td>\n",
       "      <td>Central:1</td>\n",
       "      <td>cafes:1</td>\n",
       "      <td>price_3:1</td>\n",
       "      <td>cafes:1</td>\n",
       "      <td>bars:1</td>\n",
       "      <td>price_3:1</td>\n",
       "      <td>bars:1</td>\n",
       "      <td>Northwest:0</td>\n",
       "    </tr>\n",
       "    <tr>\n",
       "      <th>-WShM_YFbtG4OcE0vrFVyw</th>\n",
       "      <td>Southeast:1</td>\n",
       "      <td>Northwest:0</td>\n",
       "      <td>Central:0</td>\n",
       "      <td>Southeast:1</td>\n",
       "      <td>Southeast:1</td>\n",
       "      <td>price_2:1</td>\n",
       "      <td>Central:0</td>\n",
       "      <td>Central:0</td>\n",
       "      <td>cafes:1</td>\n",
       "      <td>Southeast:1</td>\n",
       "      <td>price_2:1</td>\n",
       "      <td>Central:0</td>\n",
       "      <td>desserts:0</td>\n",
       "      <td>cafes:1</td>\n",
       "      <td>Southeast:1</td>\n",
       "      <td>Central:0</td>\n",
       "      <td>Southeast:1</td>\n",
       "      <td>Central:0</td>\n",
       "      <td>Southeast:1</td>\n",
       "      <td>themedcafes:1</td>\n",
       "    </tr>\n",
       "    <tr>\n",
       "      <th>-XaIf12ricWc5z5BRt9nnQ</th>\n",
       "      <td>price_3:1</td>\n",
       "      <td>Southeast:1</td>\n",
       "      <td>coffeeroasteries:1</td>\n",
       "      <td>bars:1</td>\n",
       "      <td>bars:1</td>\n",
       "      <td>coffeeroasteries:1</td>\n",
       "      <td>coffeeroasteries:1</td>\n",
       "      <td>coffeeroasteries:1</td>\n",
       "      <td>bars:1</td>\n",
       "      <td>Central:0</td>\n",
       "      <td>price_3:1</td>\n",
       "      <td>coffeeroasteries:1</td>\n",
       "      <td>Southeast:1</td>\n",
       "      <td>coffeeroasteries:1</td>\n",
       "      <td>bars:1</td>\n",
       "      <td>coffeeroasteries:1</td>\n",
       "      <td>coffeeroasteries:1</td>\n",
       "      <td>coffeeroasteries:1</td>\n",
       "      <td>bars:1</td>\n",
       "      <td>coffeeroasteries:1</td>\n",
       "    </tr>\n",
       "    <tr>\n",
       "      <th>-fUWq6sOIEe1uTUhNKS9sQ</th>\n",
       "      <td>coffeeroasteries:1</td>\n",
       "      <td>bakeries:1</td>\n",
       "      <td>coffeeroasteries:1</td>\n",
       "      <td>coffeeroasteries:1</td>\n",
       "      <td>coffeeroasteries:1</td>\n",
       "      <td>coffeeroasteries:1</td>\n",
       "      <td>coffeeroasteries:1</td>\n",
       "      <td>bakeries:1</td>\n",
       "      <td>coffeeroasteries:1</td>\n",
       "      <td>bakeries:1</td>\n",
       "      <td>coffeeroasteries:1</td>\n",
       "      <td>bakeries:1</td>\n",
       "      <td>bakeries:1</td>\n",
       "      <td>coffeeroasteries:1</td>\n",
       "      <td>coffeeroasteries:1</td>\n",
       "      <td>bakeries:1</td>\n",
       "      <td>bakeries:1</td>\n",
       "      <td>bakeries:1</td>\n",
       "      <td>bakeries:1</td>\n",
       "      <td>bakeries:1</td>\n",
       "    </tr>\n",
       "  </tbody>\n",
       "</table>\n",
       "</div>"
      ],
      "text/plain": [
       "                                        0            1                   2   \\\n",
       "-5YMIME_WEin_by41Bj-3Q        sandwiches:1  juicebars:1           price_2:0   \n",
       "-G1YjYxjDpxOBzFgo36ORA           price_3:1       bars:1              bars:1   \n",
       "-WShM_YFbtG4OcE0vrFVyw         Southeast:1  Northwest:0           Central:0   \n",
       "-XaIf12ricWc5z5BRt9nnQ           price_3:1  Southeast:1  coffeeroasteries:1   \n",
       "-fUWq6sOIEe1uTUhNKS9sQ  coffeeroasteries:1   bakeries:1  coffeeroasteries:1   \n",
       "\n",
       "                                        3                   4   \\\n",
       "-5YMIME_WEin_by41Bj-3Q        sandwiches:1        sandwiches:1   \n",
       "-G1YjYxjDpxOBzFgo36ORA              bars:1              bars:1   \n",
       "-WShM_YFbtG4OcE0vrFVyw         Southeast:1         Southeast:1   \n",
       "-XaIf12ricWc5z5BRt9nnQ              bars:1              bars:1   \n",
       "-fUWq6sOIEe1uTUhNKS9sQ  coffeeroasteries:1  coffeeroasteries:1   \n",
       "\n",
       "                                        5                   6   \\\n",
       "-5YMIME_WEin_by41Bj-3Q           price_4:1         juicebars:1   \n",
       "-G1YjYxjDpxOBzFgo36ORA           price_3:1           price_3:1   \n",
       "-WShM_YFbtG4OcE0vrFVyw           price_2:1           Central:0   \n",
       "-XaIf12ricWc5z5BRt9nnQ  coffeeroasteries:1  coffeeroasteries:1   \n",
       "-fUWq6sOIEe1uTUhNKS9sQ  coffeeroasteries:1  coffeeroasteries:1   \n",
       "\n",
       "                                        7                   8            9   \\\n",
       "-5YMIME_WEin_by41Bj-3Q         juicebars:1         Southwest:1    price_4:1   \n",
       "-G1YjYxjDpxOBzFgo36ORA          desserts:1          desserts:1   desserts:1   \n",
       "-WShM_YFbtG4OcE0vrFVyw           Central:0             cafes:1  Southeast:1   \n",
       "-XaIf12ricWc5z5BRt9nnQ  coffeeroasteries:1              bars:1    Central:0   \n",
       "-fUWq6sOIEe1uTUhNKS9sQ          bakeries:1  coffeeroasteries:1   bakeries:1   \n",
       "\n",
       "                                        10                  11           12  \\\n",
       "-5YMIME_WEin_by41Bj-3Q           price_4:1           price_4:1    price_4:1   \n",
       "-G1YjYxjDpxOBzFgo36ORA           price_3:1           price_3:1    Central:1   \n",
       "-WShM_YFbtG4OcE0vrFVyw           price_2:1           Central:0   desserts:0   \n",
       "-XaIf12ricWc5z5BRt9nnQ           price_3:1  coffeeroasteries:1  Southeast:1   \n",
       "-fUWq6sOIEe1uTUhNKS9sQ  coffeeroasteries:1          bakeries:1   bakeries:1   \n",
       "\n",
       "                                        13                  14  \\\n",
       "-5YMIME_WEin_by41Bj-3Q           price_4:1           price_1:1   \n",
       "-G1YjYxjDpxOBzFgo36ORA             cafes:1           price_3:1   \n",
       "-WShM_YFbtG4OcE0vrFVyw             cafes:1         Southeast:1   \n",
       "-XaIf12ricWc5z5BRt9nnQ  coffeeroasteries:1              bars:1   \n",
       "-fUWq6sOIEe1uTUhNKS9sQ  coffeeroasteries:1  coffeeroasteries:1   \n",
       "\n",
       "                                        15                  16  \\\n",
       "-5YMIME_WEin_by41Bj-3Q         Northeast:0         juicebars:1   \n",
       "-G1YjYxjDpxOBzFgo36ORA             cafes:1              bars:1   \n",
       "-WShM_YFbtG4OcE0vrFVyw           Central:0         Southeast:1   \n",
       "-XaIf12ricWc5z5BRt9nnQ  coffeeroasteries:1  coffeeroasteries:1   \n",
       "-fUWq6sOIEe1uTUhNKS9sQ          bakeries:1          bakeries:1   \n",
       "\n",
       "                                        17            18                  19  \n",
       "-5YMIME_WEin_by41Bj-3Q           price_1:1  sandwiches:1           price_2:0  \n",
       "-G1YjYxjDpxOBzFgo36ORA           price_3:1        bars:1         Northwest:0  \n",
       "-WShM_YFbtG4OcE0vrFVyw           Central:0   Southeast:1       themedcafes:1  \n",
       "-XaIf12ricWc5z5BRt9nnQ  coffeeroasteries:1        bars:1  coffeeroasteries:1  \n",
       "-fUWq6sOIEe1uTUhNKS9sQ          bakeries:1    bakeries:1          bakeries:1  "
      ]
     },
     "execution_count": 435,
     "metadata": {},
     "output_type": "execute_result"
    }
   ],
   "source": [
    "user_rec_exps.head()"
   ]
  },
  {
   "cell_type": "markdown",
   "metadata": {},
   "source": [
    "## Temporal Global Split"
   ]
  },
  {
   "cell_type": "code",
   "execution_count": 6,
   "metadata": {},
   "outputs": [],
   "source": [
    "train = pd.read_csv(PATH + 'processed/' + 'train_tgs.csv')[['userid', 'shop', 'rating']]\n",
    "val = pd.read_csv(PATH + 'processed/' + 'val_tgs.csv')[['userid', 'shop', 'rating']]\n",
    "test = pd.read_csv(PATH + 'processed/' + 'test_tgs.csv')[['userid', 'shop', 'rating']]\n",
    "\n",
    "shop_features = pd.read_csv(PATH + 'processed/' + 'coffee_shops_context.csv')"
   ]
  },
  {
   "cell_type": "code",
   "execution_count": 7,
   "metadata": {},
   "outputs": [],
   "source": [
    "train_dataset = Dataset()\n",
    "train_dataset.fit(\n",
    "    list(train['userid'].unique()),           # train has all users\n",
    "    list(shop_features['alias'].unique()),    # train does not have all shops\n",
    "    item_features= sf\n",
    ")"
   ]
  },
  {
   "cell_type": "code",
   "execution_count": 8,
   "metadata": {},
   "outputs": [
    {
     "ename": "ValueError",
     "evalue": "User id eipO40vDyfHFXug2ElJ7Yg not in user id mapping. Make sure you call the fit method.",
     "output_type": "error",
     "traceback": [
      "\u001b[1;31m---------------------------------------------------------------------------\u001b[0m",
      "\u001b[1;31mValueError\u001b[0m                                Traceback (most recent call last)",
      "\u001b[1;32m<ipython-input-8-8c294023f2dd>\u001b[0m in \u001b[0;36m<module>\u001b[1;34m\u001b[0m\n\u001b[0;32m      1\u001b[0m \u001b[1;31m# user-item interaction matrix\u001b[0m\u001b[1;33m\u001b[0m\u001b[1;33m\u001b[0m\u001b[1;33m\u001b[0m\u001b[0m\n\u001b[0;32m      2\u001b[0m \u001b[1;33m(\u001b[0m\u001b[0minteractions\u001b[0m\u001b[1;33m,\u001b[0m \u001b[0mweights\u001b[0m\u001b[1;33m)\u001b[0m \u001b[1;33m=\u001b[0m \u001b[0mtrain_dataset\u001b[0m\u001b[1;33m.\u001b[0m\u001b[0mbuild_interactions\u001b[0m\u001b[1;33m(\u001b[0m\u001b[1;33m[\u001b[0m\u001b[1;33m(\u001b[0m\u001b[0mx\u001b[0m\u001b[1;33m[\u001b[0m\u001b[1;36m0\u001b[0m\u001b[1;33m]\u001b[0m\u001b[1;33m,\u001b[0m \u001b[0mx\u001b[0m\u001b[1;33m[\u001b[0m\u001b[1;36m1\u001b[0m\u001b[1;33m]\u001b[0m\u001b[1;33m,\u001b[0m \u001b[0mx\u001b[0m\u001b[1;33m[\u001b[0m\u001b[1;36m2\u001b[0m\u001b[1;33m]\u001b[0m\u001b[1;33m)\u001b[0m \u001b[1;32mfor\u001b[0m \u001b[0mx\u001b[0m \u001b[1;32min\u001b[0m \u001b[0mtrain\u001b[0m\u001b[1;33m.\u001b[0m\u001b[0mvalues\u001b[0m\u001b[1;33m]\u001b[0m\u001b[1;33m)\u001b[0m\u001b[1;33m\u001b[0m\u001b[1;33m\u001b[0m\u001b[0m\n\u001b[1;32m----> 3\u001b[1;33m \u001b[1;33m(\u001b[0m\u001b[0minteractions_val\u001b[0m\u001b[1;33m,\u001b[0m \u001b[0mweights_val\u001b[0m\u001b[1;33m)\u001b[0m \u001b[1;33m=\u001b[0m \u001b[0mtrain_dataset\u001b[0m\u001b[1;33m.\u001b[0m\u001b[0mbuild_interactions\u001b[0m\u001b[1;33m(\u001b[0m\u001b[1;33m[\u001b[0m\u001b[1;33m(\u001b[0m\u001b[0mx\u001b[0m\u001b[1;33m[\u001b[0m\u001b[1;36m0\u001b[0m\u001b[1;33m]\u001b[0m\u001b[1;33m,\u001b[0m \u001b[0mx\u001b[0m\u001b[1;33m[\u001b[0m\u001b[1;36m1\u001b[0m\u001b[1;33m]\u001b[0m\u001b[1;33m,\u001b[0m \u001b[0mx\u001b[0m\u001b[1;33m[\u001b[0m\u001b[1;36m2\u001b[0m\u001b[1;33m]\u001b[0m\u001b[1;33m)\u001b[0m \u001b[1;32mfor\u001b[0m \u001b[0mx\u001b[0m \u001b[1;32min\u001b[0m \u001b[0mval\u001b[0m\u001b[1;33m.\u001b[0m\u001b[0mvalues\u001b[0m\u001b[1;33m]\u001b[0m\u001b[1;33m)\u001b[0m\u001b[1;33m\u001b[0m\u001b[1;33m\u001b[0m\u001b[0m\n\u001b[0m\u001b[0;32m      4\u001b[0m \u001b[1;33m(\u001b[0m\u001b[0minteractions_test\u001b[0m\u001b[1;33m,\u001b[0m \u001b[0mweights_test\u001b[0m\u001b[1;33m)\u001b[0m \u001b[1;33m=\u001b[0m \u001b[0mtrain_dataset\u001b[0m\u001b[1;33m.\u001b[0m\u001b[0mbuild_interactions\u001b[0m\u001b[1;33m(\u001b[0m\u001b[1;33m[\u001b[0m\u001b[1;33m(\u001b[0m\u001b[0mx\u001b[0m\u001b[1;33m[\u001b[0m\u001b[1;36m0\u001b[0m\u001b[1;33m]\u001b[0m\u001b[1;33m,\u001b[0m \u001b[0mx\u001b[0m\u001b[1;33m[\u001b[0m\u001b[1;36m1\u001b[0m\u001b[1;33m]\u001b[0m\u001b[1;33m,\u001b[0m \u001b[0mx\u001b[0m\u001b[1;33m[\u001b[0m\u001b[1;36m2\u001b[0m\u001b[1;33m]\u001b[0m\u001b[1;33m)\u001b[0m \u001b[1;32mfor\u001b[0m \u001b[0mx\u001b[0m \u001b[1;32min\u001b[0m \u001b[0mtest\u001b[0m\u001b[1;33m.\u001b[0m\u001b[0mvalues\u001b[0m\u001b[1;33m]\u001b[0m\u001b[1;33m)\u001b[0m\u001b[1;33m\u001b[0m\u001b[1;33m\u001b[0m\u001b[0m\n",
      "\u001b[1;32mc:\\Users\\TeYang\\AppData\\Local\\Programs\\Python\\Python39\\lib\\site-packages\\lightfm\\data.py\u001b[0m in \u001b[0;36mbuild_interactions\u001b[1;34m(self, data)\u001b[0m\n\u001b[0;32m    319\u001b[0m \u001b[1;33m\u001b[0m\u001b[0m\n\u001b[0;32m    320\u001b[0m         \u001b[1;32mfor\u001b[0m \u001b[0mdatum\u001b[0m \u001b[1;32min\u001b[0m \u001b[0mdata\u001b[0m\u001b[1;33m:\u001b[0m\u001b[1;33m\u001b[0m\u001b[1;33m\u001b[0m\u001b[0m\n\u001b[1;32m--> 321\u001b[1;33m             \u001b[0muser_idx\u001b[0m\u001b[1;33m,\u001b[0m \u001b[0mitem_idx\u001b[0m\u001b[1;33m,\u001b[0m \u001b[0mweight\u001b[0m \u001b[1;33m=\u001b[0m \u001b[0mself\u001b[0m\u001b[1;33m.\u001b[0m\u001b[0m_unpack_datum\u001b[0m\u001b[1;33m(\u001b[0m\u001b[0mdatum\u001b[0m\u001b[1;33m)\u001b[0m\u001b[1;33m\u001b[0m\u001b[1;33m\u001b[0m\u001b[0m\n\u001b[0m\u001b[0;32m    322\u001b[0m \u001b[1;33m\u001b[0m\u001b[0m\n\u001b[0;32m    323\u001b[0m             \u001b[0minteractions\u001b[0m\u001b[1;33m.\u001b[0m\u001b[0mappend\u001b[0m\u001b[1;33m(\u001b[0m\u001b[0muser_idx\u001b[0m\u001b[1;33m,\u001b[0m \u001b[0mitem_idx\u001b[0m\u001b[1;33m,\u001b[0m \u001b[1;36m1\u001b[0m\u001b[1;33m)\u001b[0m\u001b[1;33m\u001b[0m\u001b[1;33m\u001b[0m\u001b[0m\n",
      "\u001b[1;32mc:\\Users\\TeYang\\AppData\\Local\\Programs\\Python\\Python39\\lib\\site-packages\\lightfm\\data.py\u001b[0m in \u001b[0;36m_unpack_datum\u001b[1;34m(self, datum)\u001b[0m\n\u001b[0;32m    270\u001b[0m \u001b[1;33m\u001b[0m\u001b[0m\n\u001b[0;32m    271\u001b[0m         \u001b[1;32mif\u001b[0m \u001b[0muser_idx\u001b[0m \u001b[1;32mis\u001b[0m \u001b[1;32mNone\u001b[0m\u001b[1;33m:\u001b[0m\u001b[1;33m\u001b[0m\u001b[1;33m\u001b[0m\u001b[0m\n\u001b[1;32m--> 272\u001b[1;33m             raise ValueError(\n\u001b[0m\u001b[0;32m    273\u001b[0m                 \u001b[1;34m\"User id {} not in user id mapping. Make sure \"\u001b[0m\u001b[1;33m\u001b[0m\u001b[1;33m\u001b[0m\u001b[0m\n\u001b[0;32m    274\u001b[0m                 \u001b[1;34m\"you call the fit method.\"\u001b[0m\u001b[1;33m.\u001b[0m\u001b[0mformat\u001b[0m\u001b[1;33m(\u001b[0m\u001b[0muser_id\u001b[0m\u001b[1;33m)\u001b[0m\u001b[1;33m\u001b[0m\u001b[1;33m\u001b[0m\u001b[0m\n",
      "\u001b[1;31mValueError\u001b[0m: User id eipO40vDyfHFXug2ElJ7Yg not in user id mapping. Make sure you call the fit method."
     ]
    }
   ],
   "source": [
    "# user-item interaction matrix\n",
    "(interactions, weights) = train_dataset.build_interactions([(x[0], x[1], x[2]) for x in train.values])\n",
    "(interactions_val, weights_val) = train_dataset.build_interactions([(x[0], x[1], x[2]) for x in val.values])\n",
    "(interactions_test, weights_test) = train_dataset.build_interactions([(x[0], x[1], x[2]) for x in test.values])"
   ]
  },
  {
   "cell_type": "code",
   "execution_count": null,
   "metadata": {},
   "outputs": [],
   "source": []
  }
 ],
 "metadata": {
  "kernelspec": {
   "display_name": "Python 3.9.4 64-bit",
   "language": "python",
   "name": "python3"
  },
  "language_info": {
   "codemirror_mode": {
    "name": "ipython",
    "version": 3
   },
   "file_extension": ".py",
   "mimetype": "text/x-python",
   "name": "python",
   "nbconvert_exporter": "python",
   "pygments_lexer": "ipython3",
   "version": "3.9.4"
  },
  "orig_nbformat": 4,
  "vscode": {
   "interpreter": {
    "hash": "586d209818bf684a449db8f551e5b280da9ad8c053944ce342fb8dd6eec39ab8"
   }
  }
 },
 "nbformat": 4,
 "nbformat_minor": 2
}
