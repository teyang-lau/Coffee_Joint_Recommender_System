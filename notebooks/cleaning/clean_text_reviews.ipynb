{
 "cells": [
  {
   "cell_type": "code",
   "execution_count": 1,
   "metadata": {},
   "outputs": [],
   "source": [
    "import pandas as pd\n",
    "from html import unescape"
   ]
  },
  {
   "cell_type": "code",
   "execution_count": 2,
   "metadata": {},
   "outputs": [],
   "source": [
    "PATH = '../../data/'"
   ]
  },
  {
   "cell_type": "code",
   "execution_count": 49,
   "metadata": {},
   "outputs": [
    {
     "data": {
      "text/html": [
       "<div>\n",
       "<style scoped>\n",
       "    .dataframe tbody tr th:only-of-type {\n",
       "        vertical-align: middle;\n",
       "    }\n",
       "\n",
       "    .dataframe tbody tr th {\n",
       "        vertical-align: top;\n",
       "    }\n",
       "\n",
       "    .dataframe thead th {\n",
       "        text-align: right;\n",
       "    }\n",
       "</style>\n",
       "<table border=\"1\" class=\"dataframe\">\n",
       "  <thead>\n",
       "    <tr style=\"text-align: right;\">\n",
       "      <th></th>\n",
       "      <th>shop</th>\n",
       "      <th>userid</th>\n",
       "      <th>userinfo</th>\n",
       "      <th>rating</th>\n",
       "      <th>date</th>\n",
       "      <th>photos</th>\n",
       "      <th>username</th>\n",
       "      <th>language</th>\n",
       "      <th>text</th>\n",
       "    </tr>\n",
       "  </thead>\n",
       "  <tbody>\n",
       "    <tr>\n",
       "      <th>0</th>\n",
       "      <td>nylon-coffee-roasters-singapore</td>\n",
       "      <td>AbfS_oXF8H6HJb5jFqhrLw</td>\n",
       "      <td>{'link': '/user_details?userid=AbfS_oXF8H6HJb5...</td>\n",
       "      <td>5.0</td>\n",
       "      <td>4/11/2016</td>\n",
       "      <td>[]</td>\n",
       "      <td>Paco G.</td>\n",
       "      <td>en</td>\n",
       "      <td>A comfortable, no-frills coffee shop right in ...</td>\n",
       "    </tr>\n",
       "    <tr>\n",
       "      <th>1</th>\n",
       "      <td>nylon-coffee-roasters-singapore</td>\n",
       "      <td>ymiohz-DlNLHGAlXbVhw5A</td>\n",
       "      <td>{'link': '/user_details?userid=ymiohz-DlNLHGAl...</td>\n",
       "      <td>4.0</td>\n",
       "      <td>11/11/2019</td>\n",
       "      <td>[{'src': 'https://s3-media0.fl.yelpcdn.com/bph...</td>\n",
       "      <td>Sudipto G.</td>\n",
       "      <td>en</td>\n",
       "      <td>A hard to find coffee place tucked away in the...</td>\n",
       "    </tr>\n",
       "    <tr>\n",
       "      <th>2</th>\n",
       "      <td>nylon-coffee-roasters-singapore</td>\n",
       "      <td>-g3XIcCb2b-BD0QBCcq2Sw</td>\n",
       "      <td>{'link': '/user_details?userid=-g3XIcCb2b-BD0Q...</td>\n",
       "      <td>4.0</td>\n",
       "      <td>12/13/2019</td>\n",
       "      <td>[{'src': 'https://s3-media0.fl.yelpcdn.com/bph...</td>\n",
       "      <td>Lisa I.</td>\n",
       "      <td>en</td>\n",
       "      <td>Great little coffee shop that&amp;amp;#39;s in the...</td>\n",
       "    </tr>\n",
       "    <tr>\n",
       "      <th>3</th>\n",
       "      <td>nylon-coffee-roasters-singapore</td>\n",
       "      <td>gfyW0vuJls8ARoHmogfcmw</td>\n",
       "      <td>{'link': '/user_details?userid=gfyW0vuJls8ARoH...</td>\n",
       "      <td>4.0</td>\n",
       "      <td>2/6/2020</td>\n",
       "      <td>[]</td>\n",
       "      <td>Marilyn T.</td>\n",
       "      <td>en</td>\n",
       "      <td>This place came highly recommended by a friend...</td>\n",
       "    </tr>\n",
       "    <tr>\n",
       "      <th>4</th>\n",
       "      <td>nylon-coffee-roasters-singapore</td>\n",
       "      <td>jkr3YVCEoRNKkxinUZpW6A</td>\n",
       "      <td>{'link': '/user_details?userid=jkr3YVCEoRNKkxi...</td>\n",
       "      <td>3.0</td>\n",
       "      <td>2/12/2015</td>\n",
       "      <td>[]</td>\n",
       "      <td>Joanne G.</td>\n",
       "      <td>en</td>\n",
       "      <td>My great auntie has lived at Everton Park for ...</td>\n",
       "    </tr>\n",
       "  </tbody>\n",
       "</table>\n",
       "</div>"
      ],
      "text/plain": [
       "                              shop                  userid  \\\n",
       "0  nylon-coffee-roasters-singapore  AbfS_oXF8H6HJb5jFqhrLw   \n",
       "1  nylon-coffee-roasters-singapore  ymiohz-DlNLHGAlXbVhw5A   \n",
       "2  nylon-coffee-roasters-singapore  -g3XIcCb2b-BD0QBCcq2Sw   \n",
       "3  nylon-coffee-roasters-singapore  gfyW0vuJls8ARoHmogfcmw   \n",
       "4  nylon-coffee-roasters-singapore  jkr3YVCEoRNKkxinUZpW6A   \n",
       "\n",
       "                                            userinfo  rating        date  \\\n",
       "0  {'link': '/user_details?userid=AbfS_oXF8H6HJb5...     5.0   4/11/2016   \n",
       "1  {'link': '/user_details?userid=ymiohz-DlNLHGAl...     4.0  11/11/2019   \n",
       "2  {'link': '/user_details?userid=-g3XIcCb2b-BD0Q...     4.0  12/13/2019   \n",
       "3  {'link': '/user_details?userid=gfyW0vuJls8ARoH...     4.0    2/6/2020   \n",
       "4  {'link': '/user_details?userid=jkr3YVCEoRNKkxi...     3.0   2/12/2015   \n",
       "\n",
       "                                              photos    username language  \\\n",
       "0                                                 []     Paco G.       en   \n",
       "1  [{'src': 'https://s3-media0.fl.yelpcdn.com/bph...  Sudipto G.       en   \n",
       "2  [{'src': 'https://s3-media0.fl.yelpcdn.com/bph...     Lisa I.       en   \n",
       "3                                                 []  Marilyn T.       en   \n",
       "4                                                 []   Joanne G.       en   \n",
       "\n",
       "                                                text  \n",
       "0  A comfortable, no-frills coffee shop right in ...  \n",
       "1  A hard to find coffee place tucked away in the...  \n",
       "2  Great little coffee shop that&amp;#39;s in the...  \n",
       "3  This place came highly recommended by a friend...  \n",
       "4  My great auntie has lived at Everton Park for ...  "
      ]
     },
     "execution_count": 49,
     "metadata": {},
     "output_type": "execute_result"
    }
   ],
   "source": [
    "reviews = pd.read_csv(PATH + 'intermediate/' + 'sg_coffee_reviews_final.csv')\n",
    "reviews.head()"
   ]
  },
  {
   "cell_type": "code",
   "execution_count": 50,
   "metadata": {},
   "outputs": [
    {
     "data": {
      "text/plain": [
       "'A comfortable, no-frills coffee shop right in the Everton Park HDB. It&amp;#39;s a bit hard to find among the buildings, but it&amp;#39;s worth looking for.<br&gt;<br&gt;Nylon Coffee Roasters is better defined by saying what they don&amp;#39;t have: No chairs, no sofa, no frapuccinos, no syrup, no whipped cream, no fancy oversized mugs, no merchandise, no bossa n&amp;#39; whatever music, no paper cups with your name misspelled on them. They are very clear on what they offer: excellent quality coffee. The menu is quite simple: three different brews, either hot or iced. They will let you choose which coffee you want, and they have amazing Central or South American beans to choose from. At the centre, there is a big table for people to stand around while enjoying a quick cup.<br&gt;<br&gt;The staff are very efficient and friendly. One of them took time to ask me how my coffee was (it was fantastic! Perfect taste). I challenge anyone to tell me if they have seen that happen on a franchise coffee shop. And this is the main virtue of this place. They are obsessed with quality. They use scales, thermometers and timers in order to brew the perfect cup of coffee every time. Even the stuff they sell is useful stuff: filters, cups, brewing tools instead of merchandise. They are on a mission to raise the bar on Singapore&amp;#39;s coffee culture and, judging by the crowd of customers, they are succeeding.<br&gt;<br&gt;There are two basic philosophies when it comes to coffee bars. There are those that focus on their atmosphere, furniture, and general feel, sacrificing the coffee. On the other hand, there are those that focus on the quality of the coffee they serve. Nylon Coffee Roasters are clearly of the second kind, and that is always welcome.'"
      ]
     },
     "execution_count": 50,
     "metadata": {},
     "output_type": "execute_result"
    }
   ],
   "source": [
    "reviews['text'][0]"
   ]
  },
  {
   "cell_type": "code",
   "execution_count": 51,
   "metadata": {},
   "outputs": [
    {
     "data": {
      "text/plain": [
       "\"A comfortable, no-frills coffee shop right in the Everton Park HDB. It's a bit hard to find among the buildings, but it's worth looking for.<br><br>Nylon Coffee Roasters is better defined by saying what they don't have: No chairs, no sofa, no frapuccinos, no syrup, no whipped cream, no fancy oversized mugs, no merchandise, no bossa n' whatever music, no paper cups with your name misspelled on them. They are very clear on what they offer: excellent quality coffee. The menu is quite simple: three different brews, either hot or iced. They will let you choose which coffee you want, and they have amazing Central or South American beans to choose from. At the centre, there is a big table for people to stand around while enjoying a quick cup.<br><br>The staff are very efficient and friendly. One of them took time to ask me how my coffee was (it was fantastic! Perfect taste). I challenge anyone to tell me if they have seen that happen on a franchise coffee shop. And this is the main virtue of this place. They are obsessed with quality. They use scales, thermometers and timers in order to brew the perfect cup of coffee every time. Even the stuff they sell is useful stuff: filters, cups, brewing tools instead of merchandise. They are on a mission to raise the bar on Singapore's coffee culture and, judging by the crowd of customers, they are succeeding.<br><br>There are two basic philosophies when it comes to coffee bars. There are those that focus on their atmosphere, furniture, and general feel, sacrificing the coffee. On the other hand, there are those that focus on the quality of the coffee they serve. Nylon Coffee Roasters are clearly of the second kind, and that is always welcome.\""
      ]
     },
     "execution_count": 51,
     "metadata": {},
     "output_type": "execute_result"
    }
   ],
   "source": [
    "unescape(unescape(reviews['text'][0]))\n"
   ]
  },
  {
   "cell_type": "code",
   "execution_count": 52,
   "metadata": {},
   "outputs": [],
   "source": [
    "def clean_text(text):\n",
    "    # replace html entities\n",
    "    text = unescape(unescape(text))\n",
    "\n",
    "    text = text.replace('<br>', '\\n')\n",
    "    text = text.replace(u'\\xa0', u' ')\n",
    "\n",
    "    return text"
   ]
  },
  {
   "cell_type": "code",
   "execution_count": 53,
   "metadata": {},
   "outputs": [],
   "source": [
    "reviews['text'] = reviews['text'].apply(lambda x: clean_text(x))"
   ]
  },
  {
   "cell_type": "code",
   "execution_count": 55,
   "metadata": {},
   "outputs": [
    {
     "data": {
      "text/plain": [
       "\"A comfortable, no-frills coffee shop right in the Everton Park HDB. It's a bit hard to find among the buildings, but it's worth looking for.\\n\\nNylon Coffee Roasters is better defined by saying what they don't have: No chairs, no sofa, no frapuccinos, no syrup, no whipped cream, no fancy oversized mugs, no merchandise, no bossa n' whatever music, no paper cups with your name misspelled on them. They are very clear on what they offer: excellent quality coffee. The menu is quite simple: three different brews, either hot or iced. They will let you choose which coffee you want, and they have amazing Central or South American beans to choose from. At the centre, there is a big table for people to stand around while enjoying a quick cup.\\n\\nThe staff are very efficient and friendly. One of them took time to ask me how my coffee was (it was fantastic! Perfect taste). I challenge anyone to tell me if they have seen that happen on a franchise coffee shop. And this is the main virtue of this place. They are obsessed with quality. They use scales, thermometers and timers in order to brew the perfect cup of coffee every time. Even the stuff they sell is useful stuff: filters, cups, brewing tools instead of merchandise. They are on a mission to raise the bar on Singapore's coffee culture and, judging by the crowd of customers, they are succeeding.\\n\\nThere are two basic philosophies when it comes to coffee bars. There are those that focus on their atmosphere, furniture, and general feel, sacrificing the coffee. On the other hand, there are those that focus on the quality of the coffee they serve. Nylon Coffee Roasters are clearly of the second kind, and that is always welcome.\""
      ]
     },
     "execution_count": 55,
     "metadata": {},
     "output_type": "execute_result"
    }
   ],
   "source": [
    "reviews['text'][0]"
   ]
  },
  {
   "cell_type": "code",
   "execution_count": 56,
   "metadata": {},
   "outputs": [
    {
     "name": "stdout",
     "output_type": "stream",
     "text": [
      "A comfortable, no-frills coffee shop right in the Everton Park HDB. It's a bit hard to find among the buildings, but it's worth looking for.\n",
      "\n",
      "Nylon Coffee Roasters is better defined by saying what they don't have: No chairs, no sofa, no frapuccinos, no syrup, no whipped cream, no fancy oversized mugs, no merchandise, no bossa n' whatever music, no paper cups with your name misspelled on them. They are very clear on what they offer: excellent quality coffee. The menu is quite simple: three different brews, either hot or iced. They will let you choose which coffee you want, and they have amazing Central or South American beans to choose from. At the centre, there is a big table for people to stand around while enjoying a quick cup.\n",
      "\n",
      "The staff are very efficient and friendly. One of them took time to ask me how my coffee was (it was fantastic! Perfect taste). I challenge anyone to tell me if they have seen that happen on a franchise coffee shop. And this is the main virtue of this place. They are obsessed with quality. They use scales, thermometers and timers in order to brew the perfect cup of coffee every time. Even the stuff they sell is useful stuff: filters, cups, brewing tools instead of merchandise. They are on a mission to raise the bar on Singapore's coffee culture and, judging by the crowd of customers, they are succeeding.\n",
      "\n",
      "There are two basic philosophies when it comes to coffee bars. There are those that focus on their atmosphere, furniture, and general feel, sacrificing the coffee. On the other hand, there are those that focus on the quality of the coffee they serve. Nylon Coffee Roasters are clearly of the second kind, and that is always welcome.\n"
     ]
    }
   ],
   "source": [
    "print(reviews['text'][0])"
   ]
  },
  {
   "cell_type": "code",
   "execution_count": 57,
   "metadata": {},
   "outputs": [],
   "source": [
    "reviews.to_csv(PATH + 'processed/' + 'sg_coffee_reviews_final.csv', index=False)"
   ]
  },
  {
   "cell_type": "code",
   "execution_count": 12,
   "metadata": {},
   "outputs": [
    {
     "data": {
      "text/plain": [
       "\"[{'alias': 'coffee', 'title': 'Coffee & Tea'}]\""
      ]
     },
     "execution_count": 12,
     "metadata": {},
     "output_type": "execute_result"
    }
   ],
   "source": [
    "coffee_shops['categories'][2]"
   ]
  },
  {
   "cell_type": "code",
   "execution_count": 13,
   "metadata": {},
   "outputs": [
    {
     "data": {
      "text/plain": [
       "\"[{'alias': 'coffeeroasteries', 'title': 'Coffee Roasteries'}]\""
      ]
     },
     "execution_count": 13,
     "metadata": {},
     "output_type": "execute_result"
    }
   ],
   "source": [
    "coffee_shops['categories'][0]"
   ]
  },
  {
   "cell_type": "code",
   "execution_count": 17,
   "metadata": {},
   "outputs": [
    {
     "data": {
      "text/plain": [
       "\"[{'alias': 'coffeeroasteries', 'title': 'Coffee Roasteries'}, {'alias': 'breakfast_brunch', 'title': 'Breakfast & Brunch'}]\""
      ]
     },
     "execution_count": 17,
     "metadata": {},
     "output_type": "execute_result"
    }
   ],
   "source": [
    "coffee_shops['categories'][1]"
   ]
  },
  {
   "cell_type": "code",
   "execution_count": null,
   "metadata": {},
   "outputs": [],
   "source": [
    "def get_shop_type(x):\n",
    "    return [d['alias'] for d in ast.literal_eval(x)]"
   ]
  }
 ],
 "metadata": {
  "interpreter": {
   "hash": "586d209818bf684a449db8f551e5b280da9ad8c053944ce342fb8dd6eec39ab8"
  },
  "kernelspec": {
   "display_name": "Python 3.9.4 64-bit",
   "language": "python",
   "name": "python3"
  },
  "language_info": {
   "codemirror_mode": {
    "name": "ipython",
    "version": 3
   },
   "file_extension": ".py",
   "mimetype": "text/x-python",
   "name": "python",
   "nbconvert_exporter": "python",
   "pygments_lexer": "ipython3",
   "version": "3.9.4"
  },
  "orig_nbformat": 4
 },
 "nbformat": 4,
 "nbformat_minor": 2
}
